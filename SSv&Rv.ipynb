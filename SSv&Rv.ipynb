{
  "nbformat": 4,
  "nbformat_minor": 0,
  "metadata": {
    "colab": {
      "provenance": [],
      "authorship_tag": "ABX9TyOTs2uwF+yukPZh7WJ31Av3",
      "include_colab_link": true
    },
    "kernelspec": {
      "name": "python3",
      "display_name": "Python 3"
    },
    "language_info": {
      "name": "python"
    }
  },
  "cells": [
    {
      "cell_type": "markdown",
      "metadata": {
        "id": "view-in-github",
        "colab_type": "text"
      },
      "source": [
        "<a href=\"https://colab.research.google.com/github/Ming1182/Ming1182/blob/main/SSv%26Rv.ipynb\" target=\"_parent\"><img src=\"https://colab.research.google.com/assets/colab-badge.svg\" alt=\"Open In Colab\"/></a>"
      ]
    },
    {
      "cell_type": "code",
      "execution_count": null,
      "metadata": {
        "colab": {
          "base_uri": "https://localhost:8080/"
        },
        "id": "KLpp3z-IhRJe",
        "outputId": "f71b9a16-d2ea-4970-aaab-8dd679696112"
      },
      "outputs": [
        {
          "output_type": "stream",
          "name": "stdout",
          "text": [
            "Requirement already satisfied: sympy in /usr/local/lib/python3.10/dist-packages (1.12)\n",
            "Requirement already satisfied: mpmath>=0.19 in /usr/local/lib/python3.10/dist-packages (from sympy) (1.3.0)\n"
          ]
        }
      ],
      "source": [
        "pip install sympy"
      ]
    },
    {
      "cell_type": "code",
      "source": [
        "from sympy import symbols, diff\n",
        "import numpy as np\n",
        "import matplotlib.pyplot as plt\n"
      ],
      "metadata": {
        "id": "hJhGeaMEhhYP"
      },
      "execution_count": null,
      "outputs": []
    },
    {
      "cell_type": "markdown",
      "source": [
        "Sets: \\\\\n",
        "A: Set of antigens \\\\\n",
        "V: Set of vaccines \\\\\n",
        "Aᵥ: Set of antigens supplied by vaccine v ∈ V, A_v ⊂ A \\\\\n",
        "Vₐ: Set of vaccines supplying antigen a ∈ A, V_a ⊂ V \\\\\n",
        "\n",
        "Parameters: \\\\\n",
        "Supᵥ: Total supply of vaccine v ∈ V per day across all suppliers \\\\\n",
        "mᵥ: Number of suppliers of vaccine v ∈ V \\\\\n",
        "pᵥ: Probability of supply interruprion at suppliers of vaccine v ∈ V \\\\\n",
        "ϕᵥₐ: Fraction of antigen a ∈ A demand supplied by vaccine v ∈ V \\\\\n",
        "l : constant for the delivery time of vaccines from manufacturer to destinatio once supply is restored. \\\\\n",
        "\n",
        "Variables: \\\\\n",
        "Iₗ: Interruption length by given distribution with mean and standard deviation \\\\\n",
        "Nᵥ: Number of suppliers of vaccine v ∈ V out of mᵥ facing supply interruption over a year. (Nᵥ ~ B(mᵥ,pᵥ)) \\\\\n",
        "Kᵥ: Supply shortage levels of vaccine v ∈ V when vaccine v faces supply interruption \\\\\n",
        "Dₐ: Lead-time demand for antigen a ∈ A across all vaccines facing interruption \\\\\n",
        "Dᵥ: Lead-time demand for vaccine v ∈ V due to any common antigen supplying vaccines facing interruption \\\\"
      ],
      "metadata": {
        "id": "vqfe8kysmSlW"
      }
    },
    {
      "cell_type": "code",
      "source": [
        "Sup_v = symbols('Sup_v') #\n",
        "m_v = symbols('m_v')\n",
        "p_v = symbols('p_v')\n",
        "V_Il = symbols('V_Il')\n",
        "E_Il = symbols('E_Il')\n",
        "l = symbols('l')\n",
        "Z = symbols('Z')\n",
        "phi_va= symbols('phi_va')\n",
        "\n",
        "\n",
        "W_va = symbols('W_va')\n",
        "\n",
        "# SSv - ss for a single vaccine\n",
        "dSSv = (phi_va-1)*Z*(Sup_v/m_v)*(2*(m_v*p_v-m_v*(p_v**2)+(m_v**2)*(p_v**2))*V_Il+(m_v*p_v-m_v*(p_v**2))*((l**2)-2*l*E_Il+(E_Il**2)))**(1/2)\n",
        "dSSv"
      ],
      "metadata": {
        "colab": {
          "base_uri": "https://localhost:8080/",
          "height": 62
        },
        "id": "cd6Dh4YAhuvN",
        "outputId": "6a5699d6-b0b7-4389-cff7-4728ea73f874"
      },
      "execution_count": null,
      "outputs": [
        {
          "output_type": "execute_result",
          "data": {
            "text/plain": [
              "Sup_v*Z*(phi_va - 1)*(V_Il*(2*m_v**2*p_v**2 - 2*m_v*p_v**2 + 2*m_v*p_v) + (-m_v*p_v**2 + m_v*p_v)*(E_Il**2 - 2*E_Il*l + l**2))**0.5/m_v"
            ],
            "text/latex": "$\\displaystyle \\frac{Sup_{v} Z \\left(\\phi_{va} - 1\\right) \\left(V_{Il} \\left(2 m_{v}^{2} p_{v}^{2} - 2 m_{v} p_{v}^{2} + 2 m_{v} p_{v}\\right) + \\left(- m_{v} p_{v}^{2} + m_{v} p_{v}\\right) \\left(E_{Il}^{2} - 2 E_{Il} l + l^{2}\\right)\\right)^{0.5}}{m_{v}}$"
          },
          "metadata": {},
          "execution_count": 3
        }
      ]
    },
    {
      "cell_type": "code",
      "source": [
        "dSSv_m = diff(dSSv, m_v)\n",
        "print(\"dSSv/dm_v=\")\n",
        "print(dSSv_m)\n",
        "dSSv_m"
      ],
      "metadata": {
        "colab": {
          "base_uri": "https://localhost:8080/",
          "height": 166
        },
        "id": "bxkS_dVok4Ej",
        "outputId": "36775cbf-ad58-4c7f-ea80-5580061a0996"
      },
      "execution_count": null,
      "outputs": [
        {
          "output_type": "stream",
          "name": "stdout",
          "text": [
            "dSSv/dm_v=\n",
            "Sup_v*Z*(phi_va - 1)*(0.5*V_Il*(4*m_v*p_v**2 - 2*p_v**2 + 2*p_v) + 0.5*(-p_v**2 + p_v)*(E_Il**2 - 2*E_Il*l + l**2))/(m_v*(V_Il*(2*m_v**2*p_v**2 - 2*m_v*p_v**2 + 2*m_v*p_v) + (-m_v*p_v**2 + m_v*p_v)*(E_Il**2 - 2*E_Il*l + l**2))**0.5) - Sup_v*Z*(phi_va - 1)*(V_Il*(2*m_v**2*p_v**2 - 2*m_v*p_v**2 + 2*m_v*p_v) + (-m_v*p_v**2 + m_v*p_v)*(E_Il**2 - 2*E_Il*l + l**2))**0.5/m_v**2\n"
          ]
        },
        {
          "output_type": "execute_result",
          "data": {
            "text/plain": [
              "Sup_v*Z*(phi_va - 1)*(0.5*V_Il*(4*m_v*p_v**2 - 2*p_v**2 + 2*p_v) + 0.5*(-p_v**2 + p_v)*(E_Il**2 - 2*E_Il*l + l**2))/(m_v*(V_Il*(2*m_v**2*p_v**2 - 2*m_v*p_v**2 + 2*m_v*p_v) + (-m_v*p_v**2 + m_v*p_v)*(E_Il**2 - 2*E_Il*l + l**2))**0.5) - Sup_v*Z*(phi_va - 1)*(V_Il*(2*m_v**2*p_v**2 - 2*m_v*p_v**2 + 2*m_v*p_v) + (-m_v*p_v**2 + m_v*p_v)*(E_Il**2 - 2*E_Il*l + l**2))**0.5/m_v**2"
            ],
            "text/latex": "$\\displaystyle \\frac{Sup_{v} Z \\left(\\phi_{va} - 1\\right) \\left(0.5 V_{Il} \\left(4 m_{v} p_{v}^{2} - 2 p_{v}^{2} + 2 p_{v}\\right) + 0.5 \\left(- p_{v}^{2} + p_{v}\\right) \\left(E_{Il}^{2} - 2 E_{Il} l + l^{2}\\right)\\right)}{m_{v} \\left(V_{Il} \\left(2 m_{v}^{2} p_{v}^{2} - 2 m_{v} p_{v}^{2} + 2 m_{v} p_{v}\\right) + \\left(- m_{v} p_{v}^{2} + m_{v} p_{v}\\right) \\left(E_{Il}^{2} - 2 E_{Il} l + l^{2}\\right)\\right)^{0.5}} - \\frac{Sup_{v} Z \\left(\\phi_{va} - 1\\right) \\left(V_{Il} \\left(2 m_{v}^{2} p_{v}^{2} - 2 m_{v} p_{v}^{2} + 2 m_{v} p_{v}\\right) + \\left(- m_{v} p_{v}^{2} + m_{v} p_{v}\\right) \\left(E_{Il}^{2} - 2 E_{Il} l + l^{2}\\right)\\right)^{0.5}}{m_{v}^{2}}$"
          },
          "metadata": {},
          "execution_count": 4
        }
      ]
    },
    {
      "cell_type": "code",
      "source": [
        "import sympy as sp\n",
        "\n",
        "m_v, p_v, V_Il, E_Il, l, Sup_v, phi_va, Z = sp.symbols('m_v p_v V_Il E_Il l Sup_v phi_va Z')\n",
        "\n",
        "\n",
        "dSSv = (phi_va - 1) * Z * (Sup_v / m_v) * sp.sqrt(2*\n",
        "    (m_v * p_v - m_v * (p_v**2) + (m_v**2) * (p_v**2)) * V_Il +\n",
        "    (m_v * p_v - m_v * (p_v**2)) * ((l**2) - 2 * l * E_Il + (E_Il**2))\n",
        ")\n",
        "\n",
        "dSSv_dm_v = sp.diff(dSSv, m_v)\n",
        "\n",
        "\n",
        "# Simplify the expression for clarity in order to reduce the running time\n",
        "dSSv_dm_v_simplified = dSSv_dm_v.simplify()\n",
        "\n",
        "\n",
        "# Parameters:\n",
        "n = {p_v: 0.06, V_Il: 322.696, E_Il: 13.544, l: 7, Sup_v: 20399877, phi_va: 0.5, Z: 0.95} # phi_va r.v. := W_va/ sum of W_va (0,1)!\n",
        "\n",
        "# Create a lambda function\n",
        "dSSv_dm_v_func = sp.lambdify(m_v, dSSv_dm_v_simplified.subs(n), 'numpy')\n",
        "\n",
        "\n",
        "# Values for m_v ranging from 0.01 to 20, avoiding zero to prevent division by zero errors\n",
        "m_v_values = np.linspace(0.01, 7, 1000)\n",
        "\n",
        "\n",
        "# Evaluate the derivative\n",
        "dSSv_dm_v_values = dSSv_dm_v_func(m_v_values)\n",
        "\n",
        "\n",
        "\n",
        "plt.plot(m_v_values, dSSv_dm_v_values, label='dSSv/dm_v')\n",
        "plt.title('Derivative of SSv with respect to m_v')\n",
        "plt.xlabel('m_v')\n",
        "plt.ylabel('dSSv/dm_v')\n",
        "plt.grid(True)\n",
        "plt.legend()\n",
        "\n",
        "\n",
        "dSSv_dm_v_simplified"
      ],
      "metadata": {
        "colab": {
          "base_uri": "https://localhost:8080/",
          "height": 518
        },
        "id": "jViMJahm8faz",
        "outputId": "a48ba9e8-9511-4fe4-b9b5-7366e2682f7d"
      },
      "execution_count": null,
      "outputs": [
        {
          "output_type": "execute_result",
          "data": {
            "text/plain": [
              "Sup_v*Z*p_v*(phi_va - 1)*(-4*V_Il*(m_v*p_v - p_v + 1) + 2*V_Il*(2*m_v*p_v - p_v + 1) + (p_v - 1)*(E_Il**2 - 2*E_Il*l + l**2))/(2*m_v*sqrt(m_v*p_v*(2*V_Il*(m_v*p_v - p_v + 1) - (p_v - 1)*(E_Il**2 - 2*E_Il*l + l**2))))"
            ],
            "text/latex": "$\\displaystyle \\frac{Sup_{v} Z p_{v} \\left(\\phi_{va} - 1\\right) \\left(- 4 V_{Il} \\left(m_{v} p_{v} - p_{v} + 1\\right) + 2 V_{Il} \\left(2 m_{v} p_{v} - p_{v} + 1\\right) + \\left(p_{v} - 1\\right) \\left(E_{Il}^{2} - 2 E_{Il} l + l^{2}\\right)\\right)}{2 m_{v} \\sqrt{m_{v} p_{v} \\left(2 V_{Il} \\left(m_{v} p_{v} - p_{v} + 1\\right) - \\left(p_{v} - 1\\right) \\left(E_{Il}^{2} - 2 E_{Il} l + l^{2}\\right)\\right)}}$"
          },
          "metadata": {},
          "execution_count": 5
        },
        {
          "output_type": "display_data",
          "data": {
            "text/plain": [
              "<Figure size 640x480 with 1 Axes>"
            ],
            "image/png": "[encoded data removed]"
          },
          "metadata": {}
        }
      ]
    },
    {
      "cell_type": "code",
      "source": [
        "dSSv_dp_v = sp.diff(dSSv, p_v)\n",
        "\n",
        "# Simplify the expression for clarity in order to reduce the running time\n",
        "\n",
        "dSSv_dp_v_simplified = dSSv_dp_v.simplify()\n",
        "\n",
        "# Parameters:\n",
        "n = {m_v: 1, V_Il: 322.696, E_Il: 13.544, l: 7, Sup_v: 20399877, phi_va: 0.5, Z: 0.95}\n",
        "\n",
        "# Create a lambda function\n",
        "dSSv_dp_v_func = sp.lambdify(p_v, dSSv_dp_v_simplified.subs(n), 'numpy')\n",
        "\n",
        "\n",
        "p_v_values = np.linspace(0, 1, 1000)\n",
        "\n",
        "# Evaluate the derivative\n",
        "dSSv_dp_v_values = dSSv_dp_v_func(p_v_values)\n",
        "\n",
        "\n",
        "plt.plot(p_v_values, dSSv_dp_v_values, label='dSSv/dp_v')\n",
        "plt.title('Derivative of SSv with respect to p_v')\n",
        "plt.xlabel('p_v')\n",
        "plt.ylabel('dSSv/dp_v')\n",
        "plt.grid(True)\n",
        "plt.legend()\n",
        "\n",
        "dSSv_dp_v_simplified"
      ],
      "metadata": {
        "colab": {
          "base_uri": "https://localhost:8080/",
          "height": 554
        },
        "id": "AQTCRIZI4iCw",
        "outputId": "c442888c-a98e-4805-ef75-efed8c0d374f"
      },
      "execution_count": null,
      "outputs": [
        {
          "output_type": "stream",
          "name": "stderr",
          "text": [
            "<lambdifygenerated-109>:2: RuntimeWarning: divide by zero encountered in divide\n",
            "  return -4844970.7875*(688.215936 - 85.647872*p_v)/sqrt(p_v*(688.215936 - 42.823936*p_v))\n"
          ]
        },
        {
          "output_type": "execute_result",
          "data": {
            "text/plain": [
              "Sup_v*Z*(phi_va - 1)*(2*V_Il*(2*m_v*p_v - 2*p_v + 1) - (2*p_v - 1)*(E_Il**2 - 2*E_Il*l + l**2))/(2*sqrt(m_v*p_v*(2*V_Il*(m_v*p_v - p_v + 1) - (p_v - 1)*(E_Il**2 - 2*E_Il*l + l**2))))"
            ],
            "text/latex": "$\\displaystyle \\frac{Sup_{v} Z \\left(\\phi_{va} - 1\\right) \\left(2 V_{Il} \\left(2 m_{v} p_{v} - 2 p_{v} + 1\\right) - \\left(2 p_{v} - 1\\right) \\left(E_{Il}^{2} - 2 E_{Il} l + l^{2}\\right)\\right)}{2 \\sqrt{m_{v} p_{v} \\left(2 V_{Il} \\left(m_{v} p_{v} - p_{v} + 1\\right) - \\left(p_{v} - 1\\right) \\left(E_{Il}^{2} - 2 E_{Il} l + l^{2}\\right)\\right)}}$"
          },
          "metadata": {},
          "execution_count": 176
        },
        {
          "output_type": "display_data",
          "data": {
            "text/plain": [
              "<Figure size 640x480 with 1 Axes>"
            ],
            "image/png": "[encoded data removed]"
          },
          "metadata": {}
        }
      ]
    },
    {
      "cell_type": "code",
      "source": [
        "dSSv_dE = sp.diff(dSSv, E_Il)\n",
        "\n",
        "# Simplify the expression for clarity in order to reduce the running time\n",
        "\n",
        "dSSv_dE_simplified = dSSv_dE.simplify()\n",
        "\n",
        "# Parameters:\n",
        "n = {m_v: 7, V_Il: 322.696, p_v: 0.06, l: 7, Sup_v: 20399877, phi_va: 0.5, Z: 0.95}\n",
        "\n",
        "# Create a lambda function\n",
        "dSSv_dE_func = sp.lambdify(E_Il, dSSv_dE_simplified.subs(n), 'numpy')\n",
        "\n",
        "\n",
        "E_Il_values = np.linspace(0, 20, 1000)\n",
        "\n",
        "# Evaluate the derivative\n",
        "dSSv_dE_values = dSSv_dE_func(E_Il_values)\n",
        "\n",
        "\n",
        "plt.plot(E_Il_values, dSSv_dE_values, label='dSSv/dE_Il')\n",
        "plt.title('Derivative of SSv with respect to E_Il')\n",
        "plt.xlabel('E_Il')\n",
        "plt.ylabel('dSSv/dE_Il')\n",
        "plt.grid(True)\n",
        "plt.legend()\n",
        "\n",
        "dSSv_dE_simplified"
      ],
      "metadata": {
        "colab": {
          "base_uri": "https://localhost:8080/",
          "height": 515
        },
        "id": "uAMhYX7q_xc9",
        "outputId": "e384c055-604f-49bf-db56-95356c0d0551"
      },
      "execution_count": null,
      "outputs": [
        {
          "output_type": "execute_result",
          "data": {
            "text/plain": [
              "-Sup_v*Z*p_v*(E_Il - l)*(p_v - 1)*(phi_va - 1)/sqrt(m_v*p_v*(2*V_Il*(m_v*p_v - p_v + 1) - (p_v - 1)*(E_Il**2 - 2*E_Il*l + l**2)))"
            ],
            "text/latex": "$\\displaystyle - \\frac{Sup_{v} Z p_{v} \\left(E_{Il} - l\\right) \\left(p_{v} - 1\\right) \\left(\\phi_{va} - 1\\right)}{\\sqrt{m_{v} p_{v} \\left(2 V_{Il} \\left(m_{v} p_{v} - p_{v} + 1\\right) - \\left(p_{v} - 1\\right) \\left(E_{Il}^{2} - 2 E_{Il} l + l^{2}\\right)\\right)}}$"
          },
          "metadata": {},
          "execution_count": 178
        },
        {
          "output_type": "display_data",
          "data": {
            "text/plain": [
              "<Figure size 640x480 with 1 Axes>"
            ],
            "image/png": "[encoded data removed]"
          },
          "metadata": {}
        }
      ]
    },
    {
      "cell_type": "code",
      "source": [
        "dSSv_dV = sp.diff(dSSv, V_Il)\n",
        "\n",
        "# Simplify the expression for clarity in order to reduce the running time\n",
        "\n",
        "dSSv_dV_simplified = dSSv_dV.simplify()\n",
        "\n",
        "# Parameters:\n",
        "n = {m_v: 7, E_Il: 13.544, p_v: 0.06, l: 7, Sup_v: 20399877, phi_va: 0.5, Z: 0.95}\n",
        "\n",
        "# Create a lambda function\n",
        "dSSv_dV_func = sp.lambdify(V_Il, dSSv_dV_simplified.subs(n), 'numpy')\n",
        "\n",
        "\n",
        "V_Il_values = np.linspace(0, 500, 1000)\n",
        "\n",
        "# Evaluate the derivative\n",
        "dSSv_dV_values = dSSv_dV_func(V_Il_values)\n",
        "\n",
        "\n",
        "plt.plot(V_Il_values, dSSv_dV_values, label='dSSv/dV_Il')\n",
        "plt.title('Derivative of SSv with respect to V_Il')\n",
        "plt.xlabel('V_Il')\n",
        "plt.ylabel('dSSv/dV_Il')\n",
        "plt.grid(True)\n",
        "plt.legend()\n",
        "\n",
        "dSSv_dV_simplified"
      ],
      "metadata": {
        "colab": {
          "base_uri": "https://localhost:8080/",
          "height": 515
        },
        "id": "cv6AxoeLD1GG",
        "outputId": "6bac2c61-61bf-4010-d217-456a04fa29b8"
      },
      "execution_count": null,
      "outputs": [
        {
          "output_type": "execute_result",
          "data": {
            "text/plain": [
              "Sup_v*Z*p_v*(phi_va - 1)*(m_v*p_v - p_v + 1)/sqrt(m_v*p_v*(2*V_Il*(m_v*p_v - p_v + 1) - (p_v - 1)*(E_Il**2 - 2*E_Il*l + l**2)))"
            ],
            "text/latex": "$\\displaystyle \\frac{Sup_{v} Z p_{v} \\left(\\phi_{va} - 1\\right) \\left(m_{v} p_{v} - p_{v} + 1\\right)}{\\sqrt{m_{v} p_{v} \\left(2 V_{Il} \\left(m_{v} p_{v} - p_{v} + 1\\right) - \\left(p_{v} - 1\\right) \\left(E_{Il}^{2} - 2 E_{Il} l + l^{2}\\right)\\right)}}$"
          },
          "metadata": {},
          "execution_count": 179
        },
        {
          "output_type": "display_data",
          "data": {
            "text/plain": [
              "<Figure size 640x480 with 1 Axes>"
            ],
            "image/png": "[encoded data removed]"
          },
          "metadata": {}
        }
      ]
    },
    {
      "cell_type": "code",
      "source": [
        "# plots:\n",
        "plt.subplot(2, 2, 1)\n",
        "plt.plot(m_v_values, dSSv_dm_v_values, label='dSSv/dm_v')\n",
        "plt.title('Derivative of SSv with respect to m_v')\n",
        "plt.xlabel('m_v')\n",
        "plt.ylabel('dSSv/dm_v')\n",
        "plt.grid(True)\n",
        "plt.legend()\n",
        "\n",
        "# Subplot for derivative with respect to p_v\n",
        "plt.subplot(2,2,2 )\n",
        "plt.plot(p_v_values, dSSv_dp_v_values, label='dSSv/dp_v')\n",
        "plt.title('Derivative of SSv with respect to p_v')\n",
        "plt.xlabel('p_v')\n",
        "plt.ylabel('dSSv/dp_v')\n",
        "plt.grid(True)\n",
        "plt.legend()\n",
        "\n",
        "# Subplot for derivative with respect to Sup_v\n",
        "# plt.subplot(2, 2, 1)\n",
        "# plt.plot(Sup_v_values, dSSv_dSup_v_values, label='dSSv/dSup_v')\n",
        "# plt.title('Derivative of SSv with respect to Sup_v')\n",
        "# plt.xlabel('Sup_v')\n",
        "# plt.ylabel('dSSv/dSup_v')\n",
        "# plt.grid(True)\n",
        "# plt.legend()\n",
        "\n",
        "# Subplot for derivative with respect to E_Il\n",
        "plt.subplot(2, 2, 3)\n",
        "plt.plot(E_Il_values, dSSv_dE_values, label='dSSv/dE_Il')\n",
        "plt.title('Derivative of SSv with respect to E_Il')\n",
        "plt.xlabel('E_Il')\n",
        "plt.ylabel('dSSv/dE_Il')\n",
        "plt.grid(True)\n",
        "plt.legend()\n",
        "\n",
        "# Subplot for derivative with respect to V_Il\n",
        "plt.subplot(2, 2, 4)\n",
        "plt.plot(V_Il_values, dSSv_dV_values, label='dSSv/dV_Il')\n",
        "plt.title('Derivative of SSv with respect to V_Il')\n",
        "plt.xlabel('V_Il')\n",
        "plt.ylabel('dSSv/dV_Il')\n",
        "plt.grid(True)\n",
        "plt.legend()\n",
        "\n",
        "plt.tight_layout()\n",
        "plt.show()"
      ],
      "metadata": {
        "colab": {
          "base_uri": "https://localhost:8080/",
          "height": 487
        },
        "id": "g-tje43Iw9LX",
        "outputId": "c7c33459-e8fd-4d0d-faeb-f3dd7abff569"
      },
      "execution_count": null,
      "outputs": [
        {
          "output_type": "display_data",
          "data": {
            "text/plain": [
              "<Figure size 640x480 with 4 Axes>"
            ],
            "image/png": "[encoded data removed]"
          },
          "metadata": {}
        }
      ]
    },
    {
      "cell_type": "code",
      "source": [
        "# import numpy as np\n",
        "# import pandas as pd\n",
        "# from scipy.stats import norm\n",
        "\n",
        "\n",
        "# phi_va = {\n",
        "#     'Penta': {'DTwP':0.3, 'Hib': 0.4, 'HepB': 0.3},\n",
        "#     'DTwP': {'Diphtheria': 1.0},\n",
        "#     'Hib': {'Hib': 1.0},\n",
        "#     'HepB': {'HepB': 1.0}\n",
        "# }\n",
        "\n",
        "# data = {\n",
        "#     'vaccine': ['Penta', 'DTwP', 'Hib', 'HepB'],\n",
        "#     'Sup_v': [26368.555349, 1022.454187, 438.5176595975, 9232.92456283411],\n",
        "#     'm_v': [1, 7, 7, 1],\n",
        "#     'p_v': [0.20, 0.06, 0.06, 0.20],\n",
        "#     'mu_I_l': [12.3, 12.3, 12.3, 12.3],\n",
        "#     'sigma_I_l': [42.06, 42.06, 42.06,42.06]\n",
        "# }\n",
        "# df = pd.DataFrame(data)\n",
        "\n",
        "# # Constants\n",
        "# l = 7  # Lead time in days\n",
        "# alpha = 0.95  # Service level\n",
        "\n",
        "# # Expected N_v and variance V[N_v]\n",
        "# df['E_N_v'] = df['m_v'] * df['p_v']\n",
        "# df['V_N_v'] = df['m_v'] * df['p_v'] * (1 - df['p_v'])\n",
        "\n",
        "# # Expected K_v and variance V[K_v]\n",
        "# df['E_K_v'] = (df['Sup_v'] / df['m_v']) * df['E_N_v'] * (l + df['mu_I_l'])\n",
        "# df['V_K_v'] = ((df['Sup_v'] / df['m_v'])**2) * ((df['V_N_v']*(df['sigma_I_l']**2))+df['V_N_v'] * (l**2 + 2 * l * df['mu_I_l'] + df['mu_I_l']**2) + df['E_N_v']**2 * (df['sigma_I_l']**2))\n",
        "\n",
        "\n",
        "# A_v = {\n",
        "#     'Penta': ['DTwP', 'Hib', 'HepB'],\n",
        "#     'DTwP': ['DTwP'],\n",
        "#     'Hib': ['Hib'],\n",
        "#     'HepB': ['HepB']\n",
        "# }\n",
        "\n",
        "# # Expected lead-time demand and its variance for antigens\n",
        "# D_a = {antigen: 0 for sublist in A_v.values() for antigen in sublist}\n",
        "# V_D_a = {antigen: 0 for sublist in A_v.values() for antigen in sublist}\n",
        "\n",
        "# for vaccine, antigens in A_v.items():\n",
        "#     for antigen in antigens:\n",
        "#         D_a[antigen] += phi_va[vaccine][antigen] * df.loc[df['vaccine'] == vaccine, 'E_K_v'].values[0]\n",
        "#         V_D_a[antigen] += phi_va[vaccine][antigen]**2 * df.loc[df['vaccine'] == vaccine, 'V_K_v'].values[0]\n",
        "\n",
        "# # Determine the critical antigen which is phi_va for each vaccine and calculate safety stock\n",
        "# results = {}\n",
        "# for vaccine in A_v:\n",
        "#     critical_antigen = max(A_v[vaccine], key=lambda a: phi_va[vaccine][a] * D_a[a])  # Max expected antigen\n",
        "#     E_D_v = phi_va[vaccine][critical_antigen] * D_a[critical_antigen]  # Expected demand for the vaccine\n",
        "#     V_D_v = phi_va[vaccine][critical_antigen]**2 * V_D_a[critical_antigen]  # Variance for the vaccine\n",
        "#     SS_v = norm.ppf(alpha) * np.sqrt(V_D_v)  # Safety stock\n",
        "#     R_v = E_D_v + SS_v  # Re-order level\n",
        "\n",
        "#     results[vaccine] = {\n",
        "#         'Critical Antigen': critical_antigen,\n",
        "#         'Expected Lead-time Demand': E_D_v,\n",
        "#         'Variance of Demand': V_D_v,\n",
        "#         'Safety Stock': SS_v,\n",
        "#         'Re-order Level': R_v\n",
        "#     }\n",
        "\n",
        "\n",
        "# results\n"
      ],
      "metadata": {
        "id": "J7oRBaNQu5PU"
      },
      "execution_count": null,
      "outputs": []
    },
    {
      "cell_type": "code",
      "source": [
        "import numpy as np\n",
        "import pandas as pd\n",
        "import matplotlib.pyplot as plt\n",
        "from scipy.stats import norm\n",
        "\n",
        "data = {\n",
        "    'vaccine': ['Penta', 'DTwP', 'Hib', 'HepB'],\n",
        "    'Sup_v': [26368.555349, 1022.454187, 438.5176595975, 9232.92456283411],\n",
        "    'm_v': [1, 7, 7, 1],\n",
        "    'p_v': [0.20, 0.06, 0.06, 0.20],\n",
        "    'mu_I_l': [255, 255, 255, 255],\n",
        "    'sigma_I_l': [105, 105, 105,105]\n",
        "}\n",
        "df = pd.DataFrame(data)\n",
        "\n",
        "#each vaccine's effectiveness per antigen\n",
        "\n",
        "phi_va = {\n",
        "    'Penta': {'DTwP':0.75, 'Hib': 0.125, 'HepB': 0.125},\n",
        "    'DTwP': {'Diphtheria': 1.0},\n",
        "    'Hib': {'Hib': 1.0},\n",
        "    'HepB': {'HepB': 1.0}\n",
        "}\n",
        "\n",
        "antigens = ['DTwP', 'Hib', 'HepB']\n",
        "\n",
        "\n",
        "def calculate_outcomes(df):\n",
        "    l = 7  # Lead time\n",
        "    alpha = 0.97  # Service level\n",
        "    results = {}\n",
        "\n",
        "    for index, row in df.iterrows():\n",
        "        vaccine = row['vaccine']\n",
        "        E_N_v = row['m_v'] * row['p_v']\n",
        "        V_N_v = row['m_v'] * row['p_v'] * (1 - row['p_v'])\n",
        "        total_supplied = (row['Sup_v'] / row['m_v']) * E_N_v * (l + row['mu_I_l'])\n",
        "        total_variance = ((row['Sup_v'] / row['m_v'])**2) * ((V_N_v*(row['sigma_I_l']**2))+V_N_v * (l**2 + 2 * l * row['mu_I_l'] + row['mu_I_l']**2) + E_N_v**2 * (row['sigma_I_l']**2))\n",
        "\n",
        "        # Calculate the vaccine's contribution to each antigen it supplies\n",
        "        vaccine_contributions = {ant: phi_va[vaccine][ant] * total_supplied for ant in phi_va[vaccine]}\n",
        "        critical_antigen = max(vaccine_contributions, key= vaccine_contributions.get)\n",
        "\n",
        "        E_D_v = vaccine_contributions[critical_antigen]\n",
        "        V_D_v = (phi_va[vaccine][critical_antigen]**2) * total_variance\n",
        "        SS_v = norm.ppf(alpha) * np.sqrt(V_D_v)\n",
        "        R_v = E_D_v + SS_v\n",
        "\n",
        "        results[vaccine] = {\n",
        "            'Critical Antigen': critical_antigen,\n",
        "            'Expected Lead-time Demand': E_D_v,\n",
        "            'Safety Stock': SS_v,\n",
        "            'Re-order Level': R_v\n",
        "        }\n",
        "\n",
        "    return results\n",
        "\n",
        "# Calculate and print the outcomes\n",
        "outcomes = calculate_outcomes(df)\n",
        "for vaccine, info in outcomes.items():\n",
        "    print(f\"Vaccine: {vaccine}, Critical Antigen: {info['Critical Antigen']}, Expected Lead-time Demand: {info['Expected Lead-time Demand']}, Safety Stock: {info['Safety Stock']}, Re-order Level: {info['Re-order Level']}\")\n",
        "\n",
        "\n"
      ],
      "metadata": {
        "colab": {
          "base_uri": "https://localhost:8080/"
        },
        "id": "N9iO0kcs2K89",
        "outputId": "abb7cd43-fea7-45e9-a010-f24084a55e40"
      },
      "execution_count": null,
      "outputs": [
        {
          "output_type": "stream",
          "name": "stdout",
          "text": [
            "Vaccine: Penta, Critical Antigen: DTwP, Expected Lead-time Demand: 1036284.2252157, Safety Stock: 4271484.829051869, Re-order Level: 5307769.0542675685\n",
            "Vaccine: DTwP, Critical Antigen: Diphtheria, Expected Lead-time Demand: 16072.979819639999, Safety Stock: 50205.123658618024, Re-order Level: 66278.10347825802\n",
            "Vaccine: Hib, Critical Antigen: Hib, Expected Lead-time Demand: 6893.497608872701, Safety Stock: 21532.3420907271, Re-order Level: 28425.8396995998\n",
            "Vaccine: HepB, Critical Antigen: HepB, Expected Lead-time Demand: 483805.2470925074, Safety Stock: 1994208.4641317255, Re-order Level: 2478013.711224233\n"
          ]
        }
      ]
    },
    {
      "cell_type": "code",
      "source": [
        "import numpy as np\n",
        "import pandas as pd\n",
        "from scipy.stats import norm\n",
        "\n",
        "# Define the original data\n",
        "data = {\n",
        "    'vaccine': ['Penta', 'DTwP', 'Hib', 'HepB'],\n",
        "    'Sup_v': [26368.555349, 1022.454187, 438.5176595975, 9232.92456283411],\n",
        "    'm_v': [1, 7, 7, 1],\n",
        "    'p_v': [0.20, 0.06, 0.06, 0.20],\n",
        "    'mu_I_l': [255, 255, 255, 255],\n",
        "    'sigma_I_l': [105, 105, 105, 105]\n",
        "}\n",
        "df = pd.DataFrame(data)\n",
        "\n",
        "# Effectiveness per antigen including a possible supply interruption\n",
        "phi_va = {\n",
        "    'Penta': {'DTwP': 0.3, 'Hib': 0.2, 'HepB': 0.0},  # HepB effectiveness reduced to 0 due to supply interruption\n",
        "    'DTwP': {'Diphtheria': 1.0},\n",
        "    'Hib': {'Hib': 1.0},\n",
        "    'HepB': {'HepB': 1.0}\n",
        "}\n",
        "\n",
        "def calculate_outcomes_modified(df, phi_va):\n",
        "    l = 7  # Lead time\n",
        "    alpha = 0.95  # Service level\n",
        "    results = {}\n",
        "\n",
        "    for index, row in df.iterrows():\n",
        "        vaccine = row['vaccine']\n",
        "        E_N_v = row['m_v'] * row['p_v']\n",
        "        V_N_v = row['m_v'] * row['p_v'] * (1 - row['p_v'])\n",
        "        total_supplied = (row['Sup_v'] / row['m_v']) * E_N_v * (l + row['mu_I_l'])\n",
        "        total_variance = ((row['Sup_v'] / row['m_v'])**2) * ((V_N_v * (row['sigma_I_l']**2)) + V_N_v * (l**2 + 2 * l * row['mu_I_l'] + row['mu_I_l']**2) + E_N_v**2 * (row['sigma_I_l']**2))\n",
        "\n",
        "        if vaccine in phi_va:\n",
        "            vaccine_contributions = {ant: phi_va[vaccine].get(ant, 0) * total_supplied for ant in phi_va[vaccine]}\n",
        "            critical_antigen = max(vaccine_contributions, key=vaccine_contributions.get)\n",
        "            E_D_v = vaccine_contributions[critical_antigen]\n",
        "            V_D_v = (phi_va[vaccine][critical_antigen]**2) * total_variance\n",
        "            SS_v = norm.ppf(alpha) * np.sqrt(V_D_v)\n",
        "            R_v = E_D_v + SS_v\n",
        "\n",
        "            results[vaccine] = {\n",
        "                'Critical Antigen': critical_antigen,\n",
        "                'Expected Lead-time Demand': E_D_v,\n",
        "                'Safety Stock': SS_v,\n",
        "                'Re-order Level': R_v\n",
        "            }\n",
        "\n",
        "    return results\n",
        "\n",
        "# Calculate and print the outcomes after simulating the supply interruption\n",
        "outcomes_modified = calculate_outcomes_modified(df, phi_va)\n",
        "for vaccine, info in outcomes_modified.items():\n",
        "    print(f\"Vaccine: {vaccine}, Critical Antigen: {info['Critical Antigen']}, Expected Lead-time Demand: {info['Expected Lead-time Demand']}, Safety Stock: {info['Safety Stock']}, Re-order Level: {info['Re-order Level']}\")\n"
      ],
      "metadata": {
        "colab": {
          "base_uri": "https://localhost:8080/"
        },
        "id": "b-IMCxfbC3wr",
        "outputId": "96af1211-b537-4aca-f2e4-81371aaef95d"
      },
      "execution_count": null,
      "outputs": [
        {
          "output_type": "stream",
          "name": "stdout",
          "text": [
            "Vaccine: Penta, Critical Antigen: DTwP, Expected Lead-time Demand: 414513.69008627994, Safety Stock: 1494255.8892339955, Re-order Level: 1908769.5793202755\n",
            "Vaccine: DTwP, Critical Antigen: Diphtheria, Expected Lead-time Demand: 16072.979819639999, Safety Stock: 43907.0397642398, Re-order Level: 59980.0195838798\n",
            "Vaccine: Hib, Critical Antigen: Hib, Expected Lead-time Demand: 6893.497608872701, Safety Stock: 18831.173623301725, Re-order Level: 25724.671232174427\n",
            "Vaccine: HepB, Critical Antigen: HepB, Expected Lead-time Demand: 483805.2470925074, Safety Stock: 1744040.9255477467, Re-order Level: 2227846.1726402543\n"
          ]
        }
      ]
    },
    {
      "cell_type": "code",
      "source": [
        "import numpy as np\n",
        "import pandas as pd\n",
        "from scipy.stats import norm\n",
        "\n",
        "# Define the original data\n",
        "data = {\n",
        "    'vaccine': ['Penta', 'DTwP', 'Hib', 'HepB'],\n",
        "    'Sup_v': [26368.555349, 1022.454187, 438.5176595975, 0],  # Set HepB supply to 0 due to supply interruption\n",
        "    'm_v': [1, 7, 7, 1], # m_v for HepB gave the value 1 since m_v is in the denominator in the formulation to avoid the program error.\n",
        "                        # This can also mean a supply interruption occurs due to the only supplier in the system for HepB monovalent vaccine.\n",
        "    'p_v': [0.20, 0.06, 0.06, 1], # The probability of supply interruption of HepB should be one hundred percent.\n",
        "    'mu_I_l': [255, 255, 255, 255],\n",
        "    'sigma_I_l': [105, 105, 105, 105]\n",
        "}\n",
        "df = pd.DataFrame(data)\n",
        "\n",
        "# Effectiveness per antigen\n",
        "phi_va = {\n",
        "    'Penta': {'DTwP': 0.3, 'Hib': 0.2, 'HepB': 0.0},  # HepB effectiveness reduced to 0 due to supply interruption\n",
        "    'DTwP': {'Diphtheria': 1.0},\n",
        "    'Hib': {'Hib': 1.0},\n",
        "    'HepB': {'HepB': 0.0}  # HepB effectiveness reduced to 0 due to supply interruption\n",
        "}\n",
        "\n",
        "def calculate_outcomes_modified(df, phi_va):\n",
        "    l = 7  # Lead time\n",
        "    alpha = 0.95  # Service level\n",
        "    results = {}\n",
        "\n",
        "    for index, row in df.iterrows():\n",
        "        vaccine = row['vaccine']\n",
        "        E_N_v = row['m_v'] * row['p_v']\n",
        "        V_N_v = row['m_v'] * row['p_v'] * (1 - row['p_v'])\n",
        "        total_supplied = (row['Sup_v'] / row['m_v']) * E_N_v * (l + row['mu_I_l'])\n",
        "        total_variance = ((row['Sup_v'] / row['m_v'])**2) * ((V_N_v * (row['sigma_I_l']**2)) + V_N_v * (l**2 + 2 * l * row['mu_I_l'] + row['mu_I_l']**2) + E_N_v**2 * (row['sigma_I_l']**2))\n",
        "\n",
        "        if vaccine in phi_va:\n",
        "            vaccine_contributions = {ant: phi_va[vaccine].get(ant, 0) * total_supplied for ant in phi_va[vaccine]}\n",
        "            if vaccine_contributions:\n",
        "                critical_antigen = max(vaccine_contributions, key=vaccine_contributions.get)\n",
        "                E_D_v = vaccine_contributions[critical_antigen]\n",
        "                V_D_v = (phi_va[vaccine][critical_antigen]**2) * total_variance\n",
        "                SS_v = norm.ppf(alpha) * np.sqrt(V_D_v)\n",
        "                R_v = E_D_v + SS_v\n",
        "\n",
        "                results[vaccine] = {\n",
        "                    'Critical Antigen': critical_antigen,\n",
        "                    'Expected Lead-time Demand': E_D_v,\n",
        "                    'Safety Stock': SS_v,\n",
        "                    'Re-order Level': R_v\n",
        "                }\n",
        "            else:\n",
        "                results[vaccine] = {\n",
        "                    'Critical Antigen': None,\n",
        "                    'Expected Lead-time Demand': 0,\n",
        "                    'Safety Stock': 0,\n",
        "                    'Re-order Level': 0\n",
        "                }\n",
        "\n",
        "    return results\n",
        "\n",
        "# Calculate and print the outcomes after simulating the supply interruption\n",
        "outcomes_modified = calculate_outcomes_modified(df, phi_va)\n",
        "for vaccine, info in outcomes_modified.items():\n",
        "    print(f\"Vaccine: {vaccine}, Critical Antigen: {info['Critical Antigen']}, Expected Lead-time Demand: {info['Expected Lead-time Demand']}, Safety Stock: {info['Safety Stock']}, Re-order Level: {info['Re-order Level']}\")\n"
      ],
      "metadata": {
        "colab": {
          "base_uri": "https://localhost:8080/"
        },
        "id": "n-ZhToUhElex",
        "outputId": "7c80530f-3fdf-4186-903f-34d86f70af0c"
      },
      "execution_count": null,
      "outputs": [
        {
          "output_type": "stream",
          "name": "stdout",
          "text": [
            "Vaccine: Penta, Critical Antigen: DTwP, Expected Lead-time Demand: 414513.69008627994, Safety Stock: 1494255.8892339955, Re-order Level: 1908769.5793202755\n",
            "Vaccine: DTwP, Critical Antigen: Diphtheria, Expected Lead-time Demand: 16072.979819639999, Safety Stock: 43907.0397642398, Re-order Level: 59980.0195838798\n",
            "Vaccine: Hib, Critical Antigen: Hib, Expected Lead-time Demand: 6893.497608872701, Safety Stock: 18831.173623301725, Re-order Level: 25724.671232174427\n",
            "Vaccine: HepB, Critical Antigen: HepB, Expected Lead-time Demand: 0.0, Safety Stock: 0.0, Re-order Level: 0.0\n"
          ]
        }
      ]
    },
    {
      "cell_type": "code",
      "source": [
        "import numpy as np\n",
        "import pandas as pd\n",
        "from scipy.stats import norm\n",
        "\n",
        "# Define the original data\n",
        "data = {\n",
        "    'vaccine': ['Penta', 'DTwP', 'Hib', 'HepB'],\n",
        "    'Sup_v': [26368.555349, 1022.454187, 438.5176595975, 0],  # Set HepB supply to 0 due to interruption\n",
        "    'm_v': [1, 7, 7, 1],\n",
        "    'p_v': [0.20, 0.06, 0.06, 0.20],\n",
        "    'mu_I_l': [255, 255, 255, 255],\n",
        "    'sigma_I_l': [105, 105, 105, 105]\n",
        "}\n",
        "df = pd.DataFrame(data)\n",
        "\n",
        "# Effectiveness per antigen\n",
        "phi_va = {\n",
        "    'Penta': {'DTwP': 0.3, 'Hib': 0.2, 'HepB': 0.0},  # HepB effectiveness reduced to 0 due to supply interruption\n",
        "    'DTwP': {'Diphtheria': 1.0},\n",
        "    'Hib': {'Hib': 1.0},\n",
        "    'HepB': {'HepB': 0.0}  # HepB effectiveness reduced to 0 due to supply interruption\n",
        "}\n",
        "\n",
        "def calculate_outcomes_modified(df, phi_va):\n",
        "    l = 7  # Lead time\n",
        "    alpha = 0.95  # Service level\n",
        "    results = {}\n",
        "\n",
        "    for index, row in df.iterrows():\n",
        "        vaccine = row['vaccine']\n",
        "        E_N_v = row['m_v'] * row['p_v']\n",
        "        V_N_v = row['m_v'] * row['p_v'] * (1 - row['p_v'])\n",
        "        total_supplied = (row['Sup_v'] / row['m_v']) * E_N_v * (l + row['mu_I_l'])\n",
        "        total_variance = ((row['Sup_v'] / row['m_v'])**2) * ((V_N_v * (row['sigma_I_l']**2)) + V_N_v * (l**2 + 2 * l * row['mu_I_l'] + row['mu_I_l']**2) + E_N_v**2 * (row['sigma_I_l']**2))\n",
        "\n",
        "        if vaccine in phi_va:\n",
        "            vaccine_contributions = {ant: phi_va[vaccine].get(ant, 0) * total_supplied for ant in phi_va[vaccine]}\n",
        "            if vaccine_contributions:\n",
        "                critical_antigen = max(vaccine_contributions, key=vaccine_contributions.get)\n",
        "                E_D_v = vaccine_contributions[critical_antigen]\n",
        "                V_D_v = (phi_va[vaccine][critical_antigen]**2) * total_variance\n",
        "                SS_v = norm.ppf(alpha) * np.sqrt(V_D_v)\n",
        "                R_v = E_D_v + SS_v\n",
        "\n",
        "                results[vaccine] = {\n",
        "                    'Critical Antigen': critical_antigen,\n",
        "                    'Expected Lead-time Demand': E_D_v,\n",
        "                    'Safety Stock': SS_v,\n",
        "                    'Re-order Level': R_v\n",
        "                }\n",
        "            else:\n",
        "                results[vaccine] = {\n",
        "                    'Critical Antigen': None,\n",
        "                    'Expected Lead-time Demand': 0,\n",
        "                    'Safety Stock': 0,\n",
        "                    'Re-order Level': 0\n",
        "                }\n",
        "\n",
        "    return results\n",
        "\n",
        "# Calculate and print the outcomes after simulating the supply interruption\n",
        "outcomes_modified = calculate_outcomes_modified(df, phi_va)\n",
        "for vaccine, info in outcomes_modified.items():\n",
        "    print(f\"Vaccine: {vaccine}, Critical Antigen: {info['Critical Antigen']}, Expected Lead-time Demand: {info['Expected Lead-time Demand']}, Safety Stock: {info['Safety Stock']}, Re-order Level: {info['Re-order Level']}\")\n"
      ],
      "metadata": {
        "colab": {
          "base_uri": "https://localhost:8080/"
        },
        "id": "T-bCnHDCEWQ1",
        "outputId": "669d37eb-6b54-40cb-a72f-251269e8e646"
      },
      "execution_count": null,
      "outputs": [
        {
          "output_type": "stream",
          "name": "stdout",
          "text": [
            "Vaccine: Penta, Critical Antigen: DTwP, Expected Lead-time Demand: 414513.69008627994, Safety Stock: 1494255.8892339955, Re-order Level: 1908769.5793202755\n",
            "Vaccine: DTwP, Critical Antigen: Diphtheria, Expected Lead-time Demand: 16072.979819639999, Safety Stock: 43907.0397642398, Re-order Level: 59980.0195838798\n",
            "Vaccine: Hib, Critical Antigen: Hib, Expected Lead-time Demand: 6893.497608872701, Safety Stock: 18831.173623301725, Re-order Level: 25724.671232174427\n",
            "Vaccine: HepB, Critical Antigen: HepB, Expected Lead-time Demand: 0.0, Safety Stock: 0.0, Re-order Level: 0.0\n"
          ]
        }
      ]
    },
    {
      "cell_type": "code",
      "source": [
        "import numpy as np\n",
        "import pandas as pd\n",
        "from scipy.stats import norm\n",
        "\n",
        "# Define the original data\n",
        "data = {\n",
        "    'vaccine': ['Penta', 'DTwP', 'Hib', 'HepB'],\n",
        "    'Sup_v': [26368.555349, 1022.454187, 438.5176595975, 0],  # Set HepB supply to 0 due to interruption\n",
        "    'm_v': [1, 7, 7, 1],\n",
        "    'p_v': [0.20, 0.06, 0.06, 0.20],\n",
        "    'mu_I_l': [255, 255, 255, 255],\n",
        "    'sigma_I_l': [105, 105, 105, 105]\n",
        "}\n",
        "df = pd.DataFrame(data)\n",
        "\n",
        "# Effectiveness per antigen\n",
        "phi_va = {\n",
        "    'Penta': {'DTwP': 0.3, 'Hib': 0.2, 'HepB': 0.0},  # HepB effectiveness reduced to 0 due to supply interruption\n",
        "    'DTwP': {'Diphtheria': 1.0},\n",
        "    'Hib': {'Hib': 1.0},\n",
        "    'HepB': {'HepB': 0.0}  # HepB effectiveness reduced to 0 due to supply interruption\n",
        "}\n",
        "\n",
        "def calculate_outcomes_modified(df, phi_va):\n",
        "    l = 7  # Lead time\n",
        "    alpha = 0.97  # Service level\n",
        "    results = {}\n",
        "\n",
        "    for index, row in df.iterrows():\n",
        "        vaccine = row['vaccine']\n",
        "        E_N_v = row['m_v'] * row['p_v']\n",
        "        V_N_v = row['m_v'] * row['p_v'] * (1 - row['p_v'])\n",
        "        total_supplied = (row['Sup_v'] / row['m_v']) * E_N_v * (l + row['mu_I_l'])\n",
        "        total_variance = ((row['Sup_v'] / row['m_v'])**2) * ((V_N_v * (row['sigma_I_l']**2)) + V_N_v * (l**2 + 2 * l * row['mu_I_l'] + row['mu_I_l']**2) + E_N_v**2 * (row['sigma_I_l']**2))\n",
        "\n",
        "        if vaccine in phi_va:\n",
        "            vaccine_contributions = {ant: phi_va[vaccine].get(ant, 0) * total_supplied for ant in phi_va[vaccine]}\n",
        "            if vaccine_contributions:\n",
        "                critical_antigen = max(vaccine_contributions, key=vaccine_contributions.get)\n",
        "                E_D_v = vaccine_contributions[critical_antigen]\n",
        "                V_D_v = (phi_va[vaccine][critical_antigen]**2) * total_variance\n",
        "                SS_v = norm.ppf(alpha) * np.sqrt(V_D_v)\n",
        "                R_v = E_D_v + SS_v\n",
        "\n",
        "                results[vaccine] = {\n",
        "                    'Critical Antigen': critical_antigen,\n",
        "                    'Expected Lead-time Demand': E_D_v,\n",
        "                    'Safety Stock': SS_v,\n",
        "                    'Re-order Level': R_v\n",
        "                }\n",
        "            else:\n",
        "                results[vaccine] = {\n",
        "                    'Critical Antigen': None,\n",
        "                    'Expected Lead-time Demand': 0,\n",
        "                    'Safety Stock': 0,\n",
        "                    'Re-order Level': 0\n",
        "                }\n",
        "\n",
        "    return results\n",
        "\n",
        "# Calculate and print the outcomes after simulating the supply interruption\n",
        "outcomes_modified = calculate_outcomes_modified(df, phi_va)\n",
        "for vaccine, info in outcomes_modified.items():\n",
        "    print(f\"Vaccine: {vaccine}, Critical Antigen: {info['Critical Antigen']}, Expected Lead-time Demand: {info['Expected Lead-time Demand']}, Safety Stock: {info['Safety Stock']}, Re-order Level: {info['Re-order Level']}\")\n"
      ],
      "metadata": {
        "colab": {
          "base_uri": "https://localhost:8080/"
        },
        "id": "rMiBH_63EbjL",
        "outputId": "1041042b-9d56-468f-e9ca-aca820d8fd25"
      },
      "execution_count": null,
      "outputs": [
        {
          "output_type": "stream",
          "name": "stdout",
          "text": [
            "Vaccine: Penta, Critical Antigen: DTwP, Expected Lead-time Demand: 414513.69008627994, Safety Stock: 1708593.9316207475, Re-order Level: 2123107.6217070273\n",
            "Vaccine: DTwP, Critical Antigen: Diphtheria, Expected Lead-time Demand: 16072.979819639999, Safety Stock: 50205.123658618024, Re-order Level: 66278.10347825802\n",
            "Vaccine: Hib, Critical Antigen: Hib, Expected Lead-time Demand: 6893.497608872701, Safety Stock: 21532.3420907271, Re-order Level: 28425.8396995998\n",
            "Vaccine: HepB, Critical Antigen: HepB, Expected Lead-time Demand: 0.0, Safety Stock: 0.0, Re-order Level: 0.0\n"
          ]
        }
      ]
    },
    {
      "cell_type": "code",
      "source": [
        "# Different servive level for penta vaccine\n",
        "\n",
        "import numpy as np\n",
        "import pandas as pd\n",
        "from scipy.stats import norm\n",
        "\n",
        "# Data specific to the Penta vaccine\n",
        "data = {\n",
        "    'vaccine': ['Penta'],\n",
        "    'Sup_v': [26368.555349],\n",
        "    'm_v': [1],\n",
        "    'p_v': [0.20],\n",
        "    'mu_I_l': [255],\n",
        "    'sigma_I_l': [105]\n",
        "}\n",
        "df = pd.DataFrame(data)\n",
        "\n",
        "# Effectiveness per antigen for the Penta vaccine\n",
        "phi_va = {\n",
        "    'Penta': {'DTwP':0.75, 'Hib': 0.125, 'HepB': 0.125}\n",
        "}\n",
        "\n",
        "# Define the antigens that Penta vaccine affects\n",
        "antigens = ['DTwP', 'Hib', 'HepB']\n",
        "\n",
        "def calculate_penta_outcome(df):\n",
        "    l = 7  # Lead time\n",
        "    alpha = 0.95  # Service level\n",
        "\n",
        "    # Assuming there is only one row for the Penta vaccine\n",
        "    row = df.iloc[0]\n",
        "    vaccine = row['vaccine']\n",
        "    E_N_v = row['m_v'] * row['p_v']\n",
        "    V_N_v = row['m_v'] * row['p_v'] * (1 - row['p_v'])\n",
        "    total_supplied = (row['Sup_v'] / row['m_v']) * E_N_v * (l + row['mu_I_l'])\n",
        "    total_variance = ((row['Sup_v'] / row['m_v'])**2) * ((V_N_v*(row['sigma_I_l']**2))+V_N_v * (l**2 + 2 * l * row['mu_I_l'] + row['mu_I_l']**2) + E_N_v**2 * (row['sigma_I_l']**2))\n",
        "\n",
        "    # Calculate the vaccine's contribution to each antigen it supplies\n",
        "    vaccine_contributions = {ant: phi_va[vaccine][ant] * total_supplied for ant in phi_va[vaccine]}\n",
        "    critical_antigen = max(vaccine_contributions, key= vaccine_contributions.get)\n",
        "\n",
        "    E_D_v = vaccine_contributions[critical_antigen]\n",
        "    V_D_v = (phi_va[vaccine][critical_antigen]**2) * total_variance\n",
        "    SS_v = norm.ppf(alpha) * np.sqrt(V_D_v)\n",
        "    R_v = E_D_v + SS_v\n",
        "\n",
        "    return {\n",
        "        'Vaccine': vaccine,\n",
        "        'Critical Antigen': critical_antigen,\n",
        "        'Expected Lead-time Demand': E_D_v,\n",
        "        'Safety Stock': SS_v,\n",
        "        'Re-order Level': R_v\n",
        "    }\n",
        "\n",
        "# Calculate and print the outcome for the Penta vaccine\n",
        "outcome = calculate_penta_outcome(df)\n",
        "print(f\"Vaccine: {outcome['Vaccine']}, Critical Antigen: {outcome['Critical Antigen']}, Expected Lead-time Demand: {outcome['Expected Lead-time Demand']}, Safety Stock: {outcome['Safety Stock']}, Re-order Level: {outcome['Re-order Level']}\")\n"
      ],
      "metadata": {
        "colab": {
          "base_uri": "https://localhost:8080/"
        },
        "id": "ExFtCzOq-B-C",
        "outputId": "447329e7-2971-4f8f-d466-3931c12e57a8"
      },
      "execution_count": null,
      "outputs": [
        {
          "output_type": "stream",
          "name": "stdout",
          "text": [
            "Vaccine: Penta, Critical Antigen: DTwP, Expected Lead-time Demand: 1036284.2252157, Safety Stock: 3735639.723084989, Re-order Level: 4771923.948300689\n"
          ]
        }
      ]
    },
    {
      "cell_type": "code",
      "source": [
        "import numpy as np\n",
        "import pandas as pd\n",
        "from scipy.stats import norm\n",
        "\n",
        "# Vaccine data\n",
        "data = {\n",
        "    'vaccine': ['Penta', 'DTwP', 'Hib', 'HepB'],\n",
        "    'Sup_v': [26368.555349, 1022.454187, 438.5176595975, 9232.92456283411],\n",
        "    'm_v': [1, 7, 7, 1],\n",
        "    'p_v': [0.20, 0.06, 0.06, 0.20],\n",
        "    'mu_I_l': [255, 255, 255, 255],\n",
        "    'sigma_I_l': [105, 105, 105,105]\n",
        "}\n",
        "df = pd.DataFrame(data)\n",
        "\n",
        "# Effectiveness per antigen, modify Hib effectiveness for Penta vaccine\n",
        "phi_va = {\n",
        "    'Penta': {'DTwP':0.75, 'Hib': 0.125, 'HepB': 0.125},  # Reduced effectiveness for Hib\n",
        "    'DTwP': {'Diphtheria': 1.0},\n",
        "    'Hib': {'Hib': 1.0},\n",
        "    'HepB': {'HepB': 1.0}\n",
        "}\n",
        "\n",
        "def calculate_outcomes(df, phi_va):\n",
        "    l = 7  # Lead time\n",
        "    alpha = 0.95  # Service level\n",
        "    results = {}\n",
        "\n",
        "    for index, row in df.iterrows():\n",
        "        vaccine = row['vaccine']\n",
        "        E_N_v = row['m_v'] * row['p_v']\n",
        "        V_N_v = row['m_v'] * row['p_v'] * (1 - row['p_v'])\n",
        "        total_supplied = (row['Sup_v'] / row['m_v']) * E_N_v * (l + row['mu_I_l'])\n",
        "        total_variance = ((row['Sup_v'] / row['m_v'])**2) * ((V_N_v*(row['sigma_I_l']**2))+V_N_v * (l**2 + 2 * l * row['mu_I_l'] + row['mu_I_l']**2) + E_N_v**2 * (row['sigma_I_l']**2))\n",
        "\n",
        "        # Calculate the vaccine's contribution to each antigen it supplies\n",
        "        vaccine_contributions = {ant: phi_va[vaccine][ant] * total_supplied for ant in phi_va[vaccine]}\n",
        "        critical_antigen = max(vaccine_contributions, key=vaccine_contributions.get)\n",
        "\n",
        "        E_D_v = vaccine_contributions[critical_antigen]\n",
        "        V_D_v = (phi_va[vaccine][critical_antigen]**2) * total_variance\n",
        "        SS_v = norm.ppf(alpha) * np.sqrt(V_D_v)\n",
        "        R_v = E_D_v + SS_v\n",
        "\n",
        "        results[vaccine] = {\n",
        "            'Critical Antigen': critical_antigen,\n",
        "            'Expected Lead-time Demand': E_D_v,\n",
        "            'Safety Stock': SS_v,\n",
        "            'Re-order Level': R_v\n",
        "        }\n",
        "\n",
        "    return results\n",
        "\n",
        "# Calculate outcomes with the modified effectiveness\n",
        "outcomes_after_interruption = calculate_outcomes(df, phi_va)\n",
        "\n",
        "# Display the outcomes after the interruption\n",
        "for vaccine, info in outcomes_after_interruption.items():\n",
        "    print(f\"Vaccine: {vaccine}, Critical Antigen: {info['Critical Antigen']}, Expected Lead-time Demand: {info['Expected Lead-time Demand']}, Safety Stock: {info['Safety Stock']}, Re-order Level: {info['Re-order Level']}\")\n"
      ],
      "metadata": {
        "colab": {
          "base_uri": "https://localhost:8080/"
        },
        "id": "TcY0XziRBxHc",
        "outputId": "6fc9c4d8-447c-4536-b520-e9256a3657ee"
      },
      "execution_count": null,
      "outputs": [
        {
          "output_type": "stream",
          "name": "stdout",
          "text": [
            "Vaccine: Penta, Critical Antigen: HepB, Expected Lead-time Demand: 690856.1501438, Safety Stock: 2490426.482056659, Re-order Level: 3181282.632200459\n",
            "Vaccine: DTwP, Critical Antigen: Diphtheria, Expected Lead-time Demand: 16072.979819639999, Safety Stock: 43907.0397642398, Re-order Level: 59980.0195838798\n",
            "Vaccine: Hib, Critical Antigen: Hib, Expected Lead-time Demand: 6893.497608872701, Safety Stock: 18831.173623301725, Re-order Level: 25724.671232174427\n",
            "Vaccine: HepB, Critical Antigen: HepB, Expected Lead-time Demand: 483805.2470925074, Safety Stock: 1744040.9255477467, Re-order Level: 2227846.1726402543\n"
          ]
        }
      ]
    },
    {
      "cell_type": "code",
      "source": [
        "# 90% service level for monovalent vaccines and combination vaccines\n",
        "\n",
        "import numpy as np\n",
        "import pandas as pd\n",
        "from scipy.stats import norm\n",
        "\n",
        "# Data for the Penta and monovalent vaccines\n",
        "data = {\n",
        "    'vaccine': ['Penta', 'DTwP', 'Hib', 'HepB'],\n",
        "    'Sup_v': [26368.555349, 1022.454187, 438.5176595975, 9232.92456283411],\n",
        "    'm_v': [1, 7, 7, 1],\n",
        "    'p_v': [0.20, 0.06, 0.06, 0.20],\n",
        "    'mu_I_l': [255, 255, 255, 255],\n",
        "    'sigma_I_l': [105, 105, 105,105]\n",
        "}\n",
        "df = pd.DataFrame(data)\n",
        "\n",
        "# Effectiveness per antigen for each vaccine\n",
        "phi_va = {\n",
        "    'Penta': {'DTwP': 0.75, 'Hib': 0.125, 'HepB': 0.125},\n",
        "    'DTwP': {'DTwP': 1.0},\n",
        "    'Hib': {'Hib': 1.0},\n",
        "    'HepB': {'HepB': 1.0}\n",
        "}\n",
        "\n",
        "def calculate_vaccine_outcome(df):\n",
        "    l = 7  # Lead time\n",
        "    alpha = 0.90  # Service level\n",
        "    results = []\n",
        "\n",
        "    for index, row in df.iterrows():\n",
        "        vaccine = row['vaccine']\n",
        "        E_N_v = row['m_v'] * row['p_v']\n",
        "        V_N_v = row['m_v'] * row['p_v'] * (1 - row['p_v'])\n",
        "        total_supplied = (row['Sup_v'] / row['m_v']) * E_N_v * (l + row['mu_I_l'])\n",
        "        total_variance = ((row['Sup_v'] / row['m_v'])**2) * ((V_N_v * (row['sigma_I_l']**2)) + V_N_v * (l**2 + 2 * l * row['mu_I_l'] + row['mu_I_l']**2) + E_N_v**2 * (row['sigma_I_l']**2))\n",
        "\n",
        "        # Calculate the vaccine's contribution to each antigen it supplies\n",
        "        vaccine_contributions = {ant: phi_va[vaccine][ant] * total_supplied for ant in phi_va[vaccine]}\n",
        "        critical_antigen = max(vaccine_contributions, key=vaccine_contributions.get)\n",
        "\n",
        "        E_D_v = vaccine_contributions[critical_antigen]\n",
        "        V_D_v = (phi_va[vaccine][critical_antigen]**2) * total_variance\n",
        "        SS_v = norm.ppf(alpha) * np.sqrt(V_D_v)\n",
        "        R_v = E_D_v + SS_v\n",
        "\n",
        "        results.append({\n",
        "            'Vaccine': vaccine,\n",
        "            'Critical Antigen': critical_antigen,\n",
        "            'Expected Lead-time Demand': E_D_v,\n",
        "            'Safety Stock': SS_v,\n",
        "            'Re-order Level': R_v\n",
        "        })\n",
        "\n",
        "    return pd.DataFrame(results)\n",
        "\n",
        "# Calculate and print the outcomes for all vaccines\n",
        "outcomes = calculate_vaccine_outcome(df)\n",
        "print(outcomes)\n"
      ],
      "metadata": {
        "colab": {
          "base_uri": "https://localhost:8080/"
        },
        "id": "c724VmNZ736I",
        "outputId": "0654dbbd-3e3b-477f-c675-d75b1b98e6e9"
      },
      "execution_count": null,
      "outputs": [
        {
          "output_type": "stream",
          "name": "stdout",
          "text": [
            "  Vaccine Critical Antigen  Expected Lead-time Demand  Safety Stock  \\\n",
            "0   Penta             DTwP               1.036284e+06  2.910542e+06   \n",
            "1    DTwP             DTwP               1.607298e+04  3.420921e+04   \n",
            "2     Hib              Hib               6.893498e+03  1.467190e+04   \n",
            "3    HepB             HepB               4.838052e+05  1.358831e+06   \n",
            "\n",
            "   Re-order Level  \n",
            "0    3.946826e+06  \n",
            "1    5.028219e+04  \n",
            "2    2.156539e+04  \n",
            "3    1.842636e+06  \n"
          ]
        }
      ]
    },
    {
      "cell_type": "code",
      "source": [
        "# 95% service level for monovalent vaccines and combination vaccines\n",
        "\n",
        "import numpy as np\n",
        "import pandas as pd\n",
        "from scipy.stats import norm\n",
        "\n",
        "# Data for the Penta and monovalent vaccines\n",
        "data = {\n",
        "    'vaccine': ['Penta', 'DTwP', 'Hib', 'HepB'],\n",
        "    'Sup_v': [26368.555349, 1022.454187, 438.5176595975, 9232.92456283411],\n",
        "    'm_v': [1, 7, 7, 1],\n",
        "    'p_v': [0.20, 0.06, 0.06, 0.20],\n",
        "    'mu_I_l': [255, 255, 255, 255],\n",
        "    'sigma_I_l': [105, 105, 105,105]\n",
        "}\n",
        "df = pd.DataFrame(data)\n",
        "\n",
        "# Effectiveness per antigen for each vaccine\n",
        "phi_va = {\n",
        "    'Penta': {'DTwP': 0.75, 'Hib': 0.125, 'HepB': 0.125},\n",
        "    'DTwP': {'DTwP': 1.0},\n",
        "    'Hib': {'Hib': 1.0},\n",
        "    'HepB': {'HepB': 1.0}\n",
        "}\n",
        "\n",
        "def calculate_vaccine_outcome(df):\n",
        "    l = 7  # Lead time\n",
        "    alpha = 0.95  # Service level\n",
        "    results = []\n",
        "\n",
        "    for index, row in df.iterrows():\n",
        "        vaccine = row['vaccine']\n",
        "        E_N_v = row['m_v'] * row['p_v']\n",
        "        V_N_v = row['m_v'] * row['p_v'] * (1 - row['p_v'])\n",
        "        total_supplied = (row['Sup_v'] / row['m_v']) * E_N_v * (l + row['mu_I_l'])\n",
        "        total_variance = ((row['Sup_v'] / row['m_v'])**2) * ((V_N_v * (row['sigma_I_l']**2)) + V_N_v * (l**2 + 2 * l * row['mu_I_l'] + row['mu_I_l']**2) + E_N_v**2 * (row['sigma_I_l']**2))\n",
        "\n",
        "        # Calculate the vaccine's contribution to each antigen it supplies\n",
        "        vaccine_contributions = {ant: phi_va[vaccine][ant] * total_supplied for ant in phi_va[vaccine]}\n",
        "        critical_antigen = max(vaccine_contributions, key=vaccine_contributions.get)\n",
        "\n",
        "        E_D_v = vaccine_contributions[critical_antigen]\n",
        "        V_D_v = (phi_va[vaccine][critical_antigen]**2) * total_variance\n",
        "        SS_v = norm.ppf(alpha) * np.sqrt(V_D_v)\n",
        "        R_v = E_D_v + SS_v\n",
        "\n",
        "        results.append({\n",
        "            'Vaccine': vaccine,\n",
        "            'Critical Antigen': critical_antigen,\n",
        "            'Expected Lead-time Demand': E_D_v,\n",
        "            'Safety Stock': SS_v,\n",
        "            'Re-order Level': R_v\n",
        "        })\n",
        "\n",
        "    return pd.DataFrame(results)\n",
        "\n",
        "# Calculate and print the outcomes for all vaccines\n",
        "outcomes = calculate_vaccine_outcome(df)\n",
        "print(outcomes)\n"
      ],
      "metadata": {
        "colab": {
          "base_uri": "https://localhost:8080/"
        },
        "id": "xkUA94z47kY-",
        "outputId": "69555ddc-2588-4964-d5f9-99bd50148aea"
      },
      "execution_count": null,
      "outputs": [
        {
          "output_type": "stream",
          "name": "stdout",
          "text": [
            "  Vaccine Critical Antigen  Expected Lead-time Demand  Safety Stock  \\\n",
            "0   Penta             DTwP               1.036284e+06  3.735640e+06   \n",
            "1    DTwP             DTwP               1.607298e+04  4.390704e+04   \n",
            "2     Hib              Hib               6.893498e+03  1.883117e+04   \n",
            "3    HepB             HepB               4.838052e+05  1.744041e+06   \n",
            "\n",
            "   Re-order Level  \n",
            "0    4.771924e+06  \n",
            "1    5.998002e+04  \n",
            "2    2.572467e+04  \n",
            "3    2.227846e+06  \n"
          ]
        }
      ]
    },
    {
      "cell_type": "code",
      "source": [
        "# 97% service level for monovalent vaccines and combination vaccines\n",
        "import numpy as np\n",
        "import pandas as pd\n",
        "from scipy.stats import norm\n",
        "\n",
        "# Data for the Penta and monovalent vaccines\n",
        "data = {\n",
        "    'vaccine': ['Penta', 'DTwP', 'Hib', 'HepB'],\n",
        "    'Sup_v': [26368.555349, 1022.454187, 438.5176595975, 9232.92456283411],\n",
        "    'm_v': [1, 7, 7, 1],\n",
        "    'p_v': [0.20, 0.06, 0.06, 0.20],\n",
        "    'mu_I_l': [255, 255, 255, 255],\n",
        "    'sigma_I_l': [105, 105, 105,105]\n",
        "}\n",
        "df = pd.DataFrame(data)\n",
        "\n",
        "# Effectiveness per antigen for each vaccine\n",
        "phi_va = {\n",
        "    'Penta': {'DTwP': 0.75, 'Hib': 0.125, 'HepB': 0.125},\n",
        "    'DTwP': {'DTwP': 1.0},\n",
        "    'Hib': {'Hib': 1.0},\n",
        "    'HepB': {'HepB': 1.0}\n",
        "}\n",
        "\n",
        "def calculate_vaccine_outcome(df):\n",
        "    l = 7  # Lead time\n",
        "    alpha = 0.97  # Service level\n",
        "    results = []\n",
        "\n",
        "    for index, row in df.iterrows():\n",
        "        vaccine = row['vaccine']\n",
        "        E_N_v = row['m_v'] * row['p_v']\n",
        "        V_N_v = row['m_v'] * row['p_v'] * (1 - row['p_v'])\n",
        "        total_supplied = (row['Sup_v'] / row['m_v']) * E_N_v * (l + row['mu_I_l'])\n",
        "        total_variance = ((row['Sup_v'] / row['m_v'])**2) * ((V_N_v * (row['sigma_I_l']**2)) + V_N_v * (l**2 + 2 * l * row['mu_I_l'] + row['mu_I_l']**2) + E_N_v**2 * (row['sigma_I_l']**2))\n",
        "\n",
        "        # Calculate the vaccine's contribution to each antigen it supplies\n",
        "        vaccine_contributions = {ant: phi_va[vaccine][ant] * total_supplied for ant in phi_va[vaccine]}\n",
        "        critical_antigen = max(vaccine_contributions, key=vaccine_contributions.get)\n",
        "\n",
        "        E_D_v = vaccine_contributions[critical_antigen]\n",
        "        V_D_v = (phi_va[vaccine][critical_antigen]**2) * total_variance\n",
        "        SS_v = norm.ppf(alpha) * np.sqrt(V_D_v)\n",
        "        R_v = E_D_v + SS_v\n",
        "\n",
        "        results.append({\n",
        "            'Vaccine': vaccine,\n",
        "            'Critical Antigen': critical_antigen,\n",
        "            'Expected Lead-time Demand': E_D_v,\n",
        "            'Safety Stock': SS_v,\n",
        "            'Re-order Level': R_v\n",
        "        })\n",
        "\n",
        "    return pd.DataFrame(results)\n",
        "\n",
        "# Calculate and print the outcomes for all vaccines\n",
        "outcomes = calculate_vaccine_outcome(df)\n",
        "print(outcomes)\n"
      ],
      "metadata": {
        "colab": {
          "base_uri": "https://localhost:8080/"
        },
        "id": "eaSFGfay8Ndc",
        "outputId": "e9703b80-9dc0-4c28-9b23-9c24800ca904"
      },
      "execution_count": null,
      "outputs": [
        {
          "output_type": "stream",
          "name": "stdout",
          "text": [
            "  Vaccine Critical Antigen  Expected Lead-time Demand  Safety Stock  \\\n",
            "0   Penta             DTwP               1.036284e+06  4.271485e+06   \n",
            "1    DTwP             DTwP               1.607298e+04  5.020512e+04   \n",
            "2     Hib              Hib               6.893498e+03  2.153234e+04   \n",
            "3    HepB             HepB               4.838052e+05  1.994208e+06   \n",
            "\n",
            "   Re-order Level  \n",
            "0    5.307769e+06  \n",
            "1    6.627810e+04  \n",
            "2    2.842584e+04  \n",
            "3    2.478014e+06  \n"
          ]
        }
      ]
    },
    {
      "cell_type": "code",
      "source": [
        "# In 90% service level, if the monovalent DTwP vaccine is missing, we need to account for the increased demand for the DTwP antigen\n",
        "# that the Penta vaccine will need to fulfill. This would likely result in a higher expected lead-time demand and an increased safety\n",
        "# stock and reorder point for the Penta vaccine.\n",
        "\n",
        "import numpy as np\n",
        "import pandas as pd\n",
        "from scipy.stats import norm\n",
        "\n",
        "# Data for the Penta and monovalent vaccines\n",
        "data = {\n",
        "    'vaccine': ['Penta', 'DTwP', 'Hib', 'HepB'],\n",
        "    'Sup_v': [26368.555349, 1022.454187, 438.5176595975, 9232.92456283411],\n",
        "    'm_v': [1, 7, 7, 1],\n",
        "    'p_v': [0.20, 0.06, 0.06, 0.20],\n",
        "    'mu_I_l': [255, 255, 255, 255],\n",
        "    'sigma_I_l': [105, 105, 105, 105]\n",
        "}\n",
        "df = pd.DataFrame(data)\n",
        "\n",
        "# Effectiveness per antigen for each vaccine\n",
        "phi_va = {\n",
        "    'Penta': {'DTwP': 0.75, 'Hib': 0.125, 'HepB': 0.125},\n",
        "    'DTwP': {'DTwP': 1.0},\n",
        "    'Hib': {'Hib': 1.0},\n",
        "    'HepB': {'HepB': 1.0}\n",
        "}\n",
        "\n",
        "def calculate_vaccine_outcome(df):\n",
        "    l = 7  # Lead time\n",
        "    alpha = 0.90  # Service level\n",
        "    results = []\n",
        "\n",
        "    for index, row in df.iterrows():\n",
        "        vaccine = row['vaccine']\n",
        "        E_N_v = row['m_v'] * row['p_v']\n",
        "        V_N_v = row['m_v'] * row['p_v'] * (1 - row['p_v'])\n",
        "        total_supplied = (row['Sup_v'] / row['m_v']) * E_N_v * (l + row['mu_I_l'])\n",
        "        total_variance = ((row['Sup_v'] / row['m_v'])**2) * ((V_N_v * (row['sigma_I_l']**2)) + V_N_v * (l**2 + 2 * l * row['mu_I_l'] + row['mu_I_l']**2) + E_N_v**2 * (row['sigma_I_l']**2))\n",
        "\n",
        "        # Calculate the vaccine's contribution to each antigen it supplies\n",
        "        vaccine_contributions = {ant: phi_va[vaccine][ant] * total_supplied for ant in phi_va[vaccine]}\n",
        "        critical_antigen = max(vaccine_contributions, key=vaccine_contributions.get)\n",
        "\n",
        "        E_D_v = vaccine_contributions[critical_antigen]\n",
        "        V_D_v = (phi_va[vaccine][critical_antigen]**2) * total_variance\n",
        "        SS_v = norm.ppf(alpha) * np.sqrt(V_D_v)\n",
        "        R_v = E_D_v + SS_v\n",
        "\n",
        "        results.append({\n",
        "            'Vaccine': vaccine,\n",
        "            'Critical Antigen': critical_antigen,\n",
        "            'Expected Lead-time Demand': E_D_v,\n",
        "            'Safety Stock': SS_v,\n",
        "            'Re-order Level': R_v\n",
        "        })\n",
        "\n",
        "    return pd.DataFrame(results)\n",
        "\n",
        "# Calculate and print the outcomes for all vaccines\n",
        "outcomes = calculate_vaccine_outcome(df)\n",
        "print(outcomes)\n",
        "\n",
        "# Calculate the additional Penta vaccine supply needed to fulfill the missing DTwP demand\n",
        "def calculate_additional_penta(df, alpha=0.90):\n",
        "    l = 7  # Lead time\n",
        "\n",
        "    # Get the row for the missing DTwP vaccine\n",
        "    dtwp_row = df[df['vaccine'] == 'DTwP'].iloc[0]\n",
        "\n",
        "    E_N_dtwp = dtwp_row['m_v'] * dtwp_row['p_v']\n",
        "    V_N_dtwp = dtwp_row['m_v'] * dtwp_row['p_v'] * (1 - dtwp_row['p_v'])\n",
        "    total_dtwp_supplied = (dtwp_row['Sup_v'] / dtwp_row['m_v']) * E_N_dtwp * (l + dtwp_row['mu_I_l'])\n",
        "    total_dtwp_variance = ((dtwp_row['Sup_v'] / dtwp_row['m_v'])**2) * ((V_N_dtwp * (dtwp_row['sigma_I_l']**2)) + V_N_dtwp * (l**2 + 2 * l * dtwp_row['mu_I_l'] + dtwp_row['mu_I_l']**2) + E_N_dtwp**2 * (dtwp_row['sigma_I_l']**2))\n",
        "\n",
        "    # Increase the Penta supply to cover the missing DTwP\n",
        "    penta_row = df[df['vaccine'] == 'Penta'].iloc[0].copy()\n",
        "    penta_row['Sup_v'] += total_dtwp_supplied / 0.75  # Adjust for Penta's effectiveness for DTwP\n",
        "\n",
        "    # Recalculate the outcomes for the Penta vaccine\n",
        "    E_N_penta = penta_row['m_v'] * penta_row['p_v']\n",
        "    V_N_penta = penta_row['m_v'] * penta_row['p_v'] * (1 - penta_row['p_v'])\n",
        "    total_supplied_penta = (penta_row['Sup_v'] / penta_row['m_v']) * E_N_penta * (l + penta_row['mu_I_l'])\n",
        "    total_variance_penta = ((penta_row['Sup_v'] / penta_row['m_v'])**2) * ((V_N_penta * (penta_row['sigma_I_l']**2)) + V_N_penta * (l**2 + 2 * l * penta_row['mu_I_l'] + penta_row['mu_I_l']**2) + E_N_penta**2 * (penta_row['sigma_I_l']**2))\n",
        "\n",
        "    # Calculate the Penta's contribution to DTwP\n",
        "    E_D_penta = 0.75 * total_supplied_penta\n",
        "    V_D_penta = (0.75**2) * total_variance_penta\n",
        "    SS_penta = norm.ppf(alpha) * np.sqrt(V_D_penta)\n",
        "    R_penta = E_D_penta + SS_penta\n",
        "\n",
        "    return {\n",
        "        'Vaccine': penta_row['vaccine'],\n",
        "        'Critical Antigen': 'DTwP',\n",
        "        'Expected Lead-time Demand': E_D_penta,\n",
        "        'Safety Stock': SS_penta,\n",
        "        'Re-order Level': R_penta\n",
        "    }\n",
        "\n",
        "additional_penta_outcome = calculate_additional_penta(df, alpha=0.90)\n",
        "print(f\"After accounting for missing DTwP vaccine, updated Penta vaccine outcomes:\")\n",
        "print(f\"Vaccine: {additional_penta_outcome['Vaccine']}, Critical Antigen: {additional_penta_outcome['Critical Antigen']}, Expected Lead-time Demand: {additional_penta_outcome['Expected Lead-time Demand']}, Safety Stock: {additional_penta_outcome['Safety Stock']}, Re-order Level: {additional_penta_outcome['Re-order Level']}\")\n"
      ],
      "metadata": {
        "colab": {
          "base_uri": "https://localhost:8080/"
        },
        "id": "DGrSN3qS84JC",
        "outputId": "8e0bb359-a184-4065-ed8c-15a031cd8dc3"
      },
      "execution_count": null,
      "outputs": [
        {
          "output_type": "stream",
          "name": "stdout",
          "text": [
            "  Vaccine Critical Antigen  Expected Lead-time Demand  Safety Stock  \\\n",
            "0   Penta             DTwP               1.036284e+06  2.910542e+06   \n",
            "1    DTwP             DTwP               1.607298e+04  3.420921e+04   \n",
            "2     Hib              Hib               6.893498e+03  1.467190e+04   \n",
            "3    HepB             HepB               4.838052e+05  1.358831e+06   \n",
            "\n",
            "   Re-order Level  \n",
            "0    3.946826e+06  \n",
            "1    5.028219e+04  \n",
            "2    2.156539e+04  \n",
            "3    1.842636e+06  \n",
            "After accounting for missing DTwP vaccine, updated Penta vaccine outcomes:\n",
            "Vaccine: Penta, Critical Antigen: DTwP, Expected Lead-time Demand: 1878508.367764836, Safety Stock: 5276039.767452259, Re-order Level: 7154548.135217095\n"
          ]
        }
      ]
    },
    {
      "cell_type": "code",
      "source": [
        "# In 95% service level, if the monovalent DTwP vaccine is missing, we need to account for the increased demand for the DTwP antigen\n",
        "# that the Penta vaccine will need to fulfill. This would likely result in a higher expected lead-time demand and an increased safety\n",
        "# stock and reorder point for the Penta vaccine.\n",
        "\n",
        "import numpy as np\n",
        "import pandas as pd\n",
        "from scipy.stats import norm\n",
        "\n",
        "# Data for the Penta and monovalent vaccines\n",
        "data = {\n",
        "    'vaccine': ['Penta', 'DTwP', 'Hib', 'HepB'],\n",
        "    'Sup_v': [26368.555349, 1022.454187, 438.5176595975, 9232.92456283411],\n",
        "    'm_v': [1, 7, 7, 1],\n",
        "    'p_v': [0.20, 0.06, 0.06, 0.20],\n",
        "    'mu_I_l': [255, 255, 255, 255],\n",
        "    'sigma_I_l': [105, 105, 105, 105]\n",
        "}\n",
        "df = pd.DataFrame(data)\n",
        "\n",
        "# Effectiveness per antigen for each vaccine\n",
        "phi_va = {\n",
        "    'Penta': {'DTwP': 0.75, 'Hib': 0.125, 'HepB': 0.125},\n",
        "    'DTwP': {'DTwP': 1.0},\n",
        "    'Hib': {'Hib': 1.0},\n",
        "    'HepB': {'HepB': 1.0}\n",
        "}\n",
        "\n",
        "def calculate_vaccine_outcome(df):\n",
        "    l = 7  # Lead time\n",
        "    alpha = 0.95  # Service level\n",
        "    results = []\n",
        "\n",
        "    for index, row in df.iterrows():\n",
        "        vaccine = row['vaccine']\n",
        "        E_N_v = row['m_v'] * row['p_v']\n",
        "        V_N_v = row['m_v'] * row['p_v'] * (1 - row['p_v'])\n",
        "        total_supplied = (row['Sup_v'] / row['m_v']) * E_N_v * (l + row['mu_I_l'])\n",
        "        total_variance = ((row['Sup_v'] / row['m_v'])**2) * ((V_N_v * (row['sigma_I_l']**2)) + V_N_v * (l**2 + 2 * l * row['mu_I_l'] + row['mu_I_l']**2) + E_N_v**2 * (row['sigma_I_l']**2))\n",
        "\n",
        "        # Calculate the vaccine's contribution to each antigen it supplies\n",
        "        vaccine_contributions = {ant: phi_va[vaccine][ant] * total_supplied for ant in phi_va[vaccine]}\n",
        "        critical_antigen = max(vaccine_contributions, key=vaccine_contributions.get)\n",
        "\n",
        "        E_D_v = vaccine_contributions[critical_antigen]\n",
        "        V_D_v = (phi_va[vaccine][critical_antigen]**2) * total_variance\n",
        "        SS_v = norm.ppf(alpha) * np.sqrt(V_D_v)\n",
        "        R_v = E_D_v + SS_v\n",
        "\n",
        "        results.append({\n",
        "            'Vaccine': vaccine,\n",
        "            'Critical Antigen': critical_antigen,\n",
        "            'Expected Lead-time Demand': E_D_v,\n",
        "            'Safety Stock': SS_v,\n",
        "            'Re-order Level': R_v\n",
        "        })\n",
        "\n",
        "    return pd.DataFrame(results)\n",
        "\n",
        "# Calculate and print the outcomes for all vaccines\n",
        "outcomes = calculate_vaccine_outcome(df)\n",
        "print(outcomes)\n",
        "\n",
        "# Calculate the additional Penta vaccine supply needed to fulfill the missing DTwP demand\n",
        "def calculate_additional_penta(df, alpha=0.95):\n",
        "    l = 7  # Lead time\n",
        "\n",
        "    # Get the row for the missing DTwP vaccine\n",
        "    dtwp_row = df[df['vaccine'] == 'DTwP'].iloc[0]\n",
        "\n",
        "    E_N_dtwp = dtwp_row['m_v'] * dtwp_row['p_v']\n",
        "    V_N_dtwp = dtwp_row['m_v'] * dtwp_row['p_v'] * (1 - dtwp_row['p_v'])\n",
        "    total_dtwp_supplied = (dtwp_row['Sup_v'] / dtwp_row['m_v']) * E_N_dtwp * (l + dtwp_row['mu_I_l'])\n",
        "    total_dtwp_variance = ((dtwp_row['Sup_v'] / dtwp_row['m_v'])**2) * ((V_N_dtwp * (dtwp_row['sigma_I_l']**2)) + V_N_dtwp * (l**2 + 2 * l * dtwp_row['mu_I_l'] + dtwp_row['mu_I_l']**2) + E_N_dtwp**2 * (dtwp_row['sigma_I_l']**2))\n",
        "\n",
        "    # Increase the Penta supply to cover the missing DTwP\n",
        "    penta_row = df[df['vaccine'] == 'Penta'].iloc[0].copy()\n",
        "    penta_row['Sup_v'] += total_dtwp_supplied / 0.75  # Adjust for Penta's effectiveness for DTwP\n",
        "\n",
        "    # Recalculate the outcomes for the Penta vaccine\n",
        "    E_N_penta = penta_row['m_v'] * penta_row['p_v']\n",
        "    V_N_penta = penta_row['m_v'] * penta_row['p_v'] * (1 - penta_row['p_v'])\n",
        "    total_supplied_penta = (penta_row['Sup_v'] / penta_row['m_v']) * E_N_penta * (l + penta_row['mu_I_l'])\n",
        "    total_variance_penta = ((penta_row['Sup_v'] / penta_row['m_v'])**2) * ((V_N_penta * (penta_row['sigma_I_l']**2)) + V_N_penta * (l**2 + 2 * l * penta_row['mu_I_l'] + penta_row['mu_I_l']**2) + E_N_penta**2 * (penta_row['sigma_I_l']**2))\n",
        "\n",
        "    # Calculate the Penta's contribution to DTwP\n",
        "    E_D_penta = 0.75 * total_supplied_penta\n",
        "    V_D_penta = (0.75**2) * total_variance_penta\n",
        "    SS_penta = norm.ppf(alpha) * np.sqrt(V_D_penta)\n",
        "    R_penta = E_D_penta + SS_penta\n",
        "\n",
        "    return {\n",
        "        'Vaccine': penta_row['vaccine'],\n",
        "        'Critical Antigen': 'DTwP',\n",
        "        'Expected Lead-time Demand': E_D_penta,\n",
        "        'Safety Stock': SS_penta,\n",
        "        'Re-order Level': R_penta\n",
        "    }\n",
        "\n",
        "additional_penta_outcome = calculate_additional_penta(df, alpha=0.95)\n",
        "print(f\"After accounting for missing DTwP vaccine, updated Penta vaccine outcomes:\")\n",
        "print(f\"Vaccine: {additional_penta_outcome['Vaccine']}, Critical Antigen: {additional_penta_outcome['Critical Antigen']}, Expected Lead-time Demand: {additional_penta_outcome['Expected Lead-time Demand']}, Safety Stock: {additional_penta_outcome['Safety Stock']}, Re-order Level: {additional_penta_outcome['Re-order Level']}\")\n"
      ],
      "metadata": {
        "colab": {
          "base_uri": "https://localhost:8080/"
        },
        "id": "HtRIaec784FL",
        "outputId": "4d01052e-92a5-4591-b44d-cfd7f2600b9b"
      },
      "execution_count": null,
      "outputs": [
        {
          "output_type": "stream",
          "name": "stdout",
          "text": [
            "  Vaccine Critical Antigen  Expected Lead-time Demand  Safety Stock  \\\n",
            "0   Penta             DTwP               1.036284e+06  3.735640e+06   \n",
            "1    DTwP             DTwP               1.607298e+04  4.390704e+04   \n",
            "2     Hib              Hib               6.893498e+03  1.883117e+04   \n",
            "3    HepB             HepB               4.838052e+05  1.744041e+06   \n",
            "\n",
            "   Re-order Level  \n",
            "0    4.771924e+06  \n",
            "1    5.998002e+04  \n",
            "2    2.572467e+04  \n",
            "3    2.227846e+06  \n",
            "After accounting for missing DTwP vaccine, updated Penta vaccine outcomes:\n",
            "Vaccine: Penta, Critical Antigen: DTwP, Expected Lead-time Demand: 1878508.367764836, Safety Stock: 6771723.729857227, Re-order Level: 8650232.097622063\n"
          ]
        }
      ]
    },
    {
      "cell_type": "code",
      "source": [
        "# In 97% service level, if the monovalent DTwP vaccine is missing, we need to account for the increased demand for the DTwP antigen\n",
        "# that the Penta vaccine will need to fulfill. This would likely result in a higher expected lead-time demand and an increased safety\n",
        "# stock and reorder point for the Penta vaccine.\n",
        "\n",
        "import numpy as np\n",
        "import pandas as pd\n",
        "from scipy.stats import norm\n",
        "\n",
        "# Data for the Penta and monovalent vaccines\n",
        "data = {\n",
        "    'vaccine': ['Penta', 'DTwP', 'Hib', 'HepB'],\n",
        "    'Sup_v': [26368.555349, 1022.454187, 438.5176595975, 9232.92456283411],\n",
        "    'm_v': [1, 7, 7, 1],\n",
        "    'p_v': [0.20, 0.06, 0.06, 0.20],\n",
        "    'mu_I_l': [255, 255, 255, 255],\n",
        "    'sigma_I_l': [105, 105, 105, 105]\n",
        "}\n",
        "df = pd.DataFrame(data)\n",
        "\n",
        "# Effectiveness per antigen for each vaccine\n",
        "phi_va = {\n",
        "    'Penta': {'DTwP': 0.75, 'Hib': 0.125, 'HepB': 0.125},\n",
        "    'DTwP': {'DTwP': 1.0},\n",
        "    'Hib': {'Hib': 1.0},\n",
        "    'HepB': {'HepB': 1.0}\n",
        "}\n",
        "\n",
        "def calculate_vaccine_outcome(df):\n",
        "    l = 7  # Lead time\n",
        "    alpha = 0.97  # Service level\n",
        "    results = []\n",
        "\n",
        "    for index, row in df.iterrows():\n",
        "        vaccine = row['vaccine']\n",
        "        E_N_v = row['m_v'] * row['p_v']\n",
        "        V_N_v = row['m_v'] * row['p_v'] * (1 - row['p_v'])\n",
        "        total_supplied = (row['Sup_v'] / row['m_v']) * E_N_v * (l + row['mu_I_l'])\n",
        "        total_variance = ((row['Sup_v'] / row['m_v'])**2) * ((V_N_v * (row['sigma_I_l']**2)) + V_N_v * (l**2 + 2 * l * row['mu_I_l'] + row['mu_I_l']**2) + E_N_v**2 * (row['sigma_I_l']**2))\n",
        "\n",
        "        # Calculate the vaccine's contribution to each antigen it supplies\n",
        "        vaccine_contributions = {ant: phi_va[vaccine][ant] * total_supplied for ant in phi_va[vaccine]}\n",
        "        critical_antigen = max(vaccine_contributions, key=vaccine_contributions.get)\n",
        "\n",
        "        E_D_v = vaccine_contributions[critical_antigen]\n",
        "        V_D_v = (phi_va[vaccine][critical_antigen]**2) * total_variance\n",
        "        SS_v = norm.ppf(alpha) * np.sqrt(V_D_v)\n",
        "        R_v = E_D_v + SS_v\n",
        "\n",
        "        results.append({\n",
        "            'Vaccine': vaccine,\n",
        "            'Critical Antigen': critical_antigen,\n",
        "            'Expected Lead-time Demand': E_D_v,\n",
        "            'Safety Stock': SS_v,\n",
        "            'Re-order Level': R_v\n",
        "        })\n",
        "\n",
        "    return pd.DataFrame(results)\n",
        "\n",
        "# Calculate and print the outcomes for all vaccines\n",
        "outcomes = calculate_vaccine_outcome(df)\n",
        "print(outcomes)\n",
        "\n",
        "# Calculate the additional Penta vaccine supply needed to fulfill the missing DTwP demand\n",
        "def calculate_additional_penta(df, alpha=0.97):\n",
        "    l = 7  # Lead time\n",
        "\n",
        "    # Get the row for the missing DTwP vaccine\n",
        "    dtwp_row = df[df['vaccine'] == 'DTwP'].iloc[0]\n",
        "\n",
        "    E_N_dtwp = dtwp_row['m_v'] * dtwp_row['p_v']\n",
        "    V_N_dtwp = dtwp_row['m_v'] * dtwp_row['p_v'] * (1 - dtwp_row['p_v'])\n",
        "    total_dtwp_supplied = (dtwp_row['Sup_v'] / dtwp_row['m_v']) * E_N_dtwp * (l + dtwp_row['mu_I_l'])\n",
        "    total_dtwp_variance = ((dtwp_row['Sup_v'] / dtwp_row['m_v'])**2) * ((V_N_dtwp * (dtwp_row['sigma_I_l']**2)) + V_N_dtwp * (l**2 + 2 * l * dtwp_row['mu_I_l'] + dtwp_row['mu_I_l']**2) + E_N_dtwp**2 * (dtwp_row['sigma_I_l']**2))\n",
        "\n",
        "    # Increase the Penta supply to cover the missing DTwP\n",
        "    penta_row = df[df['vaccine'] == 'Penta'].iloc[0].copy()\n",
        "    penta_row['Sup_v'] += total_dtwp_supplied / 0.75  # Adjust for Penta's effectiveness for DTwP\n",
        "\n",
        "    # Recalculate the outcomes for the Penta vaccine\n",
        "    E_N_penta = penta_row['m_v'] * penta_row['p_v']\n",
        "    V_N_penta = penta_row['m_v'] * penta_row['p_v'] * (1 - penta_row['p_v'])\n",
        "    total_supplied_penta = (penta_row['Sup_v'] / penta_row['m_v']) * E_N_penta * (l + penta_row['mu_I_l'])\n",
        "    total_variance_penta = ((penta_row['Sup_v'] / penta_row['m_v'])**2) * ((V_N_penta * (penta_row['sigma_I_l']**2)) + V_N_penta * (l**2 + 2 * l * penta_row['mu_I_l'] + penta_row['mu_I_l']**2) + E_N_penta**2 * (penta_row['sigma_I_l']**2))\n",
        "\n",
        "    # Calculate the Penta's contribution to DTwP\n",
        "    E_D_penta = 0.75 * total_supplied_penta\n",
        "    V_D_penta = (0.75**2) * total_variance_penta\n",
        "    SS_penta = norm.ppf(alpha) * np.sqrt(V_D_penta)\n",
        "    R_penta = E_D_penta + SS_penta\n",
        "\n",
        "    return {\n",
        "        'Vaccine': penta_row['vaccine'],\n",
        "        'Critical Antigen': 'DTwP',\n",
        "        'Expected Lead-time Demand': E_D_penta,\n",
        "        'Safety Stock': SS_penta,\n",
        "        'Re-order Level': R_penta\n",
        "    }\n",
        "\n",
        "additional_penta_outcome = calculate_additional_penta(df, alpha=0.97)\n",
        "print(f\"After accounting for missing DTwP vaccine, updated Penta vaccine outcomes:\")\n",
        "print(f\"Vaccine: {additional_penta_outcome['Vaccine']}, Critical Antigen: {additional_penta_outcome['Critical Antigen']}, Expected Lead-time Demand: {additional_penta_outcome['Expected Lead-time Demand']}, Safety Stock: {additional_penta_outcome['Safety Stock']}, Re-order Level: {additional_penta_outcome['Re-order Level']}\")\n"
      ],
      "metadata": {
        "colab": {
          "base_uri": "https://localhost:8080/"
        },
        "id": "dzbMLIo684CN",
        "outputId": "c9ef62ef-1528-4a86-ace3-7c2f6c7fa04b"
      },
      "execution_count": null,
      "outputs": [
        {
          "output_type": "stream",
          "name": "stdout",
          "text": [
            "  Vaccine Critical Antigen  Expected Lead-time Demand  Safety Stock  \\\n",
            "0   Penta             DTwP               1.036284e+06  4.271485e+06   \n",
            "1    DTwP             DTwP               1.607298e+04  5.020512e+04   \n",
            "2     Hib              Hib               6.893498e+03  2.153234e+04   \n",
            "3    HepB             HepB               4.838052e+05  1.994208e+06   \n",
            "\n",
            "   Re-order Level  \n",
            "0    5.307769e+06  \n",
            "1    6.627810e+04  \n",
            "2    2.842584e+04  \n",
            "3    2.478014e+06  \n",
            "After accounting for missing DTwP vaccine, updated Penta vaccine outcomes:\n",
            "Vaccine: Penta, Critical Antigen: DTwP, Expected Lead-time Demand: 1878508.367764836, Safety Stock: 7743068.743987014, Re-order Level: 9621577.111751849\n"
          ]
        }
      ]
    },
    {
      "cell_type": "code",
      "source": [
        "# In 90% service level, if the monovalent Hib vaccine is missing, we need to account for the increased demand for the Hib antigen\n",
        "# that the Penta vaccine will need to fulfill. This would likely result in a higher expected lead-time demand and an increased safety\n",
        "# stock and reorder point for the Penta vaccine.\n",
        "\n",
        "import numpy as np\n",
        "import pandas as pd\n",
        "from scipy.stats import norm\n",
        "\n",
        "# Data for the Penta and monovalent vaccines\n",
        "data = {\n",
        "    'vaccine': ['Penta', 'DTwP', 'Hib', 'HepB'],\n",
        "    'Sup_v': [26368.555349, 1022.454187, 438.5176595975, 9232.92456283411],\n",
        "    'm_v': [1, 7, 7, 1],\n",
        "    'p_v': [0.20, 0.06, 0.06, 0.20],\n",
        "    'mu_I_l': [255, 255, 255, 255],\n",
        "    'sigma_I_l': [105, 105, 105, 105]\n",
        "}\n",
        "df = pd.DataFrame(data)\n",
        "\n",
        "# Effectiveness per antigen for each vaccine\n",
        "phi_va = {\n",
        "    'Penta': {'DTwP': 0.75, 'Hib': 0.125, 'HepB': 0.125},\n",
        "    'DTwP': {'DTwP': 1.0},\n",
        "    'Hib': {'Hib': 1.0},\n",
        "    'HepB': {'HepB': 1.0}\n",
        "}\n",
        "\n",
        "def calculate_vaccine_outcome(df):\n",
        "    l = 7  # Lead time\n",
        "    alpha = 0.90  # Service level\n",
        "    results = []\n",
        "\n",
        "    for index, row in df.iterrows():\n",
        "        vaccine = row['vaccine']\n",
        "        E_N_v = row['m_v'] * row['p_v']\n",
        "        V_N_v = row['m_v'] * row['p_v'] * (1 - row['p_v'])\n",
        "        total_supplied = (row['Sup_v'] / row['m_v']) * E_N_v * (l + row['mu_I_l'])\n",
        "        total_variance = ((row['Sup_v'] / row['m_v'])**2) * ((V_N_v * (row['sigma_I_l']**2)) + V_N_v * (l**2 + 2 * l * row['mu_I_l'] + row['mu_I_l']**2) + E_N_v**2 * (row['sigma_I_l']**2))\n",
        "\n",
        "        # Calculate the vaccine's contribution to each antigen it supplies\n",
        "        vaccine_contributions = {ant: phi_va[vaccine][ant] * total_supplied for ant in phi_va[vaccine]}\n",
        "        critical_antigen = max(vaccine_contributions, key=vaccine_contributions.get)\n",
        "\n",
        "        E_D_v = vaccine_contributions[critical_antigen]\n",
        "        V_D_v = (phi_va[vaccine][critical_antigen]**2) * total_variance\n",
        "        SS_v = norm.ppf(alpha) * np.sqrt(V_D_v)\n",
        "        R_v = E_D_v + SS_v\n",
        "\n",
        "        results.append({\n",
        "            'Vaccine': vaccine,\n",
        "            'Critical Antigen': critical_antigen,\n",
        "            'Expected Lead-time Demand': E_D_v,\n",
        "            'Safety Stock': SS_v,\n",
        "            'Re-order Level': R_v\n",
        "        })\n",
        "\n",
        "    return pd.DataFrame(results)\n",
        "\n",
        "# Calculate and print the outcomes for all vaccines\n",
        "outcomes = calculate_vaccine_outcome(df)\n",
        "print(outcomes)\n",
        "\n",
        "# Calculate the additional Penta vaccine supply needed to fulfill the missing Hib demand\n",
        "def calculate_additional_penta_for_missing_hib(df, alpha=0.90):\n",
        "    l = 7  # Lead time\n",
        "\n",
        "    # Get the row for the missing Hib vaccine\n",
        "    hib_row = df[df['vaccine'] == 'Hib'].iloc[0]\n",
        "\n",
        "    E_N_hib = hib_row['m_v'] * hib_row['p_v']\n",
        "    V_N_hib = hib_row['m_v'] * hib_row['p_v'] * (1 - hib_row['p_v'])\n",
        "    total_hib_supplied = (hib_row['Sup_v'] / hib_row['m_v']) * E_N_hib * (l + hib_row['mu_I_l'])\n",
        "    total_hib_variance = ((hib_row['Sup_v'] / hib_row['m_v'])**2) * ((V_N_hib * (hib_row['sigma_I_l']**2)) + V_N_hib * (l**2 + 2 * l * hib_row['mu_I_l'] + hib_row['mu_I_l']**2) + E_N_hib**2 * (hib_row['sigma_I_l']**2))\n",
        "\n",
        "    # Increase the Penta supply to cover the missing Hib\n",
        "    penta_row = df[df['vaccine'] == 'Penta'].iloc[0].copy()\n",
        "    penta_row['Sup_v'] += total_hib_supplied / 0.125  # Adjust for Penta's effectiveness for Hib\n",
        "\n",
        "    # Recalculate the outcomes for the Penta vaccine\n",
        "    E_N_penta = penta_row['m_v'] * penta_row['p_v']\n",
        "    V_N_penta = penta_row['m_v'] * penta_row['p_v'] * (1 - penta_row['p_v'])\n",
        "    total_supplied_penta = (penta_row['Sup_v'] / penta_row['m_v']) * E_N_penta * (l + penta_row['mu_I_l'])\n",
        "    total_variance_penta = ((penta_row['Sup_v'] / penta_row['m_v'])**2) * ((V_N_penta * (penta_row['sigma_I_l']**2)) + V_N_penta * (l**2 + 2 * l * penta_row['mu_I_l'] + penta_row['mu_I_l']**2) + E_N_penta**2 * (penta_row['sigma_I_l']**2))\n",
        "\n",
        "    # Calculate the Penta's contribution to Hib\n",
        "    E_D_penta = 0.125 * total_supplied_penta\n",
        "    V_D_penta = (0.125**2) * total_variance_penta\n",
        "    SS_penta = norm.ppf(alpha) * np.sqrt(V_D_penta)\n",
        "    R_penta = E_D_penta + SS_penta\n",
        "\n",
        "    return {\n",
        "        'Vaccine': penta_row['vaccine'],\n",
        "        'Critical Antigen': 'Hib',\n",
        "        'Expected Lead-time Demand': E_D_penta,\n",
        "        'Safety Stock': SS_penta,\n",
        "        'Re-order Level': R_penta\n",
        "    }\n",
        "\n",
        "additional_penta_outcome_for_hib = calculate_additional_penta_for_missing_hib(df, alpha=0.90)\n",
        "print(f\"After accounting for missing Hib vaccine, updated Penta vaccine outcomes:\")\n",
        "print(f\"Vaccine: {additional_penta_outcome_for_hib['Vaccine']}, Critical Antigen: {additional_penta_outcome_for_hib['Critical Antigen']}, Expected Lead-time Demand: {additional_penta_outcome_for_hib['Expected Lead-time Demand']}, Safety Stock: {additional_penta_outcome_for_hib['Safety Stock']}, Re-order Level: {additional_penta_outcome_for_hib['Re-order Level']}\")\n"
      ],
      "metadata": {
        "colab": {
          "base_uri": "https://localhost:8080/"
        },
        "id": "S0BC4Xua839I",
        "outputId": "6d707b18-7e9f-490c-f534-f7c472fbd099"
      },
      "execution_count": null,
      "outputs": [
        {
          "output_type": "stream",
          "name": "stdout",
          "text": [
            "  Vaccine Critical Antigen  Expected Lead-time Demand  Safety Stock  \\\n",
            "0   Penta             DTwP               1.036284e+06  2.910542e+06   \n",
            "1    DTwP             DTwP               1.607298e+04  3.420921e+04   \n",
            "2     Hib              Hib               6.893498e+03  1.467190e+04   \n",
            "3    HepB             HepB               4.838052e+05  1.358831e+06   \n",
            "\n",
            "   Re-order Level  \n",
            "0    3.946826e+06  \n",
            "1    5.028219e+04  \n",
            "2    2.156539e+04  \n",
            "3    1.842636e+06  \n",
            "After accounting for missing Hib vaccine, updated Penta vaccine outcomes:\n",
            "Vaccine: Penta, Critical Antigen: Hib, Expected Lead-time Demand: 533933.3122408795, Safety Stock: 1499622.4860591313, Re-order Level: 2033555.7983000109\n"
          ]
        }
      ]
    },
    {
      "cell_type": "code",
      "source": [
        "# In 95% service level, if the monovalent Hib vaccine is missing, we need to account for the increased demand for the Hib antigen\n",
        "# that the Penta vaccine will need to fulfill. This would likely result in a higher expected lead-time demand and an increased safety\n",
        "# stock and reorder point for the Penta vaccine.\n",
        "\n",
        "import numpy as np\n",
        "import pandas as pd\n",
        "from scipy.stats import norm\n",
        "\n",
        "# Data for the Penta and monovalent vaccines\n",
        "data = {\n",
        "    'vaccine': ['Penta', 'DTwP', 'Hib', 'HepB'],\n",
        "    'Sup_v': [26368.555349, 1022.454187, 438.5176595975, 9232.92456283411],\n",
        "    'm_v': [1, 7, 7, 1],\n",
        "    'p_v': [0.20, 0.06, 0.06, 0.20],\n",
        "    'mu_I_l': [255, 255, 255, 255],\n",
        "    'sigma_I_l': [105, 105, 105, 105]\n",
        "}\n",
        "df = pd.DataFrame(data)\n",
        "\n",
        "# Effectiveness per antigen for each vaccine\n",
        "phi_va = {\n",
        "    'Penta': {'DTwP': 0.75, 'Hib': 0.125, 'HepB': 0.125},\n",
        "    'DTwP': {'DTwP': 1.0},\n",
        "    'Hib': {'Hib': 1.0},\n",
        "    'HepB': {'HepB': 1.0}\n",
        "}\n",
        "\n",
        "def calculate_vaccine_outcome(df):\n",
        "    l = 7  # Lead time\n",
        "    alpha = 0.95  # Service level\n",
        "    results = []\n",
        "\n",
        "    for index, row in df.iterrows():\n",
        "        vaccine = row['vaccine']\n",
        "        E_N_v = row['m_v'] * row['p_v']\n",
        "        V_N_v = row['m_v'] * row['p_v'] * (1 - row['p_v'])\n",
        "        total_supplied = (row['Sup_v'] / row['m_v']) * E_N_v * (l + row['mu_I_l'])\n",
        "        total_variance = ((row['Sup_v'] / row['m_v'])**2) * ((V_N_v * (row['sigma_I_l']**2)) + V_N_v * (l**2 + 2 * l * row['mu_I_l'] + row['mu_I_l']**2) + E_N_v**2 * (row['sigma_I_l']**2))\n",
        "\n",
        "        # Calculate the vaccine's contribution to each antigen it supplies\n",
        "        vaccine_contributions = {ant: phi_va[vaccine][ant] * total_supplied for ant in phi_va[vaccine]}\n",
        "        critical_antigen = max(vaccine_contributions, key=vaccine_contributions.get)\n",
        "\n",
        "        E_D_v = vaccine_contributions[critical_antigen]\n",
        "        V_D_v = (phi_va[vaccine][critical_antigen]**2) * total_variance\n",
        "        SS_v = norm.ppf(alpha) * np.sqrt(V_D_v)\n",
        "        R_v = E_D_v + SS_v\n",
        "\n",
        "        results.append({\n",
        "            'Vaccine': vaccine,\n",
        "            'Critical Antigen': critical_antigen,\n",
        "            'Expected Lead-time Demand': E_D_v,\n",
        "            'Safety Stock': SS_v,\n",
        "            'Re-order Level': R_v\n",
        "        })\n",
        "\n",
        "    return pd.DataFrame(results)\n",
        "\n",
        "# Calculate and print the outcomes for all vaccines\n",
        "outcomes = calculate_vaccine_outcome(df)\n",
        "print(outcomes)\n",
        "\n",
        "# Calculate the additional Penta vaccine supply needed to fulfill the missing Hib demand\n",
        "def calculate_additional_penta_for_missing_hib(df, alpha=0.95):\n",
        "    l = 7  # Lead time\n",
        "\n",
        "    # Get the row for the missing Hib vaccine\n",
        "    hib_row = df[df['vaccine'] == 'Hib'].iloc[0]\n",
        "\n",
        "    E_N_hib = hib_row['m_v'] * hib_row['p_v']\n",
        "    V_N_hib = hib_row['m_v'] * hib_row['p_v'] * (1 - hib_row['p_v'])\n",
        "    total_hib_supplied = (hib_row['Sup_v'] / hib_row['m_v']) * E_N_hib * (l + hib_row['mu_I_l'])\n",
        "    total_hib_variance = ((hib_row['Sup_v'] / hib_row['m_v'])**2) * ((V_N_hib * (hib_row['sigma_I_l']**2)) + V_N_hib * (l**2 + 2 * l * hib_row['mu_I_l'] + hib_row['mu_I_l']**2) + E_N_hib**2 * (hib_row['sigma_I_l']**2))\n",
        "\n",
        "    # Increase the Penta supply to cover the missing Hib\n",
        "    penta_row = df[df['vaccine'] == 'Penta'].iloc[0].copy()\n",
        "    penta_row['Sup_v'] += total_hib_supplied / 0.125  # Adjust for Penta's effectiveness for Hib\n",
        "\n",
        "    # Recalculate the outcomes for the Penta vaccine\n",
        "    E_N_penta = penta_row['m_v'] * penta_row['p_v']\n",
        "    V_N_penta = penta_row['m_v'] * penta_row['p_v'] * (1 - penta_row['p_v'])\n",
        "    total_supplied_penta = (penta_row['Sup_v'] / penta_row['m_v']) * E_N_penta * (l + penta_row['mu_I_l'])\n",
        "    total_variance_penta = ((penta_row['Sup_v'] / penta_row['m_v'])**2) * ((V_N_penta * (penta_row['sigma_I_l']**2)) + V_N_penta * (l**2 + 2 * l * penta_row['mu_I_l'] + penta_row['mu_I_l']**2) + E_N_penta**2 * (penta_row['sigma_I_l']**2))\n",
        "\n",
        "    # Calculate the Penta's contribution to Hib\n",
        "    E_D_penta = 0.125 * total_supplied_penta\n",
        "    V_D_penta = (0.125**2) * total_variance_penta\n",
        "    SS_penta = norm.ppf(alpha) * np.sqrt(V_D_penta)\n",
        "    R_penta = E_D_penta + SS_penta\n",
        "\n",
        "    return {\n",
        "        'Vaccine': penta_row['vaccine'],\n",
        "        'Critical Antigen': 'Hib',\n",
        "        'Expected Lead-time Demand': E_D_penta,\n",
        "        'Safety Stock': SS_penta,\n",
        "        'Re-order Level': R_penta\n",
        "    }\n",
        "\n",
        "additional_penta_outcome_for_hib = calculate_additional_penta_for_missing_hib(df, alpha=0.95)\n",
        "print(f\"After accounting for missing Hib vaccine, updated Penta vaccine outcomes:\")\n",
        "print(f\"Vaccine: {additional_penta_outcome_for_hib['Vaccine']}, Critical Antigen: {additional_penta_outcome_for_hib['Critical Antigen']}, Expected Lead-time Demand: {additional_penta_outcome_for_hib['Expected Lead-time Demand']}, Safety Stock: {additional_penta_outcome_for_hib['Safety Stock']}, Re-order Level: {additional_penta_outcome_for_hib['Re-order Level']}\")\n"
      ],
      "metadata": {
        "colab": {
          "base_uri": "https://localhost:8080/"
        },
        "id": "0oJwY-YXGjZt",
        "outputId": "1d686912-8d4a-48af-831a-d8adc8dc9db3"
      },
      "execution_count": null,
      "outputs": [
        {
          "output_type": "stream",
          "name": "stdout",
          "text": [
            "  Vaccine Critical Antigen  Expected Lead-time Demand  Safety Stock  \\\n",
            "0   Penta             DTwP               1.036284e+06  3.735640e+06   \n",
            "1    DTwP             DTwP               1.607298e+04  4.390704e+04   \n",
            "2     Hib              Hib               6.893498e+03  1.883117e+04   \n",
            "3    HepB             HepB               4.838052e+05  1.744041e+06   \n",
            "\n",
            "   Re-order Level  \n",
            "0    4.771924e+06  \n",
            "1    5.998002e+04  \n",
            "2    2.572467e+04  \n",
            "3    2.227846e+06  \n",
            "After accounting for missing Hib vaccine, updated Penta vaccine outcomes:\n",
            "Vaccine: Penta, Critical Antigen: Hib, Expected Lead-time Demand: 533933.3122408795, Safety Stock: 1924744.623291166, Re-order Level: 2458677.9355320456\n"
          ]
        }
      ]
    },
    {
      "cell_type": "code",
      "source": [
        "# In 97% service level, if the monovalent Hib vaccine is missing, we need to account for the increased demand for the Hib antigen\n",
        "# that the Penta vaccine will need to fulfill. This would likely result in a higher expected lead-time demand and an increased safety\n",
        "# stock and reorder point for the Penta vaccine.\n",
        "\n",
        "import numpy as np\n",
        "import pandas as pd\n",
        "from scipy.stats import norm\n",
        "\n",
        "# Data for the Penta and monovalent vaccines\n",
        "data = {\n",
        "    'vaccine': ['Penta', 'DTwP', 'Hib', 'HepB'],\n",
        "    'Sup_v': [26368.555349, 1022.454187, 438.5176595975, 9232.92456283411],\n",
        "    'm_v': [1, 7, 7, 1],\n",
        "    'p_v': [0.20, 0.06, 0.06, 0.20],\n",
        "    'mu_I_l': [255, 255, 255, 255],\n",
        "    'sigma_I_l': [105, 105, 105, 105]\n",
        "}\n",
        "df = pd.DataFrame(data)\n",
        "\n",
        "# Effectiveness per antigen for each vaccine\n",
        "phi_va = {\n",
        "    'Penta': {'DTwP': 0.75, 'Hib': 0.125, 'HepB': 0.125},\n",
        "    'DTwP': {'DTwP': 1.0},\n",
        "    'Hib': {'Hib': 1.0},\n",
        "    'HepB': {'HepB': 1.0}\n",
        "}\n",
        "\n",
        "def calculate_vaccine_outcome(df):\n",
        "    l = 7  # Lead time\n",
        "    alpha = 0.97  # Service level\n",
        "    results = []\n",
        "\n",
        "    for index, row in df.iterrows():\n",
        "        vaccine = row['vaccine']\n",
        "        E_N_v = row['m_v'] * row['p_v']\n",
        "        V_N_v = row['m_v'] * row['p_v'] * (1 - row['p_v'])\n",
        "        total_supplied = (row['Sup_v'] / row['m_v']) * E_N_v * (l + row['mu_I_l'])\n",
        "        total_variance = ((row['Sup_v'] / row['m_v'])**2) * ((V_N_v * (row['sigma_I_l']**2)) + V_N_v * (l**2 + 2 * l * row['mu_I_l'] + row['mu_I_l']**2) + E_N_v**2 * (row['sigma_I_l']**2))\n",
        "\n",
        "        # Calculate the vaccine's contribution to each antigen it supplies\n",
        "        vaccine_contributions = {ant: phi_va[vaccine][ant] * total_supplied for ant in phi_va[vaccine]}\n",
        "        critical_antigen = max(vaccine_contributions, key=vaccine_contributions.get)\n",
        "\n",
        "        E_D_v = vaccine_contributions[critical_antigen]\n",
        "        V_D_v = (phi_va[vaccine][critical_antigen]**2) * total_variance\n",
        "        SS_v = norm.ppf(alpha) * np.sqrt(V_D_v)\n",
        "        R_v = E_D_v + SS_v\n",
        "\n",
        "        results.append({\n",
        "            'Vaccine': vaccine,\n",
        "            'Critical Antigen': critical_antigen,\n",
        "            'Expected Lead-time Demand': E_D_v,\n",
        "            'Safety Stock': SS_v,\n",
        "            'Re-order Level': R_v\n",
        "        })\n",
        "\n",
        "    return pd.DataFrame(results)\n",
        "\n",
        "# Calculate and print the outcomes for all vaccines\n",
        "outcomes = calculate_vaccine_outcome(df)\n",
        "print(outcomes)\n",
        "\n",
        "# Calculate the additional Penta vaccine supply needed to fulfill the missing Hib demand\n",
        "def calculate_additional_penta_for_missing_hib(df, alpha=0.97):\n",
        "    l = 7  # Lead time\n",
        "\n",
        "    # Get the row for the missing Hib vaccine\n",
        "    hib_row = df[df['vaccine'] == 'Hib'].iloc[0]\n",
        "\n",
        "    E_N_hib = hib_row['m_v'] * hib_row['p_v']\n",
        "    V_N_hib = hib_row['m_v'] * hib_row['p_v'] * (1 - hib_row['p_v'])\n",
        "    total_hib_supplied = (hib_row['Sup_v'] / hib_row['m_v']) * E_N_hib * (l + hib_row['mu_I_l'])\n",
        "    total_hib_variance = ((hib_row['Sup_v'] / hib_row['m_v'])**2) * ((V_N_hib * (hib_row['sigma_I_l']**2)) + V_N_hib * (l**2 + 2 * l * hib_row['mu_I_l'] + hib_row['mu_I_l']**2) + E_N_hib**2 * (hib_row['sigma_I_l']**2))\n",
        "\n",
        "    # Increase the Penta supply to cover the missing Hib\n",
        "    penta_row = df[df['vaccine'] == 'Penta'].iloc[0].copy()\n",
        "    penta_row['Sup_v'] += total_hib_supplied / 0.125  # Adjust for Penta's effectiveness for Hib\n",
        "\n",
        "    # Recalculate the outcomes for the Penta vaccine\n",
        "    E_N_penta = penta_row['m_v'] * penta_row['p_v']\n",
        "    V_N_penta = penta_row['m_v'] * penta_row['p_v'] * (1 - penta_row['p_v'])\n",
        "    total_supplied_penta = (penta_row['Sup_v'] / penta_row['m_v']) * E_N_penta * (l + penta_row['mu_I_l'])\n",
        "    total_variance_penta = ((penta_row['Sup_v'] / penta_row['m_v'])**2) * ((V_N_penta * (penta_row['sigma_I_l']**2)) + V_N_penta * (l**2 + 2 * l * penta_row['mu_I_l'] + penta_row['mu_I_l']**2) + E_N_penta**2 * (penta_row['sigma_I_l']**2))\n",
        "\n",
        "    # Calculate the Penta's contribution to Hib\n",
        "    E_D_penta = 0.125 * total_supplied_penta\n",
        "    V_D_penta = (0.125**2) * total_variance_penta\n",
        "    SS_penta = norm.ppf(alpha) * np.sqrt(V_D_penta)\n",
        "    R_penta = E_D_penta + SS_penta\n",
        "\n",
        "    return {\n",
        "        'Vaccine': penta_row['vaccine'],\n",
        "        'Critical Antigen': 'Hib',\n",
        "        'Expected Lead-time Demand': E_D_penta,\n",
        "        'Safety Stock': SS_penta,\n",
        "        'Re-order Level': R_penta\n",
        "    }\n",
        "\n",
        "additional_penta_outcome_for_hib = calculate_additional_penta_for_missing_hib(df, alpha=0.97)\n",
        "print(f\"After accounting for missing Hib vaccine, updated Penta vaccine outcomes:\")\n",
        "print(f\"Vaccine: {additional_penta_outcome_for_hib['Vaccine']}, Critical Antigen: {additional_penta_outcome_for_hib['Critical Antigen']}, Expected Lead-time Demand: {additional_penta_outcome_for_hib['Expected Lead-time Demand']}, Safety Stock: {additional_penta_outcome_for_hib['Safety Stock']}, Re-order Level: {additional_penta_outcome_for_hib['Re-order Level']}\")\n"
      ],
      "metadata": {
        "colab": {
          "base_uri": "https://localhost:8080/"
        },
        "id": "CsNQbDtpGjV1",
        "outputId": "93193991-1dde-4779-cf92-2276d956d4c2"
      },
      "execution_count": null,
      "outputs": [
        {
          "output_type": "stream",
          "name": "stdout",
          "text": [
            "  Vaccine Critical Antigen  Expected Lead-time Demand  Safety Stock  \\\n",
            "0   Penta             DTwP               1.036284e+06  4.271485e+06   \n",
            "1    DTwP             DTwP               1.607298e+04  5.020512e+04   \n",
            "2     Hib              Hib               6.893498e+03  2.153234e+04   \n",
            "3    HepB             HepB               4.838052e+05  1.994208e+06   \n",
            "\n",
            "   Re-order Level  \n",
            "0    5.307769e+06  \n",
            "1    6.627810e+04  \n",
            "2    2.842584e+04  \n",
            "3    2.478014e+06  \n",
            "After accounting for missing Hib vaccine, updated Penta vaccine outcomes:\n",
            "Vaccine: Penta, Critical Antigen: Hib, Expected Lead-time Demand: 533933.3122408795, Safety Stock: 2200832.539439276, Re-order Level: 2734765.8516801554\n"
          ]
        }
      ]
    },
    {
      "cell_type": "code",
      "source": [
        "# In 90% service level, if the monovalent HepB vaccine is missing, we need to account for the increased demand for the HepB antigen\n",
        "# that the Penta vaccine will need to fulfill. This would likely result in a higher expected lead-time demand and an increased safety\n",
        "# stock and reorder point for the Penta vaccine.\n",
        "\n",
        "import numpy as np\n",
        "import pandas as pd\n",
        "from scipy.stats import norm\n",
        "\n",
        "# Data for the Penta and monovalent vaccines\n",
        "data = {\n",
        "    'vaccine': ['Penta', 'DTwP', 'Hib', 'HepB'],\n",
        "    'Sup_v': [26368.555349, 1022.454187, 438.5176595975, 9232.92456283411],\n",
        "    'm_v': [1, 7, 7, 1],\n",
        "    'p_v': [0.20, 0.06, 0.06, 0.20],\n",
        "    'mu_I_l': [255, 255, 255, 255],\n",
        "    'sigma_I_l': [105, 105, 105, 105]\n",
        "}\n",
        "df = pd.DataFrame(data)\n",
        "\n",
        "# Effectiveness per antigen for each vaccine\n",
        "phi_va = {\n",
        "    'Penta': {'DTwP': 0.75, 'Hib': 0.125, 'HepB': 0.125},\n",
        "    'DTwP': {'DTwP': 1.0},\n",
        "    'Hib': {'Hib': 1.0},\n",
        "    'HepB': {'HepB': 1.0}\n",
        "}\n",
        "\n",
        "def calculate_vaccine_outcome(df):\n",
        "    l = 7  # Lead time\n",
        "    alpha = 0.90  # Service level\n",
        "    results = []\n",
        "\n",
        "    for index, row in df.iterrows():\n",
        "        vaccine = row['vaccine']\n",
        "        E_N_v = row['m_v'] * row['p_v']\n",
        "        V_N_v = row['m_v'] * row['p_v'] * (1 - row['p_v'])\n",
        "        total_supplied = (row['Sup_v'] / row['m_v']) * E_N_v * (l + row['mu_I_l'])\n",
        "        total_variance = ((row['Sup_v'] / row['m_v'])**2) * ((V_N_v * (row['sigma_I_l']**2)) + V_N_v * (l**2 + 2 * l * row['mu_I_l'] + row['mu_I_l']**2) + E_N_v**2 * (row['sigma_I_l']**2))\n",
        "\n",
        "        # Calculate the vaccine's contribution to each antigen it supplies\n",
        "        vaccine_contributions = {ant: phi_va[vaccine][ant] * total_supplied for ant in phi_va[vaccine]}\n",
        "        critical_antigen = max(vaccine_contributions, key=vaccine_contributions.get)\n",
        "\n",
        "        E_D_v = vaccine_contributions[critical_antigen]\n",
        "        V_D_v = (phi_va[vaccine][critical_antigen]**2) * total_variance\n",
        "        SS_v = norm.ppf(alpha) * np.sqrt(V_D_v)\n",
        "        R_v = E_D_v + SS_v\n",
        "\n",
        "        results.append({\n",
        "            'Vaccine': vaccine,\n",
        "            'Critical Antigen': critical_antigen,\n",
        "            'Expected Lead-time Demand': E_D_v,\n",
        "            'Safety Stock': SS_v,\n",
        "            'Re-order Level': R_v\n",
        "        })\n",
        "\n",
        "    return pd.DataFrame(results)\n",
        "\n",
        "# Calculate and print the outcomes for all vaccines\n",
        "outcomes = calculate_vaccine_outcome(df)\n",
        "print(outcomes)\n",
        "\n",
        "# Calculate the additional Penta vaccine supply needed to fulfill the missing HepB demand\n",
        "def calculate_additional_penta(df, missing_vaccine='HepB', alpha=0.90):\n",
        "    l = 7  # Lead time\n",
        "\n",
        "    # Get the row for the missing HepB vaccine\n",
        "    missing_row = df[df['vaccine'] == missing_vaccine].iloc[0]\n",
        "\n",
        "    E_N_missing = missing_row['m_v'] * missing_row['p_v']\n",
        "    V_N_missing = missing_row['m_v'] * missing_row['p_v'] * (1 - missing_row['p_v'])\n",
        "    total_missing_supplied = (missing_row['Sup_v'] / missing_row['m_v']) * E_N_missing * (l + missing_row['mu_I_l'])\n",
        "    total_missing_variance = ((missing_row['Sup_v'] / missing_row['m_v'])**2) * ((V_N_missing * (missing_row['sigma_I_l']**2)) + V_N_missing * (l**2 + 2 * l * missing_row['mu_I_l'] + missing_row['mu_I_l']**2) + E_N_missing**2 * (missing_row['sigma_I_l']**2))\n",
        "\n",
        "    # Increase the Penta supply to cover the missing HepB\n",
        "    penta_row = df[df['vaccine'] == 'Penta'].iloc[0].copy()\n",
        "    penta_row['Sup_v'] += total_missing_supplied / 0.125  # Adjust for Penta's effectiveness for HepB\n",
        "\n",
        "    # Recalculate the outcomes for the Penta vaccine\n",
        "    E_N_penta = penta_row['m_v'] * penta_row['p_v']\n",
        "    V_N_penta = penta_row['m_v'] * penta_row['p_v'] * (1 - penta_row['p_v'])\n",
        "    total_supplied_penta = (penta_row['Sup_v'] / penta_row['m_v']) * E_N_penta * (l + penta_row['mu_I_l'])\n",
        "    total_variance_penta = ((penta_row['Sup_v'] / penta_row['m_v'])**2) * ((V_N_penta * (penta_row['sigma_I_l']**2)) + V_N_penta * (l**2 + 2 * l * penta_row['mu_I_l'] + penta_row['mu_I_l']**2) + E_N_penta**2 * (penta_row['sigma_I_l']**2))\n",
        "\n",
        "    # Calculate the Penta's contribution to HepB\n",
        "    E_D_penta = 0.125 * total_supplied_penta\n",
        "    V_D_penta = (0.125**2) * total_variance_penta\n",
        "    SS_penta = norm.ppf(alpha) * np.sqrt(V_D_penta)\n",
        "    R_penta = E_D_penta + SS_penta\n",
        "\n",
        "    return {\n",
        "        'Vaccine': penta_row['vaccine'],\n",
        "        'Critical Antigen': 'HepB',\n",
        "        'Expected Lead-time Demand': E_D_penta,\n",
        "        'Safety Stock': SS_penta,\n",
        "        'Re-order Level': R_penta\n",
        "    }\n",
        "\n",
        "additional_penta_outcome = calculate_additional_penta(df, missing_vaccine='HepB', alpha=0.90)\n",
        "print(f\"After accounting for missing HepB vaccine, updated Penta vaccine outcomes:\")\n",
        "print(f\"Vaccine: {additional_penta_outcome['Vaccine']}, Critical Antigen: {additional_penta_outcome['Critical Antigen']}, Expected Lead-time Demand: {additional_penta_outcome['Expected Lead-time Demand']}, Safety Stock: {additional_penta_outcome['Safety Stock']}, Re-order Level: {additional_penta_outcome['Re-order Level']}\")\n"
      ],
      "metadata": {
        "colab": {
          "base_uri": "https://localhost:8080/"
        },
        "id": "L0T0vGu8GjS2",
        "outputId": "c495245b-0e22-4d81-a130-6bed66fa90d9"
      },
      "execution_count": null,
      "outputs": [
        {
          "output_type": "stream",
          "name": "stdout",
          "text": [
            "  Vaccine Critical Antigen  Expected Lead-time Demand  Safety Stock  \\\n",
            "0   Penta             DTwP               1.036284e+06  2.910542e+06   \n",
            "1    DTwP             DTwP               1.607298e+04  3.420921e+04   \n",
            "2     Hib              Hib               6.893498e+03  1.467190e+04   \n",
            "3    HepB             HepB               4.838052e+05  1.358831e+06   \n",
            "\n",
            "   Re-order Level  \n",
            "0    3.946826e+06  \n",
            "1    5.028219e+04  \n",
            "2    2.156539e+04  \n",
            "3    1.842636e+06  \n",
            "After accounting for missing HepB vaccine, updated Penta vaccine outcomes:\n",
            "Vaccine: Penta, Critical Antigen: HepB, Expected Lead-time Demand: 25524108.985183336, Safety Stock: 71687843.58136603, Re-order Level: 97211952.56654936\n"
          ]
        }
      ]
    },
    {
      "cell_type": "code",
      "source": [
        "# In 95% service level, if the monovalent HepB vaccine is missing, we need to account for the increased demand for the HepB antigen\n",
        "# that the Penta vaccine will need to fulfill. This would likely result in a higher expected lead-time demand and an increased safety\n",
        "# stock and reorder point for the Penta vaccine.\n",
        "\n",
        "import numpy as np\n",
        "import pandas as pd\n",
        "from scipy.stats import norm\n",
        "\n",
        "# Data for the Penta and monovalent vaccines\n",
        "data = {\n",
        "    'vaccine': ['Penta', 'DTwP', 'Hib', 'HepB'],\n",
        "    'Sup_v': [26368.555349, 1022.454187, 438.5176595975, 9232.92456283411],\n",
        "    'm_v': [1, 7, 7, 1],\n",
        "    'p_v': [0.20, 0.06, 0.06, 0.20],\n",
        "    'mu_I_l': [255, 255, 255, 255],\n",
        "    'sigma_I_l': [105, 105, 105, 105]\n",
        "}\n",
        "df = pd.DataFrame(data)\n",
        "\n",
        "# Effectiveness per antigen for each vaccine\n",
        "phi_va = {\n",
        "    'Penta': {'DTwP': 0.75, 'Hib': 0.125, 'HepB': 0.125},\n",
        "    'DTwP': {'DTwP': 1.0},\n",
        "    'Hib': {'Hib': 1.0},\n",
        "    'HepB': {'HepB': 1.0}\n",
        "}\n",
        "\n",
        "def calculate_vaccine_outcome(df):\n",
        "    l = 7  # Lead time\n",
        "    alpha = 0.95  # Service level\n",
        "    results = []\n",
        "\n",
        "    for index, row in df.iterrows():\n",
        "        vaccine = row['vaccine']\n",
        "        E_N_v = row['m_v'] * row['p_v']\n",
        "        V_N_v = row['m_v'] * row['p_v'] * (1 - row['p_v'])\n",
        "        total_supplied = (row['Sup_v'] / row['m_v']) * E_N_v * (l + row['mu_I_l'])\n",
        "        total_variance = ((row['Sup_v'] / row['m_v'])**2) * ((V_N_v * (row['sigma_I_l']**2)) + V_N_v * (l**2 + 2 * l * row['mu_I_l'] + row['mu_I_l']**2) + E_N_v**2 * (row['sigma_I_l']**2))\n",
        "\n",
        "        # Calculate the vaccine's contribution to each antigen it supplies\n",
        "        vaccine_contributions = {ant: phi_va[vaccine][ant] * total_supplied for ant in phi_va[vaccine]}\n",
        "        critical_antigen = max(vaccine_contributions, key=vaccine_contributions.get)\n",
        "\n",
        "        E_D_v = vaccine_contributions[critical_antigen]\n",
        "        V_D_v = (phi_va[vaccine][critical_antigen]**2) * total_variance\n",
        "        SS_v = norm.ppf(alpha) * np.sqrt(V_D_v)\n",
        "        R_v = E_D_v + SS_v\n",
        "\n",
        "        results.append({\n",
        "            'Vaccine': vaccine,\n",
        "            'Critical Antigen': critical_antigen,\n",
        "            'Expected Lead-time Demand': E_D_v,\n",
        "            'Safety Stock': SS_v,\n",
        "            'Re-order Level': R_v\n",
        "        })\n",
        "\n",
        "    return pd.DataFrame(results)\n",
        "\n",
        "# Calculate and print the outcomes for all vaccines\n",
        "outcomes = calculate_vaccine_outcome(df)\n",
        "print(outcomes)\n",
        "\n",
        "# Calculate the additional Penta vaccine supply needed to fulfill the missing HepB demand\n",
        "def calculate_additional_penta(df, missing_vaccine='HepB', alpha=0.95):\n",
        "    l = 7  # Lead time\n",
        "\n",
        "    # Get the row for the missing HepB vaccine\n",
        "    missing_row = df[df['vaccine'] == missing_vaccine].iloc[0]\n",
        "\n",
        "    E_N_missing = missing_row['m_v'] * missing_row['p_v']\n",
        "    V_N_missing = missing_row['m_v'] * missing_row['p_v'] * (1 - missing_row['p_v'])\n",
        "    total_missing_supplied = (missing_row['Sup_v'] / missing_row['m_v']) * E_N_missing * (l + missing_row['mu_I_l'])\n",
        "    total_missing_variance = ((missing_row['Sup_v'] / missing_row['m_v'])**2) * ((V_N_missing * (missing_row['sigma_I_l']**2)) + V_N_missing * (l**2 + 2 * l * missing_row['mu_I_l'] + missing_row['mu_I_l']**2) + E_N_missing**2 * (missing_row['sigma_I_l']**2))\n",
        "\n",
        "    # Increase the Penta supply to cover the missing HepB\n",
        "    penta_row = df[df['vaccine'] == 'Penta'].iloc[0].copy()\n",
        "    penta_row['Sup_v'] += total_missing_supplied / 0.125  # Adjust for Penta's effectiveness for HepB\n",
        "\n",
        "    # Recalculate the outcomes for the Penta vaccine\n",
        "    E_N_penta = penta_row['m_v'] * penta_row['p_v']\n",
        "    V_N_penta = penta_row['m_v'] * penta_row['p_v'] * (1 - penta_row['p_v'])\n",
        "    total_supplied_penta = (penta_row['Sup_v'] / penta_row['m_v']) * E_N_penta * (l + penta_row['mu_I_l'])\n",
        "    total_variance_penta = ((penta_row['Sup_v'] / penta_row['m_v'])**2) * ((V_N_penta * (penta_row['sigma_I_l']**2)) + V_N_penta * (l**2 + 2 * l * penta_row['mu_I_l'] + penta_row['mu_I_l']**2) + E_N_penta**2 * (penta_row['sigma_I_l']**2))\n",
        "\n",
        "    # Calculate the Penta's contribution to HepB\n",
        "    E_D_penta = 0.125 * total_supplied_penta\n",
        "    V_D_penta = (0.125**2) * total_variance_penta\n",
        "    SS_penta = norm.ppf(alpha) * np.sqrt(V_D_penta)\n",
        "    R_penta = E_D_penta + SS_penta\n",
        "\n",
        "    return {\n",
        "        'Vaccine': penta_row['vaccine'],\n",
        "        'Critical Antigen': 'HepB',\n",
        "        'Expected Lead-time Demand': E_D_penta,\n",
        "        'Safety Stock': SS_penta,\n",
        "        'Re-order Level': R_penta\n",
        "    }\n",
        "\n",
        "additional_penta_outcome = calculate_additional_penta(df, missing_vaccine='HepB', alpha=0.95)\n",
        "print(f\"After accounting for missing HepB vaccine, updated Penta vaccine outcomes:\")\n",
        "print(f\"Vaccine: {additional_penta_outcome['Vaccine']}, Critical Antigen: {additional_penta_outcome['Critical Antigen']}, Expected Lead-time Demand: {additional_penta_outcome['Expected Lead-time Demand']}, Safety Stock: {additional_penta_outcome['Safety Stock']}, Re-order Level: {additional_penta_outcome['Re-order Level']}\")\n"
      ],
      "metadata": {
        "colab": {
          "base_uri": "https://localhost:8080/"
        },
        "id": "OPtstCY6IpoA",
        "outputId": "8d7e563e-72e8-463a-865e-ded7bcbf68b2"
      },
      "execution_count": null,
      "outputs": [
        {
          "output_type": "stream",
          "name": "stdout",
          "text": [
            "  Vaccine Critical Antigen  Expected Lead-time Demand  Safety Stock  \\\n",
            "0   Penta             DTwP               1.036284e+06  3.735640e+06   \n",
            "1    DTwP             DTwP               1.607298e+04  4.390704e+04   \n",
            "2     Hib              Hib               6.893498e+03  1.883117e+04   \n",
            "3    HepB             HepB               4.838052e+05  1.744041e+06   \n",
            "\n",
            "   Re-order Level  \n",
            "0    4.771924e+06  \n",
            "1    5.998002e+04  \n",
            "2    2.572467e+04  \n",
            "3    2.227846e+06  \n",
            "After accounting for missing HepB vaccine, updated Penta vaccine outcomes:\n",
            "Vaccine: Penta, Critical Antigen: HepB, Expected Lead-time Demand: 25524108.985183336, Safety Stock: 92010351.11921608, Re-order Level: 117534460.10439941\n"
          ]
        }
      ]
    },
    {
      "cell_type": "code",
      "source": [
        "# In 97% service level, if the monovalent HepB vaccine is missing, we need to account for the increased demand for the HepB antigen\n",
        "# that the Penta vaccine will need to fulfill. This would likely result in a higher expected lead-time demand and an increased safety\n",
        "# stock and reorder point for the Penta vaccine.\n",
        "\n",
        "import numpy as np\n",
        "import pandas as pd\n",
        "from scipy.stats import norm\n",
        "\n",
        "# Data for the Penta and monovalent vaccines\n",
        "data = {\n",
        "    'vaccine': ['Penta', 'DTwP', 'Hib', 'HepB'],\n",
        "    'Sup_v': [26368.555349, 1022.454187, 438.5176595975, 9232.92456283411],\n",
        "    'm_v': [1, 7, 7, 1],\n",
        "    'p_v': [0.20, 0.06, 0.06, 0.20],\n",
        "    'mu_I_l': [255, 255, 255, 255],\n",
        "    'sigma_I_l': [105, 105, 105, 105]\n",
        "}\n",
        "df = pd.DataFrame(data)\n",
        "\n",
        "# Effectiveness per antigen for each vaccine\n",
        "phi_va = {\n",
        "    'Penta': {'DTwP': 0.75, 'Hib': 0.125, 'HepB': 0.125},\n",
        "    'DTwP': {'DTwP': 1.0},\n",
        "    'Hib': {'Hib': 1.0},\n",
        "    'HepB': {'HepB': 1.0}\n",
        "}\n",
        "\n",
        "def calculate_vaccine_outcome(df):\n",
        "    l = 7  # Lead time\n",
        "    alpha = 0.97  # Service level\n",
        "    results = []\n",
        "\n",
        "    for index, row in df.iterrows():\n",
        "        vaccine = row['vaccine']\n",
        "        E_N_v = row['m_v'] * row['p_v']\n",
        "        V_N_v = row['m_v'] * row['p_v'] * (1 - row['p_v'])\n",
        "        total_supplied = (row['Sup_v'] / row['m_v']) * E_N_v * (l + row['mu_I_l'])\n",
        "        total_variance = ((row['Sup_v'] / row['m_v'])**2) * ((V_N_v * (row['sigma_I_l']**2)) + V_N_v * (l**2 + 2 * l * row['mu_I_l'] + row['mu_I_l']**2) + E_N_v**2 * (row['sigma_I_l']**2))\n",
        "\n",
        "        # Calculate the vaccine's contribution to each antigen it supplies\n",
        "        vaccine_contributions = {ant: phi_va[vaccine][ant] * total_supplied for ant in phi_va[vaccine]}\n",
        "        critical_antigen = max(vaccine_contributions, key=vaccine_contributions.get)\n",
        "\n",
        "        E_D_v = vaccine_contributions[critical_antigen]\n",
        "        V_D_v = (phi_va[vaccine][critical_antigen]**2) * total_variance\n",
        "        SS_v = norm.ppf(alpha) * np.sqrt(V_D_v)\n",
        "        R_v = E_D_v + SS_v\n",
        "\n",
        "        results.append({\n",
        "            'Vaccine': vaccine,\n",
        "            'Critical Antigen': critical_antigen,\n",
        "            'Expected Lead-time Demand': E_D_v,\n",
        "            'Safety Stock': SS_v,\n",
        "            'Re-order Level': R_v\n",
        "        })\n",
        "\n",
        "    return pd.DataFrame(results)\n",
        "\n",
        "# Calculate and print the outcomes for all vaccines\n",
        "outcomes = calculate_vaccine_outcome(df)\n",
        "print(outcomes)\n",
        "\n",
        "# Calculate the additional Penta vaccine supply needed to fulfill the missing HepB demand\n",
        "def calculate_additional_penta(df, missing_vaccine='HepB', alpha=0.97):\n",
        "    l = 7  # Lead time\n",
        "\n",
        "    # Get the row for the missing HepB vaccine\n",
        "    missing_row = df[df['vaccine'] == missing_vaccine].iloc[0]\n",
        "\n",
        "    E_N_missing = missing_row['m_v'] * missing_row['p_v']\n",
        "    V_N_missing = missing_row['m_v'] * missing_row['p_v'] * (1 - missing_row['p_v'])\n",
        "    total_missing_supplied = (missing_row['Sup_v'] / missing_row['m_v']) * E_N_missing * (l + missing_row['mu_I_l'])\n",
        "    total_missing_variance = ((missing_row['Sup_v'] / missing_row['m_v'])**2) * ((V_N_missing * (missing_row['sigma_I_l']**2)) + V_N_missing * (l**2 + 2 * l * missing_row['mu_I_l'] + missing_row['mu_I_l']**2) + E_N_missing**2 * (missing_row['sigma_I_l']**2))\n",
        "\n",
        "    # Increase the Penta supply to cover the missing HepB\n",
        "    penta_row = df[df['vaccine'] == 'Penta'].iloc[0].copy()\n",
        "    penta_row['Sup_v'] += total_missing_supplied / 0.125  # Adjust for Penta's effectiveness for HepB\n",
        "\n",
        "    # Recalculate the outcomes for the Penta vaccine\n",
        "    E_N_penta = penta_row['m_v'] * penta_row['p_v']\n",
        "    V_N_penta = penta_row['m_v'] * penta_row['p_v'] * (1 - penta_row['p_v'])\n",
        "    total_supplied_penta = (penta_row['Sup_v'] / penta_row['m_v']) * E_N_penta * (l + penta_row['mu_I_l'])\n",
        "    total_variance_penta = ((penta_row['Sup_v'] / penta_row['m_v'])**2) * ((V_N_penta * (penta_row['sigma_I_l']**2)) + V_N_penta * (l**2 + 2 * l * penta_row['mu_I_l'] + penta_row['mu_I_l']**2) + E_N_penta**2 * (penta_row['sigma_I_l']**2))\n",
        "\n",
        "    # Calculate the Penta's contribution to HepB\n",
        "    E_D_penta = 0.125 * total_supplied_penta\n",
        "    V_D_penta = (0.125**2) * total_variance_penta\n",
        "    SS_penta = norm.ppf(alpha) * np.sqrt(V_D_penta)\n",
        "    R_penta = E_D_penta + SS_penta\n",
        "\n",
        "    return {\n",
        "        'Vaccine': penta_row['vaccine'],\n",
        "        'Critical Antigen': 'HepB',\n",
        "        'Expected Lead-time Demand': E_D_penta,\n",
        "        'Safety Stock': SS_penta,\n",
        "        'Re-order Level': R_penta\n",
        "    }\n",
        "\n",
        "additional_penta_outcome = calculate_additional_penta(df, missing_vaccine='HepB', alpha=0.97)\n",
        "print(f\"After accounting for missing HepB vaccine, updated Penta vaccine outcomes:\")\n",
        "print(f\"Vaccine: {additional_penta_outcome['Vaccine']}, Critical Antigen: {additional_penta_outcome['Critical Antigen']}, Expected Lead-time Demand: {additional_penta_outcome['Expected Lead-time Demand']}, Safety Stock: {additional_penta_outcome['Safety Stock']}, Re-order Level: {additional_penta_outcome['Re-order Level']}\")\n"
      ],
      "metadata": {
        "colab": {
          "base_uri": "https://localhost:8080/"
        },
        "id": "q1Y8BAlfIpk4",
        "outputId": "488c6960-6640-43e9-ff6c-41e068a9c806"
      },
      "execution_count": null,
      "outputs": [
        {
          "output_type": "stream",
          "name": "stdout",
          "text": [
            "  Vaccine Critical Antigen  Expected Lead-time Demand  Safety Stock  \\\n",
            "0   Penta             DTwP               1.036284e+06  4.271485e+06   \n",
            "1    DTwP             DTwP               1.607298e+04  5.020512e+04   \n",
            "2     Hib              Hib               6.893498e+03  2.153234e+04   \n",
            "3    HepB             HepB               4.838052e+05  1.994208e+06   \n",
            "\n",
            "   Re-order Level  \n",
            "0    5.307769e+06  \n",
            "1    6.627810e+04  \n",
            "2    2.842584e+04  \n",
            "3    2.478014e+06  \n",
            "After accounting for missing HepB vaccine, updated Penta vaccine outcomes:\n",
            "Vaccine: Penta, Critical Antigen: HepB, Expected Lead-time Demand: 25524108.985183336, Safety Stock: 105208437.65867771, Re-order Level: 130732546.64386106\n"
          ]
        }
      ]
    },
    {
      "cell_type": "code",
      "source": [],
      "metadata": {
        "id": "JVKbbj0wIphv"
      },
      "execution_count": null,
      "outputs": []
    },
    {
      "cell_type": "code",
      "source": [],
      "metadata": {
        "id": "jx1sYDf2Ipeu"
      },
      "execution_count": null,
      "outputs": []
    },
    {
      "cell_type": "code",
      "source": [
        "import numpy as np\n",
        "import pandas as pd\n",
        "from scipy.stats import norm\n",
        "\n",
        "# Data specific to the Penta vaccine with individual probabilities for each antigen\n",
        "data = {\n",
        "    'vaccine': ['Penta'],\n",
        "    'Sup_v': [26368.555349],\n",
        "    'm_v': [1],\n",
        "    'p_v_DTwP': [0.06],  # Probability for DTwP\n",
        "    'p_v_Hib': [0.06],   # Probability for Hib\n",
        "    'p_v_HepB': [0.20],  # Probability for HepB\n",
        "    'mu_I_l': [255],\n",
        "    'sigma_I_l': [105]\n",
        "}\n",
        "df = pd.DataFrame(data)\n",
        "\n",
        "# Effectiveness per antigen for the Penta vaccine\n",
        "phi_va = {\n",
        "    'Penta': {'DTwP':0.75, 'Hib': 0.125, 'HepB': 0.125}\n",
        "}\n",
        "\n",
        "# Define the antigens that Penta vaccine affects\n",
        "antigens = ['DTwP','Hib']\n",
        "\n",
        "def calculate_penta_outcome(df):\n",
        "    l = 7  # Lead time\n",
        "    alpha = 0.97  # Service level\n",
        "\n",
        "    # Assuming there is only one row for the Penta vaccine\n",
        "    row = df.iloc[0]\n",
        "    vaccine = row['vaccine']\n",
        "\n",
        "    # Calculating vaccine's contribution to each antigen it affects\n",
        "    vaccine_contributions = {}\n",
        "    for antigen in antigens:\n",
        "        E_N_v = row[f'm_v'] * row[f'p_v_{antigen}']\n",
        "        V_N_v = row[f'm_v'] * row[f'p_v_{antigen}'] * (1 - row[f'p_v_{antigen}'])\n",
        "        total_supplied = (row['Sup_v'] / row['m_v']) * E_N_v * (l + row['mu_I_l'])\n",
        "        total_variance = ((row['Sup_v'] / row['m_v'])**2) * ((V_N_v*(row['sigma_I_l']**2)) + V_N_v * (l**2 + 2 * l * row['mu_I_l'] + row['mu_I_l']**2) + E_N_v**2 * (row['sigma_I_l']**2))\n",
        "\n",
        "        vaccine_contributions[antigen] = {\n",
        "            'total_supplied': total_supplied,\n",
        "            'total_variance': total_variance\n",
        "        }\n",
        "\n",
        "    # Determine the critical antigen based on the highest contribution\n",
        "    critical_antigen = max(vaccine_contributions, key=lambda ant: vaccine_contributions[ant]['total_supplied'])\n",
        "\n",
        "    E_D_v = vaccine_contributions[critical_antigen]['total_supplied']\n",
        "    V_D_v = (phi_va[vaccine][critical_antigen]**2) * vaccine_contributions[critical_antigen]['total_variance']\n",
        "    SS_v = norm.ppf(alpha) * np.sqrt(V_D_v)\n",
        "    R_v = E_D_v + SS_v\n",
        "\n",
        "    return {\n",
        "        'Vaccine': vaccine,\n",
        "        'Critical Antigen': critical_antigen,\n",
        "        'Expected Lead-time Demand': E_D_v,\n",
        "        'Safety Stock': SS_v,\n",
        "        'Re-order Level': R_v\n",
        "    }\n",
        "\n",
        "# Calculate and print the outcome for the Penta vaccine\n",
        "outcome = calculate_penta_outcome(df)\n",
        "print(f\"Vaccine: {outcome['Vaccine']}, Critical Antigen: {outcome['Critical Antigen']}, Expected Lead-time Demand: {outcome['Expected Lead-time Demand']}, Safety Stock: {outcome['Safety Stock']}, Re-order Level: {outcome['Re-order Level']}\")\n"
      ],
      "metadata": {
        "colab": {
          "base_uri": "https://localhost:8080/"
        },
        "id": "DvgKXB42-ovn",
        "outputId": "a525ff18-b235-421d-9d99-059950cb8dca"
      },
      "execution_count": null,
      "outputs": [
        {
          "output_type": "stream",
          "name": "stdout",
          "text": [
            "Vaccine: Penta, Critical Antigen: DTwP, Expected Lead-time Demand: 414513.69008627994, Safety Stock: 2504278.5556123927, Re-order Level: 2918792.2456986727\n"
          ]
        }
      ]
    },
    {
      "cell_type": "code",
      "source": [
        "pip install sympy"
      ],
      "metadata": {
        "colab": {
          "base_uri": "https://localhost:8080/"
        },
        "id": "-XK20pK7626-",
        "outputId": "8286876e-9d16-47cb-d3b3-2d0a7c51a6b1"
      },
      "execution_count": null,
      "outputs": [
        {
          "output_type": "stream",
          "name": "stdout",
          "text": [
            "Requirement already satisfied: sympy in /usr/local/lib/python3.10/dist-packages (1.12)\n",
            "Requirement already satisfied: mpmath>=0.19 in /usr/local/lib/python3.10/dist-packages (from sympy) (1.3.0)\n"
          ]
        }
      ]
    },
    {
      "cell_type": "code",
      "source": [
        "from sympy import symbols, diff\n",
        "import numpy as np\n",
        "import matplotlib.pyplot as plt\n",
        "\n",
        "Sup_v = symbols('Sup_v') #\n",
        "m_v = symbols('m_v')\n",
        "p_v = symbols('p_v')\n",
        "V_Il = symbols('V_Il')\n",
        "E_Il = symbols('E_Il')\n",
        "l = symbols('l')\n",
        "Z = symbols('Z')\n",
        "phi_va= symbols('phi_va')\n",
        "\n",
        "# SSv - ss for a penta vaccine\n",
        "dSSv = (phi_va-1)*Z*(Sup_v/m_v)*((m_v*p_v-m_v*(p_v**2)+(m_v**2)*(p_v**2))*V_Il+(m_v*p_v-m_v*(p_v**2))*((l**2)+2*l*E_Il+(E_Il**2)))**(1/2)\n",
        "dSSv"
      ],
      "metadata": {
        "colab": {
          "base_uri": "https://localhost:8080/",
          "height": 62
        },
        "id": "cqzu160n5LCj",
        "outputId": "872cd4ad-29fd-495e-82b0-7bb248733ab9"
      },
      "execution_count": null,
      "outputs": [
        {
          "output_type": "execute_result",
          "data": {
            "text/plain": [
              "Sup_v*Z*(phi_va - 1)*(V_Il*(m_v**2*p_v**2 - m_v*p_v**2 + m_v*p_v) + (-m_v*p_v**2 + m_v*p_v)*(E_Il**2 + 2*E_Il*l + l**2))**0.5/m_v"
            ],
            "text/latex": "$\\displaystyle \\frac{Sup_{v} Z \\left(\\phi_{va} - 1\\right) \\left(V_{Il} \\left(m_{v}^{2} p_{v}^{2} - m_{v} p_{v}^{2} + m_{v} p_{v}\\right) + \\left(- m_{v} p_{v}^{2} + m_{v} p_{v}\\right) \\left(E_{Il}^{2} + 2 E_{Il} l + l^{2}\\right)\\right)^{0.5}}{m_{v}}$"
          },
          "metadata": {},
          "execution_count": 3
        }
      ]
    },
    {
      "cell_type": "code",
      "source": [
        "dSSv_m = diff(dSSv, m_v)\n",
        "print(\"dSSv/dm_v=\")\n",
        "print(dSSv_m)\n",
        "dSSv_m"
      ],
      "metadata": {
        "colab": {
          "base_uri": "https://localhost:8080/",
          "height": 165
        },
        "id": "k4Xhavw85K6e",
        "outputId": "a8af15bf-f2ce-4a68-95d3-40e5f365c51f"
      },
      "execution_count": null,
      "outputs": [
        {
          "output_type": "stream",
          "name": "stdout",
          "text": [
            "dSSv/dm_v=\n",
            "Sup_v*Z*(phi_va - 1)*(0.5*V_Il*(2*m_v*p_v**2 - p_v**2 + p_v) + 0.5*(-p_v**2 + p_v)*(E_Il**2 + 2*E_Il*l + l**2))/(m_v*(V_Il*(m_v**2*p_v**2 - m_v*p_v**2 + m_v*p_v) + (-m_v*p_v**2 + m_v*p_v)*(E_Il**2 + 2*E_Il*l + l**2))**0.5) - Sup_v*Z*(phi_va - 1)*(V_Il*(m_v**2*p_v**2 - m_v*p_v**2 + m_v*p_v) + (-m_v*p_v**2 + m_v*p_v)*(E_Il**2 + 2*E_Il*l + l**2))**0.5/m_v**2\n"
          ]
        },
        {
          "output_type": "execute_result",
          "data": {
            "text/plain": [
              "Sup_v*Z*(phi_va - 1)*(0.5*V_Il*(2*m_v*p_v**2 - p_v**2 + p_v) + 0.5*(-p_v**2 + p_v)*(E_Il**2 + 2*E_Il*l + l**2))/(m_v*(V_Il*(m_v**2*p_v**2 - m_v*p_v**2 + m_v*p_v) + (-m_v*p_v**2 + m_v*p_v)*(E_Il**2 + 2*E_Il*l + l**2))**0.5) - Sup_v*Z*(phi_va - 1)*(V_Il*(m_v**2*p_v**2 - m_v*p_v**2 + m_v*p_v) + (-m_v*p_v**2 + m_v*p_v)*(E_Il**2 + 2*E_Il*l + l**2))**0.5/m_v**2"
            ],
            "text/latex": "$\\displaystyle \\frac{Sup_{v} Z \\left(\\phi_{va} - 1\\right) \\left(0.5 V_{Il} \\left(2 m_{v} p_{v}^{2} - p_{v}^{2} + p_{v}\\right) + 0.5 \\left(- p_{v}^{2} + p_{v}\\right) \\left(E_{Il}^{2} + 2 E_{Il} l + l^{2}\\right)\\right)}{m_{v} \\left(V_{Il} \\left(m_{v}^{2} p_{v}^{2} - m_{v} p_{v}^{2} + m_{v} p_{v}\\right) + \\left(- m_{v} p_{v}^{2} + m_{v} p_{v}\\right) \\left(E_{Il}^{2} + 2 E_{Il} l + l^{2}\\right)\\right)^{0.5}} - \\frac{Sup_{v} Z \\left(\\phi_{va} - 1\\right) \\left(V_{Il} \\left(m_{v}^{2} p_{v}^{2} - m_{v} p_{v}^{2} + m_{v} p_{v}\\right) + \\left(- m_{v} p_{v}^{2} + m_{v} p_{v}\\right) \\left(E_{Il}^{2} + 2 E_{Il} l + l^{2}\\right)\\right)^{0.5}}{m_{v}^{2}}$"
          },
          "metadata": {},
          "execution_count": 9
        }
      ]
    },
    {
      "cell_type": "code",
      "source": [
        "dSSv_pv = diff(dSSv, p_v)\n",
        "print(\"dSSv/dp_v=\")\n",
        "print(dSSv_pv)\n",
        "dSSv_pv"
      ],
      "metadata": {
        "colab": {
          "base_uri": "https://localhost:8080/",
          "height": 99
        },
        "id": "38Iak7d08WLP",
        "outputId": "66a6a197-448d-47e8-d249-2d69b105d535"
      },
      "execution_count": null,
      "outputs": [
        {
          "output_type": "stream",
          "name": "stdout",
          "text": [
            "dSSv/dp_v=\n",
            "Sup_v*Z*(phi_va - 1)*(0.5*V_Il*(2*m_v**2*p_v - 2*m_v*p_v + m_v) + 0.5*(-2*m_v*p_v + m_v)*(E_Il**2 + 2*E_Il*l + l**2))/(m_v*(V_Il*(m_v**2*p_v**2 - m_v*p_v**2 + m_v*p_v) + (-m_v*p_v**2 + m_v*p_v)*(E_Il**2 + 2*E_Il*l + l**2))**0.5)\n"
          ]
        },
        {
          "output_type": "execute_result",
          "data": {
            "text/plain": [
              "Sup_v*Z*(phi_va - 1)*(0.5*V_Il*(2*m_v**2*p_v - 2*m_v*p_v + m_v) + 0.5*(-2*m_v*p_v + m_v)*(E_Il**2 + 2*E_Il*l + l**2))/(m_v*(V_Il*(m_v**2*p_v**2 - m_v*p_v**2 + m_v*p_v) + (-m_v*p_v**2 + m_v*p_v)*(E_Il**2 + 2*E_Il*l + l**2))**0.5)"
            ],
            "text/latex": "$\\displaystyle \\frac{Sup_{v} Z \\left(\\phi_{va} - 1\\right) \\left(0.5 V_{Il} \\left(2 m_{v}^{2} p_{v} - 2 m_{v} p_{v} + m_{v}\\right) + 0.5 \\left(- 2 m_{v} p_{v} + m_{v}\\right) \\left(E_{Il}^{2} + 2 E_{Il} l + l^{2}\\right)\\right)}{m_{v} \\left(V_{Il} \\left(m_{v}^{2} p_{v}^{2} - m_{v} p_{v}^{2} + m_{v} p_{v}\\right) + \\left(- m_{v} p_{v}^{2} + m_{v} p_{v}\\right) \\left(E_{Il}^{2} + 2 E_{Il} l + l^{2}\\right)\\right)^{0.5}}$"
          },
          "metadata": {},
          "execution_count": 10
        }
      ]
    },
    {
      "cell_type": "code",
      "source": [
        "dSSv_Sup = diff(dSSv, Sup_v)\n",
        "print(\"dSSv/dSup_v=\")\n",
        "print(dSSv_Sup)\n",
        "dSSv_Sup"
      ],
      "metadata": {
        "colab": {
          "base_uri": "https://localhost:8080/",
          "height": 96
        },
        "id": "084NWhjR7_8K",
        "outputId": "03204a96-1bbd-4429-b710-5f324d8a9ca0"
      },
      "execution_count": null,
      "outputs": [
        {
          "output_type": "stream",
          "name": "stdout",
          "text": [
            "dSSv/dSup_v=\n",
            "Z*(phi_va - 1)*(V_Il*(m_v**2*p_v**2 - m_v*p_v**2 + m_v*p_v) + (-m_v*p_v**2 + m_v*p_v)*(E_Il**2 + 2*E_Il*l + l**2))**0.5/m_v\n"
          ]
        },
        {
          "output_type": "execute_result",
          "data": {
            "text/plain": [
              "Z*(phi_va - 1)*(V_Il*(m_v**2*p_v**2 - m_v*p_v**2 + m_v*p_v) + (-m_v*p_v**2 + m_v*p_v)*(E_Il**2 + 2*E_Il*l + l**2))**0.5/m_v"
            ],
            "text/latex": "$\\displaystyle \\frac{Z \\left(\\phi_{va} - 1\\right) \\left(V_{Il} \\left(m_{v}^{2} p_{v}^{2} - m_{v} p_{v}^{2} + m_{v} p_{v}\\right) + \\left(- m_{v} p_{v}^{2} + m_{v} p_{v}\\right) \\left(E_{Il}^{2} + 2 E_{Il} l + l^{2}\\right)\\right)^{0.5}}{m_{v}}$"
          },
          "metadata": {},
          "execution_count": 11
        }
      ]
    },
    {
      "cell_type": "code",
      "source": [
        "dSSv_E = diff(dSSv, E_Il)\n",
        "print(\"dSSv/dE_Il=\")\n",
        "print(dSSv_E)\n",
        "dSSv_E"
      ],
      "metadata": {
        "colab": {
          "base_uri": "https://localhost:8080/",
          "height": 99
        },
        "id": "b9b67AWA8Mrv",
        "outputId": "17150ab4-e462-422b-b00c-02b01b49e3f4"
      },
      "execution_count": null,
      "outputs": [
        {
          "output_type": "stream",
          "name": "stdout",
          "text": [
            "dSSv/dE_Il=\n",
            "0.5*Sup_v*Z*(2*E_Il + 2*l)*(phi_va - 1)*(-m_v*p_v**2 + m_v*p_v)/(m_v*(V_Il*(m_v**2*p_v**2 - m_v*p_v**2 + m_v*p_v) + (-m_v*p_v**2 + m_v*p_v)*(E_Il**2 + 2*E_Il*l + l**2))**0.5)\n"
          ]
        },
        {
          "output_type": "execute_result",
          "data": {
            "text/plain": [
              "0.5*Sup_v*Z*(2*E_Il + 2*l)*(phi_va - 1)*(-m_v*p_v**2 + m_v*p_v)/(m_v*(V_Il*(m_v**2*p_v**2 - m_v*p_v**2 + m_v*p_v) + (-m_v*p_v**2 + m_v*p_v)*(E_Il**2 + 2*E_Il*l + l**2))**0.5)"
            ],
            "text/latex": "$\\displaystyle \\frac{0.5 Sup_{v} Z \\left(2 E_{Il} + 2 l\\right) \\left(\\phi_{va} - 1\\right) \\left(- m_{v} p_{v}^{2} + m_{v} p_{v}\\right)}{m_{v} \\left(V_{Il} \\left(m_{v}^{2} p_{v}^{2} - m_{v} p_{v}^{2} + m_{v} p_{v}\\right) + \\left(- m_{v} p_{v}^{2} + m_{v} p_{v}\\right) \\left(E_{Il}^{2} + 2 E_{Il} l + l^{2}\\right)\\right)^{0.5}}$"
          },
          "metadata": {},
          "execution_count": 12
        }
      ]
    },
    {
      "cell_type": "code",
      "source": [
        "dSSv_V = diff(dSSv, V_Il)\n",
        "print(\"dSSv/dV_Il=\")\n",
        "print(dSSv_V)\n",
        "dSSv_V"
      ],
      "metadata": {
        "colab": {
          "base_uri": "https://localhost:8080/",
          "height": 99
        },
        "id": "QOuIU5PO8fxo",
        "outputId": "2a8d0cc9-a185-4213-d5e1-35d51f3281d7"
      },
      "execution_count": null,
      "outputs": [
        {
          "output_type": "stream",
          "name": "stdout",
          "text": [
            "dSSv/dV_Il=\n",
            "Sup_v*Z*(phi_va - 1)*(0.5*m_v**2*p_v**2 - 0.5*m_v*p_v**2 + 0.5*m_v*p_v)/(m_v*(V_Il*(m_v**2*p_v**2 - m_v*p_v**2 + m_v*p_v) + (-m_v*p_v**2 + m_v*p_v)*(E_Il**2 + 2*E_Il*l + l**2))**0.5)\n"
          ]
        },
        {
          "output_type": "execute_result",
          "data": {
            "text/plain": [
              "Sup_v*Z*(phi_va - 1)*(0.5*m_v**2*p_v**2 - 0.5*m_v*p_v**2 + 0.5*m_v*p_v)/(m_v*(V_Il*(m_v**2*p_v**2 - m_v*p_v**2 + m_v*p_v) + (-m_v*p_v**2 + m_v*p_v)*(E_Il**2 + 2*E_Il*l + l**2))**0.5)"
            ],
            "text/latex": "$\\displaystyle \\frac{Sup_{v} Z \\left(\\phi_{va} - 1\\right) \\left(0.5 m_{v}^{2} p_{v}^{2} - 0.5 m_{v} p_{v}^{2} + 0.5 m_{v} p_{v}\\right)}{m_{v} \\left(V_{Il} \\left(m_{v}^{2} p_{v}^{2} - m_{v} p_{v}^{2} + m_{v} p_{v}\\right) + \\left(- m_{v} p_{v}^{2} + m_{v} p_{v}\\right) \\left(E_{Il}^{2} + 2 E_{Il} l + l^{2}\\right)\\right)^{0.5}}$"
          },
          "metadata": {},
          "execution_count": 13
        }
      ]
    },
    {
      "cell_type": "code",
      "source": [
        "import sympy as sp\n",
        "\n",
        "m_v, p_v, V_Il, E_Il, l, Sup_v, phi_va, Z = sp.symbols('m_v p_v V_Il E_Il l Sup_v phi_va Z')\n",
        "\n",
        "\n",
        "dSSv = (phi_va-1)*Z*(Sup_v/m_v)*((m_v*p_v-m_v*(p_v**2)+(m_v**2)*(p_v**2))*V_Il+(m_v*p_v-m_v*(p_v**2))*((l**2)+2*l*E_Il+(E_Il**2)))**(1/2)\n",
        "dSSv_dm_v = sp.diff(dSSv, m_v)\n",
        "\n",
        "\n",
        "# Simplify the expression for clarity in order to reduce the running time\n",
        "dSSv_dm_v_simplified = dSSv_dm_v.simplify()\n",
        "\n",
        "\n",
        "# Parameters:\n",
        "n = {p_v: 0.2, V_Il: 11025, E_Il: 255, l: 7, Sup_v: 26369, phi_va: 0.75, Z: 0.95} # phi_va r.v. := W_va/ sum of W_va (0,1)!\n",
        "\n",
        "# Create a lambda function\n",
        "dSSv_dm_v_func = sp.lambdify(m_v, dSSv_dm_v_simplified.subs(n), 'numpy')\n",
        "\n",
        "\n",
        "# Values for m_v ranging from 0.01 to 20, avoiding zero to prevent division by zero errors\n",
        "m_v_values = np.linspace(1, 7, 10)\n",
        "\n",
        "\n",
        "# Evaluate the derivative\n",
        "dSSv_dm_v_values = dSSv_dm_v_func(m_v_values)\n",
        "\n",
        "\n",
        "\n",
        "plt.plot(m_v_values, dSSv_dm_v_values, label='dSSv/dm_v')\n",
        "plt.title('Derivative of SSv with respect to m_v')\n",
        "plt.xlabel('m_v')\n",
        "plt.ylabel('dSSv/dm_v')\n",
        "plt.grid(True)\n",
        "plt.legend()\n",
        "\n",
        "\n",
        "dSSv_dm_v_simplified"
      ],
      "metadata": {
        "colab": {
          "base_uri": "https://localhost:8080/",
          "height": 529
        },
        "id": "oM5pjs4x5K3t",
        "outputId": "ab223c3f-63fc-4a40-8bdc-20f2765bb0aa"
      },
      "execution_count": null,
      "outputs": [
        {
          "output_type": "execute_result",
          "data": {
            "text/plain": [
              "Sup_v*Z*(phi_va - 1)*(0.5*m_v*p_v*(V_Il*(2*m_v*p_v - p_v + 1) - (p_v - 1)*(E_Il**2 + 2*E_Il*l + l**2)) - (m_v*p_v*(V_Il*(m_v*p_v - p_v + 1) - (p_v - 1)*(E_Il**2 + 2*E_Il*l + l**2)))**1.0)/(m_v**2*(m_v*p_v*(V_Il*(m_v*p_v - p_v + 1) - (p_v - 1)*(E_Il**2 + 2*E_Il*l + l**2)))**0.5)"
            ],
            "text/latex": "$\\displaystyle \\frac{Sup_{v} Z \\left(\\phi_{va} - 1\\right) \\left(0.5 m_{v} p_{v} \\left(V_{Il} \\left(2 m_{v} p_{v} - p_{v} + 1\\right) - \\left(p_{v} - 1\\right) \\left(E_{Il}^{2} + 2 E_{Il} l + l^{2}\\right)\\right) - \\left(m_{v} p_{v} \\left(V_{Il} \\left(m_{v} p_{v} - p_{v} + 1\\right) - \\left(p_{v} - 1\\right) \\left(E_{Il}^{2} + 2 E_{Il} l + l^{2}\\right)\\right)\\right)^{1.0}\\right)}{m_{v}^{2} \\left(m_{v} p_{v} \\left(V_{Il} \\left(m_{v} p_{v} - p_{v} + 1\\right) - \\left(p_{v} - 1\\right) \\left(E_{Il}^{2} + 2 E_{Il} l + l^{2}\\right)\\right)\\right)^{0.5}}$"
          },
          "metadata": {},
          "execution_count": 23
        },
        {
          "output_type": "display_data",
          "data": {
            "text/plain": [
              "<Figure size 640x480 with 1 Axes>"
            ],
            "image/png": "[encoded data removed]"
          },
          "metadata": {}
        }
      ]
    },
    {
      "cell_type": "code",
      "source": [
        "import sympy as sp\n",
        "\n",
        "m_v, p_v, V_Il, E_Il, l, Sup_v, phi_va, Z = sp.symbols('m_v p_v V_Il E_Il l Sup_v phi_va Z')\n",
        "\n",
        "\n",
        "dSSv = (phi_va-1)*Z*(Sup_v/m_v)*((m_v*p_v-m_v*(p_v**2)+(m_v**2)*(p_v**2))*V_Il+(m_v*p_v-m_v*(p_v**2))*((l**2)+2*l*E_Il+(E_Il**2)))**(1/2)\n",
        "dSSv_dp_v = sp.diff(dSSv, p_v)\n",
        "\n",
        "\n",
        "# Simplify the expression for clarity in order to reduce the running time\n",
        "dSSv_dp_v_simplified = dSSv_dp_v.simplify()\n",
        "\n",
        "\n",
        "# Parameters:\n",
        "n = {m_v: 1, V_Il: 11025, E_Il: 255, l: 7, Sup_v: 26369, phi_va: 0.75, Z: 0.95} # phi_va r.v. := W_va/ sum of W_va (0,1)!\n",
        "\n",
        "# Create a lambda function\n",
        "dSSv_dp_v_func = sp.lambdify(p_v, dSSv_dp_v_simplified.subs(n), 'numpy')\n",
        "\n",
        "\n",
        "\n",
        "p_v_values = np.linspace(0.1, 1, 1000)\n",
        "\n",
        "\n",
        "# Evaluate the derivative\n",
        "dSSv_dp_v_values = dSSv_dp_v_func(p_v_values)\n",
        "\n",
        "\n",
        "\n",
        "plt.plot(p_v_values, dSSv_dp_v_values, label='dSSv/dp_v')\n",
        "plt.title('Derivative of SSv with respect to p_v')\n",
        "plt.xlabel('p_v')\n",
        "plt.ylabel('dSSv/dp_v')\n",
        "plt.grid(True)\n",
        "plt.legend()\n",
        "\n",
        "\n",
        "dSSv_dp_v_simplified"
      ],
      "metadata": {
        "colab": {
          "base_uri": "https://localhost:8080/",
          "height": 519
        },
        "id": "mQoRyRGZ5KvG",
        "outputId": "9034fc81-7516-4380-de86-1c25c69c5467"
      },
      "execution_count": null,
      "outputs": [
        {
          "output_type": "execute_result",
          "data": {
            "text/plain": [
              "0.5*Sup_v*Z*(phi_va - 1)*(V_Il*(2*m_v*p_v - 2*p_v + 1) - (2*p_v - 1)*(E_Il**2 + 2*E_Il*l + l**2))/(m_v*p_v*(V_Il*(m_v*p_v - p_v + 1) - (p_v - 1)*(E_Il**2 + 2*E_Il*l + l**2)))**0.5"
            ],
            "text/latex": "$\\displaystyle \\frac{0.5 Sup_{v} Z \\left(\\phi_{va} - 1\\right) \\left(V_{Il} \\left(2 m_{v} p_{v} - 2 p_{v} + 1\\right) - \\left(2 p_{v} - 1\\right) \\left(E_{Il}^{2} + 2 E_{Il} l + l^{2}\\right)\\right)}{\\left(m_{v} p_{v} \\left(V_{Il} \\left(m_{v} p_{v} - p_{v} + 1\\right) - \\left(p_{v} - 1\\right) \\left(E_{Il}^{2} + 2 E_{Il} l + l^{2}\\right)\\right)\\right)^{0.5}}$"
          },
          "metadata": {},
          "execution_count": 19
        },
        {
          "output_type": "display_data",
          "data": {
            "text/plain": [
              "<Figure size 640x480 with 1 Axes>"
            ],
            "image/png": "[encoded data removed]"
          },
          "metadata": {}
        }
      ]
    },
    {
      "cell_type": "code",
      "source": [
        "import sympy as sp\n",
        "\n",
        "m_v, p_v, V_Il, E_Il, l, Sup_v, phi_va, Z = sp.symbols('m_v p_v V_Il E_Il l Sup_v phi_va Z')\n",
        "\n",
        "\n",
        "dSSv = (phi_va-1)*Z*(Sup_v/m_v)*((m_v*p_v-m_v*(p_v**2)+(m_v**2)*(p_v**2))*V_Il+(m_v*p_v-m_v*(p_v**2))*((l**2)+2*l*E_Il+(E_Il**2)))**(1/2)\n",
        "dSSv_dE = sp.diff(dSSv, E_Il)\n",
        "\n",
        "\n",
        "# Simplify the expression for clarity in order to reduce the running time\n",
        "dSSv_dE_simplified = dSSv_dE.simplify()\n",
        "\n",
        "\n",
        "# Parameters:\n",
        "n = {m_v: 1, V_Il: 11025, p_v: 0.20, l: 7, Sup_v: 26369, phi_va: 0.75, Z: 0.95} # phi_va r.v. := W_va/ sum of W_va (0,1)!\n",
        "\n",
        "# Create a lambda function\n",
        "dSSv_dE_func = sp.lambdify(E_Il, dSSv_dE_simplified.subs(n), 'numpy')\n",
        "\n",
        "\n",
        "E_Il_values = np.linspace(0.1, 1000, 100)\n",
        "\n",
        "\n",
        "# Evaluate the derivative\n",
        "dSSv_dE_values = dSSv_dE_func(E_Il_values)\n",
        "\n",
        "\n",
        "\n",
        "plt.plot(E_Il_values, dSSv_dE_values, label='dSSv/dE_Il')\n",
        "plt.title('Derivative of SSv with respect to E_Il')\n",
        "plt.xlabel('E_Il')\n",
        "plt.ylabel('dSSv/dE_Il')\n",
        "plt.grid(True)\n",
        "plt.legend()\n",
        "\n",
        "\n",
        "dSSv_dE_simplified"
      ],
      "metadata": {
        "colab": {
          "base_uri": "https://localhost:8080/",
          "height": 516
        },
        "id": "cKA9rwEl-vzf",
        "outputId": "7267ffc2-db9d-4698-e789-486bfc52be58"
      },
      "execution_count": null,
      "outputs": [
        {
          "output_type": "execute_result",
          "data": {
            "text/plain": [
              "-1.0*Sup_v*Z*p_v*(E_Il + l)*(p_v - 1)*(phi_va - 1)/(m_v*p_v*(V_Il*(m_v*p_v - p_v + 1) - (p_v - 1)*(E_Il**2 + 2*E_Il*l + l**2)))**0.5"
            ],
            "text/latex": "$\\displaystyle - \\frac{1.0 Sup_{v} Z p_{v} \\left(E_{Il} + l\\right) \\left(p_{v} - 1\\right) \\left(\\phi_{va} - 1\\right)}{\\left(m_{v} p_{v} \\left(V_{Il} \\left(m_{v} p_{v} - p_{v} + 1\\right) - \\left(p_{v} - 1\\right) \\left(E_{Il}^{2} + 2 E_{Il} l + l^{2}\\right)\\right)\\right)^{0.5}}$"
          },
          "metadata": {},
          "execution_count": 24
        },
        {
          "output_type": "display_data",
          "data": {
            "text/plain": [
              "<Figure size 640x480 with 1 Axes>"
            ],
            "image/png": "[encoded data removed]"
          },
          "metadata": {}
        }
      ]
    },
    {
      "cell_type": "code",
      "source": [
        "import sympy as sp\n",
        "\n",
        "m_v, p_v, V_Il, E_Il, l, Sup_v, phi_va, Z = sp.symbols('m_v p_v V_Il E_Il l Sup_v phi_va Z')\n",
        "\n",
        "\n",
        "dSSv = (phi_va-1)*Z*(Sup_v/m_v)*((m_v*p_v-m_v*(p_v**2)+(m_v**2)*(p_v**2))*V_Il+(m_v*p_v-m_v*(p_v**2))*((l**2)+2*l*E_Il+(E_Il**2)))**(1/2)\n",
        "dSSv_dV = sp.diff(dSSv, V_Il)\n",
        "\n",
        "\n",
        "# Simplify the expression for clarity in order to reduce the running time\n",
        "dSSv_dV_simplified = dSSv_dV.simplify()\n",
        "\n",
        "\n",
        "# Parameters:\n",
        "n = {m_v: 1, p_v: 0.2, E_Il: 255, l: 7, Sup_v: 26369, phi_va: 0.75, Z: 0.95} # phi_va r.v. := W_va/ sum of W_va (0,1)!\n",
        "\n",
        "# Create a lambda function\n",
        "dSSv_dV_func = sp.lambdify(V_Il, dSSv_dV_simplified.subs(n), 'numpy')\n",
        "\n",
        "\n",
        "\n",
        "V_Il_values = np.linspace(0.1, 1000000, 1000000)\n",
        "\n",
        "\n",
        "# Evaluate the derivative\n",
        "dSSv_dV_values = dSSv_dV_func(V_Il_values)\n",
        "\n",
        "\n",
        "\n",
        "plt.plot(V_Il_values, dSSv_dV_values, label='dSSv/dV_Il')\n",
        "plt.title('Derivative of SSv with respect to V_Il')\n",
        "plt.xlabel('V_Il')\n",
        "plt.ylabel('dSSv/dV_Il')\n",
        "plt.grid(True)\n",
        "plt.legend()\n",
        "\n",
        "\n",
        "dSSv_dV_simplified"
      ],
      "metadata": {
        "colab": {
          "base_uri": "https://localhost:8080/",
          "height": 516
        },
        "id": "0UawblDA_kx2",
        "outputId": "de2a489a-d3fb-429c-ba70-29212c15e857"
      },
      "execution_count": null,
      "outputs": [
        {
          "output_type": "execute_result",
          "data": {
            "text/plain": [
              "0.5*Sup_v*Z*p_v*(phi_va - 1)*(m_v*p_v - p_v + 1)/(m_v*p_v*(V_Il*(m_v*p_v - p_v + 1) - (p_v - 1)*(E_Il**2 + 2*E_Il*l + l**2)))**0.5"
            ],
            "text/latex": "$\\displaystyle \\frac{0.5 Sup_{v} Z p_{v} \\left(\\phi_{va} - 1\\right) \\left(m_{v} p_{v} - p_{v} + 1\\right)}{\\left(m_{v} p_{v} \\left(V_{Il} \\left(m_{v} p_{v} - p_{v} + 1\\right) - \\left(p_{v} - 1\\right) \\left(E_{Il}^{2} + 2 E_{Il} l + l^{2}\\right)\\right)\\right)^{0.5}}$"
          },
          "metadata": {},
          "execution_count": 25
        },
        {
          "output_type": "display_data",
          "data": {
            "text/plain": [
              "<Figure size 640x480 with 1 Axes>"
            ],
            "image/png": "[encoded data removed]"
          },
          "metadata": {}
        }
      ]
    },
    {
      "cell_type": "code",
      "source": [
        "import sympy as sp\n",
        "\n",
        "m_v, p_v, V_Il, E_Il, l, Sup_v, phi_va, Z = sp.symbols('m_v p_v V_Il E_Il l Sup_v phi_va Z')\n",
        "\n",
        "\n",
        "dSSv = (phi_va-1)*Z*(Sup_v/m_v)*((m_v*p_v-m_v*(p_v**2)+(m_v**2)*(p_v**2))*V_Il+(m_v*p_v-m_v*(p_v**2))*((l**2)+2*l*E_Il+(E_Il**2)))**(1/2)\n",
        "dSSv_dSup_v = sp.diff(dSSv, Sup_v)\n",
        "\n",
        "\n",
        "# Simplify the expression for clarity in order to reduce the running time\n",
        "dSSv_dSup_v_simplified = dSSv_dSup_v.simplify()\n",
        "\n",
        "\n",
        "# Parameters:\n",
        "n = {m_v: 1, V_Il: 11025, E_Il: 255, l: 7, p_v:0.2, phi_va: 0.75, Z: 0.95} # phi_va r.v. := W_va/ sum of W_va (0,1)!\n",
        "\n",
        "# Create a lambda function\n",
        "dSSv_dSup_v_func = sp.lambdify(Sup_v, dSSv_dSup_v_simplified.subs(n), 'numpy')\n",
        "\n",
        "\n",
        "Sup_v_values = np.linspace(0.1, 100000, 100)\n",
        "\n",
        "\n",
        "# Evaluate the derivative\n",
        "dSSv_dSup_v_values = dSSv_dSup_v_func(Sup_v_values)\n",
        "\n",
        "\n",
        "\n",
        "plt.plot(Sup_v_values, dSSv_dSup_v_values, label='dSSv/dSup_v')\n",
        "plt.title('Derivative of SSv with respect to Sup_v')\n",
        "plt.xlabel('Sup_v')\n",
        "plt.ylabel('dSSv/dSup_v')\n",
        "plt.grid(True)\n",
        "plt.legend()\n",
        "\n",
        "\n",
        "dSSv_dSup_v_simplified\n"
      ],
      "metadata": {
        "colab": {
          "base_uri": "https://localhost:8080/",
          "height": 774
        },
        "id": "fwZ7Xozu809o",
        "outputId": "6a8d09b1-245c-4f04-bad6-ca56c71ddf26"
      },
      "execution_count": null,
      "outputs": [
        {
          "output_type": "error",
          "ename": "ValueError",
          "evalue": "x and y must have same first dimension, but have shapes (100,) and (1,)",
          "traceback": [
            "\u001b[0;31m---------------------------------------------------------------------------\u001b[0m",
            "\u001b[0;31mValueError\u001b[0m                                Traceback (most recent call last)",
            "\u001b[0;32m<ipython-input-27-ab88897cfd02>\u001b[0m in \u001b[0;36m<cell line: 29>\u001b[0;34m()\u001b[0m\n\u001b[1;32m     27\u001b[0m \u001b[0;34m\u001b[0m\u001b[0m\n\u001b[1;32m     28\u001b[0m \u001b[0;34m\u001b[0m\u001b[0m\n\u001b[0;32m---> 29\u001b[0;31m \u001b[0mplt\u001b[0m\u001b[0;34m.\u001b[0m\u001b[0mplot\u001b[0m\u001b[0;34m(\u001b[0m\u001b[0mSup_v_values\u001b[0m\u001b[0;34m,\u001b[0m \u001b[0mdSSv_dSup_v_values\u001b[0m\u001b[0;34m,\u001b[0m \u001b[0mlabel\u001b[0m\u001b[0;34m=\u001b[0m\u001b[0;34m'dSSv/dSup_v'\u001b[0m\u001b[0;34m)\u001b[0m\u001b[0;34m\u001b[0m\u001b[0;34m\u001b[0m\u001b[0m\n\u001b[0m\u001b[1;32m     30\u001b[0m \u001b[0mplt\u001b[0m\u001b[0;34m.\u001b[0m\u001b[0mtitle\u001b[0m\u001b[0;34m(\u001b[0m\u001b[0;34m'Derivative of SSv with respect to Sup_v'\u001b[0m\u001b[0;34m)\u001b[0m\u001b[0;34m\u001b[0m\u001b[0;34m\u001b[0m\u001b[0m\n\u001b[1;32m     31\u001b[0m \u001b[0mplt\u001b[0m\u001b[0;34m.\u001b[0m\u001b[0mxlabel\u001b[0m\u001b[0;34m(\u001b[0m\u001b[0;34m'Sup_v'\u001b[0m\u001b[0;34m)\u001b[0m\u001b[0;34m\u001b[0m\u001b[0;34m\u001b[0m\u001b[0m\n",
            "\u001b[0;32m/usr/local/lib/python3.10/dist-packages/matplotlib/pyplot.py\u001b[0m in \u001b[0;36mplot\u001b[0;34m(scalex, scaley, data, *args, **kwargs)\u001b[0m\n\u001b[1;32m   2810\u001b[0m \u001b[0;34m@\u001b[0m\u001b[0m_copy_docstring_and_deprecators\u001b[0m\u001b[0;34m(\u001b[0m\u001b[0mAxes\u001b[0m\u001b[0;34m.\u001b[0m\u001b[0mplot\u001b[0m\u001b[0;34m)\u001b[0m\u001b[0;34m\u001b[0m\u001b[0;34m\u001b[0m\u001b[0m\n\u001b[1;32m   2811\u001b[0m \u001b[0;32mdef\u001b[0m \u001b[0mplot\u001b[0m\u001b[0;34m(\u001b[0m\u001b[0;34m*\u001b[0m\u001b[0margs\u001b[0m\u001b[0;34m,\u001b[0m \u001b[0mscalex\u001b[0m\u001b[0;34m=\u001b[0m\u001b[0;32mTrue\u001b[0m\u001b[0;34m,\u001b[0m \u001b[0mscaley\u001b[0m\u001b[0;34m=\u001b[0m\u001b[0;32mTrue\u001b[0m\u001b[0;34m,\u001b[0m \u001b[0mdata\u001b[0m\u001b[0;34m=\u001b[0m\u001b[0;32mNone\u001b[0m\u001b[0;34m,\u001b[0m \u001b[0;34m**\u001b[0m\u001b[0mkwargs\u001b[0m\u001b[0;34m)\u001b[0m\u001b[0;34m:\u001b[0m\u001b[0;34m\u001b[0m\u001b[0;34m\u001b[0m\u001b[0m\n\u001b[0;32m-> 2812\u001b[0;31m     return gca().plot(\n\u001b[0m\u001b[1;32m   2813\u001b[0m         \u001b[0;34m*\u001b[0m\u001b[0margs\u001b[0m\u001b[0;34m,\u001b[0m \u001b[0mscalex\u001b[0m\u001b[0;34m=\u001b[0m\u001b[0mscalex\u001b[0m\u001b[0;34m,\u001b[0m \u001b[0mscaley\u001b[0m\u001b[0;34m=\u001b[0m\u001b[0mscaley\u001b[0m\u001b[0;34m,\u001b[0m\u001b[0;34m\u001b[0m\u001b[0;34m\u001b[0m\u001b[0m\n\u001b[1;32m   2814\u001b[0m         **({\"data\": data} if data is not None else {}), **kwargs)\n",
            "\u001b[0;32m/usr/local/lib/python3.10/dist-packages/matplotlib/axes/_axes.py\u001b[0m in \u001b[0;36mplot\u001b[0;34m(self, scalex, scaley, data, *args, **kwargs)\u001b[0m\n\u001b[1;32m   1686\u001b[0m         \"\"\"\n\u001b[1;32m   1687\u001b[0m         \u001b[0mkwargs\u001b[0m \u001b[0;34m=\u001b[0m \u001b[0mcbook\u001b[0m\u001b[0;34m.\u001b[0m\u001b[0mnormalize_kwargs\u001b[0m\u001b[0;34m(\u001b[0m\u001b[0mkwargs\u001b[0m\u001b[0;34m,\u001b[0m \u001b[0mmlines\u001b[0m\u001b[0;34m.\u001b[0m\u001b[0mLine2D\u001b[0m\u001b[0;34m)\u001b[0m\u001b[0;34m\u001b[0m\u001b[0;34m\u001b[0m\u001b[0m\n\u001b[0;32m-> 1688\u001b[0;31m         \u001b[0mlines\u001b[0m \u001b[0;34m=\u001b[0m \u001b[0;34m[\u001b[0m\u001b[0;34m*\u001b[0m\u001b[0mself\u001b[0m\u001b[0;34m.\u001b[0m\u001b[0m_get_lines\u001b[0m\u001b[0;34m(\u001b[0m\u001b[0;34m*\u001b[0m\u001b[0margs\u001b[0m\u001b[0;34m,\u001b[0m \u001b[0mdata\u001b[0m\u001b[0;34m=\u001b[0m\u001b[0mdata\u001b[0m\u001b[0;34m,\u001b[0m \u001b[0;34m**\u001b[0m\u001b[0mkwargs\u001b[0m\u001b[0;34m)\u001b[0m\u001b[0;34m]\u001b[0m\u001b[0;34m\u001b[0m\u001b[0;34m\u001b[0m\u001b[0m\n\u001b[0m\u001b[1;32m   1689\u001b[0m         \u001b[0;32mfor\u001b[0m \u001b[0mline\u001b[0m \u001b[0;32min\u001b[0m \u001b[0mlines\u001b[0m\u001b[0;34m:\u001b[0m\u001b[0;34m\u001b[0m\u001b[0;34m\u001b[0m\u001b[0m\n\u001b[1;32m   1690\u001b[0m             \u001b[0mself\u001b[0m\u001b[0;34m.\u001b[0m\u001b[0madd_line\u001b[0m\u001b[0;34m(\u001b[0m\u001b[0mline\u001b[0m\u001b[0;34m)\u001b[0m\u001b[0;34m\u001b[0m\u001b[0;34m\u001b[0m\u001b[0m\n",
            "\u001b[0;32m/usr/local/lib/python3.10/dist-packages/matplotlib/axes/_base.py\u001b[0m in \u001b[0;36m__call__\u001b[0;34m(self, data, *args, **kwargs)\u001b[0m\n\u001b[1;32m    309\u001b[0m                 \u001b[0mthis\u001b[0m \u001b[0;34m+=\u001b[0m \u001b[0margs\u001b[0m\u001b[0;34m[\u001b[0m\u001b[0;36m0\u001b[0m\u001b[0;34m]\u001b[0m\u001b[0;34m,\u001b[0m\u001b[0;34m\u001b[0m\u001b[0;34m\u001b[0m\u001b[0m\n\u001b[1;32m    310\u001b[0m                 \u001b[0margs\u001b[0m \u001b[0;34m=\u001b[0m \u001b[0margs\u001b[0m\u001b[0;34m[\u001b[0m\u001b[0;36m1\u001b[0m\u001b[0;34m:\u001b[0m\u001b[0;34m]\u001b[0m\u001b[0;34m\u001b[0m\u001b[0;34m\u001b[0m\u001b[0m\n\u001b[0;32m--> 311\u001b[0;31m             yield from self._plot_args(\n\u001b[0m\u001b[1;32m    312\u001b[0m                 this, kwargs, ambiguous_fmt_datakey=ambiguous_fmt_datakey)\n\u001b[1;32m    313\u001b[0m \u001b[0;34m\u001b[0m\u001b[0m\n",
            "\u001b[0;32m/usr/local/lib/python3.10/dist-packages/matplotlib/axes/_base.py\u001b[0m in \u001b[0;36m_plot_args\u001b[0;34m(self, tup, kwargs, return_kwargs, ambiguous_fmt_datakey)\u001b[0m\n\u001b[1;32m    502\u001b[0m \u001b[0;34m\u001b[0m\u001b[0m\n\u001b[1;32m    503\u001b[0m         \u001b[0;32mif\u001b[0m \u001b[0mx\u001b[0m\u001b[0;34m.\u001b[0m\u001b[0mshape\u001b[0m\u001b[0;34m[\u001b[0m\u001b[0;36m0\u001b[0m\u001b[0;34m]\u001b[0m \u001b[0;34m!=\u001b[0m \u001b[0my\u001b[0m\u001b[0;34m.\u001b[0m\u001b[0mshape\u001b[0m\u001b[0;34m[\u001b[0m\u001b[0;36m0\u001b[0m\u001b[0;34m]\u001b[0m\u001b[0;34m:\u001b[0m\u001b[0;34m\u001b[0m\u001b[0;34m\u001b[0m\u001b[0m\n\u001b[0;32m--> 504\u001b[0;31m             raise ValueError(f\"x and y must have same first dimension, but \"\n\u001b[0m\u001b[1;32m    505\u001b[0m                              f\"have shapes {x.shape} and {y.shape}\")\n\u001b[1;32m    506\u001b[0m         \u001b[0;32mif\u001b[0m \u001b[0mx\u001b[0m\u001b[0;34m.\u001b[0m\u001b[0mndim\u001b[0m \u001b[0;34m>\u001b[0m \u001b[0;36m2\u001b[0m \u001b[0;32mor\u001b[0m \u001b[0my\u001b[0m\u001b[0;34m.\u001b[0m\u001b[0mndim\u001b[0m \u001b[0;34m>\u001b[0m \u001b[0;36m2\u001b[0m\u001b[0;34m:\u001b[0m\u001b[0;34m\u001b[0m\u001b[0;34m\u001b[0m\u001b[0m\n",
            "\u001b[0;31mValueError\u001b[0m: x and y must have same first dimension, but have shapes (100,) and (1,)"
          ]
        },
        {
          "output_type": "display_data",
          "data": {
            "text/plain": [
              "<Figure size 640x480 with 1 Axes>"
            ],
            "image/png": "[encoded data removed]"
          },
          "metadata": {}
        }
      ]
    },
    {
      "cell_type": "code",
      "source": [],
      "metadata": {
        "id": "A78cjHpP804V"
      },
      "execution_count": null,
      "outputs": []
    },
    {
      "cell_type": "code",
      "source": [],
      "metadata": {
        "id": "WaXcuWne801p"
      },
      "execution_count": null,
      "outputs": []
    },
    {
      "cell_type": "code",
      "source": [],
      "metadata": {
        "id": "YQ3s_Dt880sp"
      },
      "execution_count": null,
      "outputs": []
    },
    {
      "cell_type": "code",
      "source": [],
      "metadata": {
        "id": "LCWcsyup80pp"
      },
      "execution_count": null,
      "outputs": []
    },
    {
      "cell_type": "code",
      "source": [],
      "metadata": {
        "id": "Eqy02OzF80m5"
      },
      "execution_count": null,
      "outputs": []
    },
    {
      "cell_type": "code",
      "source": [
        "import numpy as np\n",
        "import pandas as pd\n",
        "from scipy.stats import norm\n",
        "\n",
        "# Data specific to the Penta vaccine\n",
        "data = {\n",
        "    'vaccine': ['Penta'],\n",
        "    'Sup_v': [26368.555349],\n",
        "    'm_v': [1],\n",
        "    'p_v': [0.20],\n",
        "    'mu_I_l': [255],\n",
        "    'sigma_I_l': [105]\n",
        "}\n",
        "df = pd.DataFrame(data)\n",
        "\n",
        "# Effectiveness per antigen for the Penta vaccine\n",
        "phi_va = {\n",
        "    'Penta': { 'Hib': 0.125, 'HepB': 0.125}\n",
        "}\n",
        "\n",
        "# Define the antigens that Penta vaccine affects\n",
        "antigens = [ 'Hib', 'HepB']\n",
        "\n",
        "def calculate_penta_outcome(df):\n",
        "    l = 7  # Lead time\n",
        "    alpha = 0.90  # Service level\n",
        "\n",
        "    # Assuming there is only one row for the Penta vaccine\n",
        "    row = df.iloc[0]\n",
        "    vaccine = row['vaccine']\n",
        "    E_N_v = row['m_v'] * row['p_v']\n",
        "    V_N_v = row['m_v'] * row['p_v'] * (1 - row['p_v'])\n",
        "    total_supplied = (row['Sup_v'] / row['m_v']) * E_N_v * (l + row['mu_I_l'])\n",
        "    total_variance = ((row['Sup_v'] / row['m_v'])**2) * ((V_N_v*(row['sigma_I_l']**2))+V_N_v * (l**2 + 2 * l * row['mu_I_l'] + row['mu_I_l']**2) + E_N_v**2 * (row['sigma_I_l']**2))\n",
        "\n",
        "    # Calculate the vaccine's contribution to each antigen it supplies\n",
        "    vaccine_contributions = {ant: phi_va[vaccine][ant] * total_supplied for ant in phi_va[vaccine]}\n",
        "    critical_antigen = max(vaccine_contributions, key= vaccine_contributions.get)\n",
        "\n",
        "    E_D_v = vaccine_contributions[critical_antigen]\n",
        "    V_D_v = (phi_va[vaccine][critical_antigen]**2) * total_variance\n",
        "    SS_v = norm.ppf(alpha) * np.sqrt(V_D_v)\n",
        "    R_v = E_D_v + SS_v\n",
        "\n",
        "    return {\n",
        "        'Vaccine': vaccine,\n",
        "        'Critical Antigen': critical_antigen,\n",
        "        'Expected Lead-time Demand': E_D_v,\n",
        "        'Safety Stock': SS_v,\n",
        "        'Re-order Level': R_v\n",
        "    }\n",
        "\n",
        "# Calculate and print the outcome for the Penta vaccine\n",
        "outcome = calculate_penta_outcome(df)\n",
        "print(f\"Vaccine: {outcome['Vaccine']}, Critical Antigen: {outcome['Critical Antigen']}, Expected Lead-time Demand: {outcome['Expected Lead-time Demand']}, Safety Stock: {outcome['Safety Stock']}, Re-order Level: {outcome['Re-order Level']}\")\n"
      ],
      "metadata": {
        "colab": {
          "base_uri": "https://localhost:8080/"
        },
        "id": "8xLuqhN09ViS",
        "outputId": "aa9cbf3b-05cd-4d30-9fae-63bb91577111"
      },
      "execution_count": null,
      "outputs": [
        {
          "output_type": "stream",
          "name": "stdout",
          "text": [
            "Vaccine: Penta, Critical Antigen: Hib, Expected Lead-time Demand: 172714.03753595, Safety Stock: 485090.2695318683, Re-order Level: 657804.3070678182\n"
          ]
        }
      ]
    },
    {
      "cell_type": "code",
      "source": [
        "import numpy as np\n",
        "import pandas as pd\n",
        "from scipy.stats import norm\n",
        "\n",
        "# Data specific to the Penta vaccine\n",
        "data = {\n",
        "    'vaccine': ['Penta'],\n",
        "    'Sup_v': [26368.555349],\n",
        "    'm_v': [1],\n",
        "    'p_v': [0.20],\n",
        "    'mu_I_l': [255],\n",
        "    'sigma_I_l': [105]\n",
        "}\n",
        "df = pd.DataFrame(data)\n",
        "\n",
        "# Effectiveness per antigen for the Penta vaccine\n",
        "phi_va = {\n",
        "    'Penta': {'DTwP': 0.3, 'Hib': 0.2, 'HepB': 0.5}\n",
        "}\n",
        "\n",
        "def simulate_supply_interruption(antigen, reduction_factor):\n",
        "    # Adjust effectiveness of the specified antigen by the reduction factor\n",
        "    phi_va_adjusted = phi_va.copy()\n",
        "    phi_va_adjusted['Penta'][antigen] *= reduction_factor\n",
        "\n",
        "    l = 7  # Lead time\n",
        "    alpha = 0.95  # Service level\n",
        "\n",
        "    # Extract the Penta vaccine row\n",
        "    row = df.iloc[0]\n",
        "    vaccine = row['vaccine']\n",
        "    E_N_v = row['m_v'] * row['p_v']\n",
        "    V_N_v = row['m_v'] * row['p_v'] * (1 - row['p_v'])\n",
        "    total_supplied = (row['Sup_v'] / row['m_v']) * E_N_v * (l + row['mu_I_l'])\n",
        "    total_variance = ((row['Sup_v'] / row['m_v'])**2) * ((V_N_v*(row['sigma_I_l']**2))+V_N_v * (l**2 + 2 * l * row['mu_I_l'] + row['mu_I_l']**2) + E_N_v**2 * (row['sigma_I_l']**2))\n",
        "\n",
        "    # Calculate the vaccine's contribution to each antigen with the adjusted effectiveness\n",
        "    vaccine_contributions = {ant: phi_va_adjusted['Penta'][ant] * total_supplied for ant in phi_va_adjusted['Penta']}\n",
        "    critical_antigen = max(vaccine_contributions, key= vaccine_contributions.get)\n",
        "\n",
        "    E_D_v = vaccine_contributions[critical_antigen]\n",
        "    V_D_v = (phi_va_adjusted['Penta'][critical_antigen]**2) * total_variance\n",
        "    SS_v = norm.ppf(alpha) * np.sqrt(V_D_v)\n",
        "    R_v = E_D_v + SS_v\n",
        "\n",
        "    return {\n",
        "        'Vaccine': vaccine,\n",
        "        'Critical Antigen': critical_antigen,\n",
        "        'Expected Lead-time Demand': E_D_v,\n",
        "        'Safety Stock': SS_v,\n",
        "        'Re-order Level': R_v\n",
        "    }\n",
        "\n",
        "# Example simulation: reduce the effectiveness of 'Hib' antigen by 50%\n",
        "outcome_adjusted = simulate_supply_interruption('Hib', 0.5)\n",
        "print(f\"After interruption in 'Hib' antigen:\")\n",
        "print(f\"Vaccine: {outcome_adjusted['Vaccine']}, Critical Antigen: {outcome_adjusted['Critical Antigen']}, Expected Lead-time Demand: {outcome_adjusted['Expected Lead-time Demand']}, Safety Stock: {outcome_adjusted['Safety Stock']}, Re-order Level: {outcome_adjusted['Re-order Level']}\")\n"
      ],
      "metadata": {
        "colab": {
          "base_uri": "https://localhost:8080/"
        },
        "id": "TVPxdWwW_W3g",
        "outputId": "b5aea806-59da-4674-9f85-341de5770f23"
      },
      "execution_count": null,
      "outputs": [
        {
          "output_type": "stream",
          "name": "stdout",
          "text": [
            "After interruption in 'Hib' antigen:\n",
            "Vaccine: Penta, Critical Antigen: HepB, Expected Lead-time Demand: 690856.1501438, Safety Stock: 2490426.482056659, Re-order Level: 3181282.632200459\n"
          ]
        }
      ]
    },
    {
      "cell_type": "code",
      "source": [
        "# the scenario where only Penta vaccine is in the system and one antigen is missing\n",
        "penta_data = {\n",
        "    'vaccine': ['Penta'],\n",
        "    'Sup_v': [26368.555349],\n",
        "    'm_v': [1],\n",
        "    'p_v': [0.20],  # Assuming one antigen missing, so the probability is 20%\n",
        "    'mu_I_l': [255],\n",
        "    'sigma_I_l': [105]\n",
        "}\n",
        "penta_df = pd.DataFrame(penta_data)\n",
        "\n",
        "# Calculate outcomes for the scenario with only Penta vaccine and one missing antigen\n",
        "penta_outcomes = calculate_outcomes(penta_df)\n",
        "\n",
        "# Get the information for Penta vaccine\n",
        "penta_info = penta_outcomes['Penta']\n",
        "\n",
        "# Calculate the total reorder quantity needed (Expected Lead-time Demand + Safety Stock)\n",
        "total_reorder_quantity = penta_info['Expected Lead-time Demand'] + penta_info['Safety Stock']\n",
        "\n",
        "print(f\"Total Penta vaccine to reorder to fill the gap and cover safety stock: {total_reorder_quantity}\")\n"
      ],
      "metadata": {
        "colab": {
          "base_uri": "https://localhost:8080/"
        },
        "id": "-coCZZWUlIpr",
        "outputId": "f5680c62-dfe9-4202-a0b4-cee46a5b35a4"
      },
      "execution_count": null,
      "outputs": [
        {
          "output_type": "stream",
          "name": "stdout",
          "text": [
            "Total Penta vaccine to reorder to fill the gap and cover safety stock: 3181282.632200459\n"
          ]
        }
      ]
    },
    {
      "cell_type": "code",
      "source": [
        "import sympy as sp\n",
        "\n",
        "# Define symbols\n",
        "m_v, p_v, Sup_v, mu_I_l, sigma_I_l, l, Z_alpha = sp.symbols('m_v p_v Sup_v mu_I_l sigma_I_l l Z_alpha')\n",
        "\n",
        "# Define V[K_v]\n",
        "V_K_v = (Sup_v/m_v)**2 * (m_v*p_v*(1-p_v)*(l**2 + 2*l*mu_I_l + mu_I_l**2) + (m_v*p_v)**2 * sigma_I_l**2)\n",
        "\n",
        "# Define SS\n",
        "SS = Z_alpha * sp.sqrt(V_K_v)\n",
        "\n",
        "# Compute partial derivatives\n",
        "partial_m_v = sp.diff(SS, m_v)\n",
        "partial_p_v = sp.diff(SS, p_v)\n",
        "partial_Sup_v = sp.diff(SS, Sup_v)\n",
        "partial_mu_I_l = sp.diff(SS, mu_I_l)\n",
        "partial_sigma_I_l = sp.diff(SS, sigma_I_l)\n",
        "\n",
        "# Display the results\n",
        "print(\"Partial Derivative with respect to m_v:\", partial_m_v)\n",
        "print(\"Partial Derivative with respect to p_v:\", partial_p_v)\n",
        "print(\"Partial Derivative with respect to Sup_v:\", partial_Sup_v)\n",
        "print(\"Partial Derivative with respect to mu_I_l:\", partial_mu_I_l)\n",
        "print(\"Partial Derivative with respect to sigma_I_l:\", partial_sigma_I_l)\n"
      ],
      "metadata": {
        "colab": {
          "base_uri": "https://localhost:8080/"
        },
        "id": "bAE1Gv7PB3D-",
        "outputId": "232ad8a9-6d0b-434d-b969-8a6cc767e0de"
      },
      "execution_count": null,
      "outputs": [
        {
          "output_type": "stream",
          "name": "stdout",
          "text": [
            "Partial Derivative with respect to m_v: Z_alpha*m_v**2*sqrt(Sup_v**2*(m_v**2*p_v**2*sigma_I_l**2 + m_v*p_v*(1 - p_v)*(l**2 + 2*l*mu_I_l + mu_I_l**2))/m_v**2)*(Sup_v**2*(2*m_v*p_v**2*sigma_I_l**2 + p_v*(1 - p_v)*(l**2 + 2*l*mu_I_l + mu_I_l**2))/(2*m_v**2) - Sup_v**2*(m_v**2*p_v**2*sigma_I_l**2 + m_v*p_v*(1 - p_v)*(l**2 + 2*l*mu_I_l + mu_I_l**2))/m_v**3)/(Sup_v**2*(m_v**2*p_v**2*sigma_I_l**2 + m_v*p_v*(1 - p_v)*(l**2 + 2*l*mu_I_l + mu_I_l**2)))\n",
            "Partial Derivative with respect to p_v: Z_alpha*sqrt(Sup_v**2*(m_v**2*p_v**2*sigma_I_l**2 + m_v*p_v*(1 - p_v)*(l**2 + 2*l*mu_I_l + mu_I_l**2))/m_v**2)*(2*m_v**2*p_v*sigma_I_l**2 - m_v*p_v*(l**2 + 2*l*mu_I_l + mu_I_l**2) + m_v*(1 - p_v)*(l**2 + 2*l*mu_I_l + mu_I_l**2))/(2*(m_v**2*p_v**2*sigma_I_l**2 + m_v*p_v*(1 - p_v)*(l**2 + 2*l*mu_I_l + mu_I_l**2)))\n",
            "Partial Derivative with respect to Sup_v: Z_alpha*sqrt(Sup_v**2*(m_v**2*p_v**2*sigma_I_l**2 + m_v*p_v*(1 - p_v)*(l**2 + 2*l*mu_I_l + mu_I_l**2))/m_v**2)/Sup_v\n",
            "Partial Derivative with respect to mu_I_l: Z_alpha*m_v*p_v*sqrt(Sup_v**2*(m_v**2*p_v**2*sigma_I_l**2 + m_v*p_v*(1 - p_v)*(l**2 + 2*l*mu_I_l + mu_I_l**2))/m_v**2)*(1 - p_v)*(2*l + 2*mu_I_l)/(2*(m_v**2*p_v**2*sigma_I_l**2 + m_v*p_v*(1 - p_v)*(l**2 + 2*l*mu_I_l + mu_I_l**2)))\n",
            "Partial Derivative with respect to sigma_I_l: Z_alpha*m_v**2*p_v**2*sigma_I_l*sqrt(Sup_v**2*(m_v**2*p_v**2*sigma_I_l**2 + m_v*p_v*(1 - p_v)*(l**2 + 2*l*mu_I_l + mu_I_l**2))/m_v**2)/(m_v**2*p_v**2*sigma_I_l**2 + m_v*p_v*(1 - p_v)*(l**2 + 2*l*mu_I_l + mu_I_l**2))\n"
          ]
        }
      ]
    },
    {
      "cell_type": "code",
      "source": [
        "# import numpy as np\n",
        "# import pandas as pd\n",
        "# from scipy.stats import norm\n",
        "# import matplotlib.pyplot as plt\n",
        "\n",
        "# # Load the data\n",
        "# data = {\n",
        "#     'vaccine': ['Penta', 'DTwP', 'Hib', 'HepB'],\n",
        "#     'Sup_v': [26368.555349, 1022.454187, 438.5176595975, 9232.92456283411],\n",
        "#     'm_v': [1, 7, 7, 1],\n",
        "#     'p_v': [0.20, 0.06, 0.06, 0.20],\n",
        "#     'mu_I_l': [255, 255, 255, 255],\n",
        "#     'sigma_I_l': [105, 105, 105,105]\n",
        "# }\n",
        "# df = pd.DataFrame(data)\n",
        "\n",
        "# # Constants\n",
        "# l = 7  # Lead time in days\n",
        "# alpha = 0.95  # Service level\n",
        "\n",
        "# def calculate_safety_stock(df):\n",
        "#     df['E_N_v'] = df['m_v'] * df['p_v']\n",
        "#     df['V_N_v'] = df['m_v'] * df['p_v'] * (1 - df['p_v'])\n",
        "#     df['E_K_v'] = (df['Sup_v'] / df['m_v']) * df['E_N_v'] * (l + df['mu_I_l'])\n",
        "#     df['V_K_v'] = ((df['Sup_v'] / df['m_v'])**2) * (df['V_N_v']*(df['sigma_I_l']**2)+df['V_N_v'] * (l**2 + 2 * l * df['mu_I_l'] + df['mu_I_l']**2) + df['E_N_v']**2 * (df['sigma_I_l']**2))\n",
        "#     df['SS_v'] = norm.ppf(alpha) * np.sqrt(df['V_K_v'])\n",
        "#     return df\n",
        "\n",
        "# def sensitivity_analysis(param, variations):\n",
        "#     results = []\n",
        "#     original_values = df[param].copy()\n",
        "#     for variation in variations:\n",
        "#         df[param] = original_values * variation\n",
        "#         results.append(calculate_safety_stock(df)['SS_v'].values)\n",
        "#     df[param] = original_values  # Restore original data\n",
        "#     return results\n",
        "\n",
        "# # Parameters to vary and their ranges\n",
        "# params_to_vary = ['m_v', 'p_v', 'Sup_v', 'mu_I_l', 'sigma_I_l']\n",
        "# variations = [0.8, 1.0, 1.2]  # 80%, 100%, 120% of the original value\n",
        "\n",
        "# # Perform sensitivity analysis and plot\n",
        "# fig, ax = plt.subplots(figsize=(10, 6))\n",
        "# for param in params_to_vary:\n",
        "#     results = sensitivity_analysis(param, variations)\n",
        "#     for i, vaccine in enumerate(df['vaccine']):\n",
        "#         ax.plot(variations, [result[i] for result in results], label=f'{param} - {vaccine}')\n",
        "\n",
        "# ax.set_xlabel('Variation Factor')\n",
        "# ax.set_ylabel('Safety Stock')\n",
        "# ax.set_title('Sensitivity Analysis of Safety Stock to Parameter Variations')\n",
        "# ax.legend()\n",
        "# plt.show()\n"
      ],
      "metadata": {
        "id": "1tYYowz5BM-0"
      },
      "execution_count": null,
      "outputs": []
    },
    {
      "cell_type": "code",
      "source": [
        "import numpy as np\n",
        "import pandas as pd\n",
        "import matplotlib.pyplot as plt\n",
        "from scipy.stats import norm\n",
        "\n",
        "base_data = {\n",
        "    'vaccine': ['Penta', 'DTwP', 'Hib', 'HepB'],\n",
        "    'Sup_v': [9624522.7025276, 373195.778261274, 160058.945753099, 3370017.46543445],\n",
        "    'm_v': [1, 7, 7, 1],\n",
        "    'p_v': [0.20, 0.06, 0.06, 0.20],\n",
        "    'mu_I_l': [12.3, 12.3, 12.3, 12.3],\n",
        "    'sigma_I_l': [42.06, 42.06, 42.06,42.06],\n",
        "    'phi_va': [[0.6, 0.2, 0.2], [1.0, 0, 0], [ 0, 1.0, 0], [ 0, 0, 1.0]]  # For Penta, DTwP, Hib, HepB\n",
        "}\n",
        "df = pd.DataFrame(base_data)\n",
        "\n",
        "# Antigen names for reference\n",
        "antigens = ['DTwP', 'Hib', 'HepB']\n",
        "\n",
        "# Function to calculate outcomes\n",
        "def calculate_outcomes(df):\n",
        "    l = 7  # Lead time\n",
        "    alpha = 0.95  # Service level\n",
        "    results = {'Expected Lead-time Demand': [], 'Safety Stock': [], 'Re-order Level': []}\n",
        "\n",
        "    for index, row in df.iterrows():\n",
        "        E_N_v = row['m_v'] * row['p_v']\n",
        "        V_N_v = row['m_v'] * row['p_v'] * (1 - row['p_v'])\n",
        "\n",
        "        E_D_v = sum(np.array(row['phi_va']) * (row['Sup_v'] / row['m_v']) * E_N_v * (l + row['mu_I_l']))\n",
        "        V_D_v = sum(np.array(row['phi_va'])**2 * (((row['Sup_v'] / row['m_v'])**2) +V_N_v * (l**2 + 2 * l * row['mu_I_l'] + row['mu_I_l']**2) + E_N_v**2 * (row['sigma_I_l']**2)))\n",
        "\n",
        "        SS_v = norm.ppf(alpha) * np.sqrt(V_D_v)\n",
        "        R_v = E_D_v + SS_v\n",
        "\n",
        "        results['Expected Lead-time Demand'].append(E_D_v)\n",
        "        results['Safety Stock'].append(SS_v)\n",
        "        results['Re-order Level'].append(R_v)\n",
        "    return results\n",
        "\n",
        "# Vary each parameter and plot results\n",
        "params_to_vary = ['mu_I_l', 'sigma_I_l', 'p_v']\n",
        "vary_factor = [0.8, 1, 1.2]  # Vary parameters by -20%, 0%, +20%\n",
        "\n",
        "fig, axes = plt.subplots(nrows=len(params_to_vary), ncols=3, figsize=(15, 10))\n",
        "fig.subplots_adjust(hspace=0.5, wspace=0.3)\n",
        "\n",
        "for idx, param in enumerate(params_to_vary):\n",
        "    for jdx, factor in enumerate(vary_factor):\n",
        "        temp_df = df.copy()\n",
        "        temp_df[param] = temp_df[param] * factor\n",
        "        outcomes = calculate_outcomes(temp_df)\n",
        "\n",
        "        # Plotting\n",
        "        for kdx, key in enumerate(['Expected Lead-time Demand', 'Safety Stock', 'Re-order Level']):\n",
        "            ax = axes[idx, kdx]\n",
        "            ax.bar(np.arange(len(df)), outcomes[key], alpha=0.35, label=f'{factor*100}% {param}')\n",
        "            ax.set_title(f'{key}')\n",
        "            ax.set_xticks(np.arange(len(df)))\n",
        "            ax.set_xticklabels(df['vaccine'])\n",
        "            ax.legend()\n",
        "\n",
        "plt.show()\n"
      ],
      "metadata": {
        "colab": {
          "base_uri": "https://localhost:8080/",
          "height": 853
        },
        "id": "yDoreGkZxzuQ",
        "outputId": "6ec7e36a-321b-4392-ba2f-50b7deb27863"
      },
      "execution_count": null,
      "outputs": [
        {
          "output_type": "display_data",
          "data": {
            "text/plain": [
              "<Figure size 1500x1000 with 9 Axes>"
            ],
            "image/png": "[encoded data removed]"
          },
          "metadata": {}
        }
      ]
    },
    {
      "cell_type": "code",
      "source": [
        "import numpy as np\n",
        "import pandas as pd\n",
        "from scipy.stats import norm\n",
        "\n",
        "# Define vaccine data\n",
        "data = {\n",
        "    'vaccine': ['Penta', 'DTwP', 'Hib', 'HepB'],\n",
        "    'Sup_v': [9624522.7025276, 373195.778261274, 160058.945753099, 3370017.46543445],\n",
        "    'm_v': [1, 7, 7, 1],\n",
        "    'p_v': [0.20, 0.06, 0.06, 0.20],\n",
        "    'mu_I_l': [12.3, 12.3, 12.3, 12.3],\n",
        "    'sigma_I_l': [150, 150, 150,150],\n",
        "}\n",
        "df = pd.DataFrame(data)\n",
        "\n",
        "# Constants\n",
        "l = 7  # Lead time in days\n",
        "alpha = 0.95  # Service level\n",
        "\n",
        "# Calculate expected numbers of interruption and its variance\n",
        "df['E_N_v'] = df['m_v'] * df['p_v']\n",
        "df['V_N_v'] = df['m_v'] * df['p_v'] * (1 - df['p_v'])\n",
        "\n",
        "# Calculate expected K_v and variance V[K_v]\n",
        "df['E_K_v'] = (df['Sup_v'] / df['m_v']) * df['E_N_v'] * (l + df['mu_I_l'])\n",
        "df['V_K_v'] = ((df['Sup_v'] / df['m_v'])**2) * ((df['V_N_v'] * (df['sigma_I_l']**2)) + df['V_N_v'] * (l**2 + 2 * l * df['mu_I_l'] + df['mu_I_l']**2) + df['E_N_v']**2 * (df['sigma_I_l']**2))\n",
        "\n",
        "# Define vaccine to antigen mapping and fraction contributions\n",
        "phi_va = {\n",
        "    'Penta': {'DTwP': 0.6, 'Hib': 0.2, 'HepB': 0.2},\n",
        "    'DTwP': {'DTwP': 1.0},\n",
        "    'Hib': {'Hib': 1.0},\n",
        "    'HepB': {'HepB': 1.0}\n",
        "}\n",
        "\n",
        "A_v = {\n",
        "    'Penta': ['DTwP', 'Hib', 'HepB'],\n",
        "    'DTwP': ['DTwP'],\n",
        "    'Hib': ['Hib'],\n",
        "    'HepB': ['HepB']\n",
        "}\n",
        "\n",
        "# Calculate expected lead-time demand and its variance for antigens\n",
        "D_a = {antigen: 0 for sublist in A_v.values() for antigen in sublist}\n",
        "V_D_a = {antigen: 0 for sublist in A_v.values() for antigen in sublist}\n",
        "\n",
        "for vaccine, antigens in A_v.items():\n",
        "    for antigen in antigens:\n",
        "        phi = phi_va[vaccine][antigen]\n",
        "        D_a[antigen] += phi * df.loc[df['vaccine'] == vaccine, 'E_K_v'].values[0]\n",
        "        V_D_a[antigen] += phi**2 * df.loc[df['vaccine'] == vaccine, 'V_K_v'].values[0]\n",
        "\n",
        "# Calculate safety stock and re-order level for each vaccine\n",
        "results = {}\n",
        "for vaccine in A_v:\n",
        "    critical_antigen = max(A_v[vaccine], key=lambda x: phi_va[vaccine][x] * D_a[x])  # Antigen with the max expected demand\n",
        "    phi = phi_va[vaccine][critical_antigen]\n",
        "    E_D_v = phi * D_a[critical_antigen]  # Expected demand for the vaccine\n",
        "    V_D_v = phi**2 * V_D_a[critical_antigen]  # Variance for the vaccine\n",
        "    SS_v = norm.ppf(alpha) * np.sqrt(V_D_v)  # Safety stock\n",
        "    R_v = E_D_v + SS_v  # Re-order level\n",
        "\n",
        "    results[vaccine] = {\n",
        "        'Critical Antigen': critical_antigen,\n",
        "        'Expected Lead-time Demand': E_D_v,\n",
        "        'Variance of Demand': V_D_v,\n",
        "        'Safety Stock': SS_v,\n",
        "        'Re-order Level': R_v\n",
        "    }\n",
        "\n",
        "# Display the results\n",
        "results\n"
      ],
      "metadata": {
        "colab": {
          "base_uri": "https://localhost:8080/"
        },
        "id": "HvunPfRXOIzX",
        "outputId": "3398c89c-5d44-4f10-f6f8-a0277aadb9a1"
      },
      "execution_count": null,
      "outputs": [
        {
          "output_type": "execute_result",
          "data": {
            "text/plain": [
              "{'Penta': {'Critical Antigen': 'DTwP',\n",
              "  'Expected Lead-time Demand': 13633533.174168285,\n",
              "  'Variance of Demand': 5.475143626870693e+16,\n",
              "  'Safety Stock': 384879708.4793146,\n",
              "  'Re-order Level': 398513241.6534829},\n",
              " 'DTwP': {'Critical Antigen': 'DTwP',\n",
              "  'Expected Lead-time Demand': 22722555.290280476,\n",
              "  'Variance of Demand': 1.5208732296863037e+17,\n",
              "  'Safety Stock': 641466180.7988577,\n",
              "  'Re-order Level': 664188736.0891382},\n",
              " 'Hib': {'Critical Antigen': 'Hib',\n",
              "  'Expected Lead-time Demand': 7615479.7855333965,\n",
              "  'Variance of Demand': 1.6901282473331034e+16,\n",
              "  'Safety Stock': 213839084.73788956,\n",
              "  'Re-order Level': 221454564.52342296},\n",
              " 'HepB': {'Critical Antigen': 'HepB',\n",
              "  'Expected Lead-time Demand': 20438398.942928288,\n",
              "  'Variance of Demand': 6.8677925935984264e+16,\n",
              "  'Safety Stock': 431058131.7606151,\n",
              "  'Re-order Level': 451496530.7035434}}"
            ]
          },
          "metadata": {},
          "execution_count": 14
        }
      ]
    },
    {
      "cell_type": "code",
      "source": [],
      "metadata": {
        "id": "WafEWmun_Nbr"
      },
      "execution_count": null,
      "outputs": []
    },
    {
      "cell_type": "code",
      "source": [],
      "metadata": {
        "id": "UIIRiBbd_NUB"
      },
      "execution_count": null,
      "outputs": []
    }
  ]
}